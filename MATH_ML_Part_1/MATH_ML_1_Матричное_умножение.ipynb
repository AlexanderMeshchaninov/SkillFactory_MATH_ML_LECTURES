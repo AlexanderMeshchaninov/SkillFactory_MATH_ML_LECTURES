{
 "cells": [
  {
   "cell_type": "code",
   "execution_count": 50,
   "metadata": {
    "collapsed": true
   },
   "outputs": [],
   "source": [
    "import numpy as np\n",
    "import pandas as pd"
   ]
  },
  {
   "cell_type": "code",
   "execution_count": 3,
   "metadata": {
    "collapsed": true
   },
   "outputs": [
    {
     "name": "stdout",
     "output_type": "stream",
     "text": [
      "A: [[ 9 11  6]\n",
      " [10  5 10]\n",
      " [11 11  6]]\n",
      "B: [[-1  3 -1]\n",
      " [-2  2  3]\n",
      " [ 3  1  1]]\n"
     ]
    }
   ],
   "source": [
    "# произведение матриц\n",
    "\n",
    "A = np.random.randint(5, 12, (3,3))\n",
    "B = np.random.randint(-2, 4, (3,3))\n",
    "\n",
    "print(f'A: {A}')\n",
    "print(f'B: {B}')\n"
   ]
  },
  {
   "cell_type": "code",
   "execution_count": 5,
   "metadata": {
    "collapsed": false
   },
   "outputs": [
    {
     "data": {
      "text/plain": [
       "array([[ -9,  33,  -6],\n",
       "       [-20,  10,  30],\n",
       "       [ 33,  11,   6]])"
      ]
     },
     "execution_count": 5,
     "metadata": {},
     "output_type": "execute_result"
    }
   ],
   "source": [
    "# Поэлементное умножение\n",
    "A * B"
   ]
  },
  {
   "cell_type": "code",
   "execution_count": 6,
   "metadata": {
    "collapsed": false
   },
   "outputs": [
    {
     "name": "stdout",
     "output_type": "stream",
     "text": [
      "[[-13  55  30]\n",
      " [ 10  50  15]\n",
      " [-15  61  28]]\n"
     ]
    }
   ],
   "source": [
    "# тип np.matrix\n",
    "\n",
    "A_m = np.matrix(A)\n",
    "B_m = np.matrix(B)\n",
    "\n",
    "print(A_m * B_m)"
   ]
  },
  {
   "cell_type": "code",
   "execution_count": 7,
   "metadata": {
    "collapsed": false
   },
   "outputs": [
    {
     "data": {
      "text/plain": [
       "array([[-13,  55,  30],\n",
       "       [ 10,  50,  15],\n",
       "       [-15,  61,  28]])"
      ]
     },
     "execution_count": 7,
     "metadata": {},
     "output_type": "execute_result"
    }
   ],
   "source": [
    "# Матричное умножение\n",
    "np.dot(A, B)"
   ]
  },
  {
   "cell_type": "code",
   "execution_count": 8,
   "metadata": {
    "collapsed": false
   },
   "outputs": [
    {
     "data": {
      "text/plain": [
       "array([[-13,  55,  30],\n",
       "       [ 10,  50,  15],\n",
       "       [-15,  61,  28]])"
      ]
     },
     "execution_count": 8,
     "metadata": {},
     "output_type": "execute_result"
    }
   ],
   "source": [
    "# Матричное умножение\n",
    "A @ B"
   ]
  },
  {
   "cell_type": "code",
   "execution_count": 9,
   "metadata": {
    "collapsed": false
   },
   "outputs": [
    {
     "data": {
      "text/plain": [
       "array([[10, -7, 18],\n",
       "       [35, 21, 26],\n",
       "       [48, 49, 34]])"
      ]
     },
     "execution_count": 9,
     "metadata": {},
     "output_type": "execute_result"
    }
   ],
   "source": [
    "# Порядок умножения AB != BA\n",
    "B @ A"
   ]
  },
  {
   "cell_type": "code",
   "execution_count": 10,
   "metadata": {
    "collapsed": false
   },
   "outputs": [
    {
     "name": "stdout",
     "output_type": "stream",
     "text": [
      "A:\n",
      " [[ 9  9  9 11  5]\n",
      " [ 6  8  5  7 10]\n",
      " [ 6  9 10  5  9]]\n",
      "B:\n",
      " [[ 1 -1]\n",
      " [ 3  1]\n",
      " [ 1  2]\n",
      " [ 1  3]\n",
      " [ 0  1]]\n"
     ]
    }
   ],
   "source": [
    "# Умножение прямоугольных матриц возможно не в любом порядке\n",
    "A = np.random.randint(5, 12, (3,5))\n",
    "B = np.random.randint(-2, 4, (5,2))\n",
    "\n",
    "print('A:\\n',A)\n",
    "print('B:\\n',B)"
   ]
  },
  {
   "cell_type": "code",
   "execution_count": 11,
   "metadata": {
    "collapsed": false
   },
   "outputs": [
    {
     "data": {
      "text/plain": [
       "array([[56, 56],\n",
       "       [42, 43],\n",
       "       [48, 47]])"
      ]
     },
     "execution_count": 11,
     "metadata": {},
     "output_type": "execute_result"
    }
   ],
   "source": [
    "# Умножение прямоугольных матриц возможно не в любом порядке\n",
    "A @ B"
   ]
  },
  {
   "cell_type": "code",
   "execution_count": 12,
   "metadata": {
    "collapsed": false
   },
   "outputs": [
    {
     "ename": "ValueError",
     "evalue": "matmul: Input operand 1 has a mismatch in its core dimension 0, with gufunc signature (n?,k),(k,m?)->(n?,m?) (size 3 is different from 2)",
     "output_type": "error",
     "traceback": [
      "\u001b[0;31m---------------------------------------------------------------------------\u001b[0m",
      "\u001b[0;31mValueError\u001b[0m                                Traceback (most recent call last)",
      "Cell \u001b[0;32mIn[12], line 2\u001b[0m\n\u001b[1;32m      1\u001b[0m \u001b[38;5;66;03m# Умножение прямоугольных матриц возможно не в любом порядке\u001b[39;00m\n\u001b[0;32m----> 2\u001b[0m \u001b[43mB\u001b[49m\u001b[43m \u001b[49m\u001b[38;5;241;43m@\u001b[39;49m\u001b[43m \u001b[49m\u001b[43mA\u001b[49m\n",
      "\u001b[0;31mValueError\u001b[0m: matmul: Input operand 1 has a mismatch in its core dimension 0, with gufunc signature (n?,k),(k,m?)->(n?,m?) (size 3 is different from 2)"
     ]
    }
   ],
   "source": [
    "# Умножение прямоугольных матриц возможно не в любом порядке\n",
    "B @ A"
   ]
  },
  {
   "cell_type": "code",
   "execution_count": 13,
   "metadata": {
    "collapsed": false
   },
   "outputs": [
    {
     "name": "stdout",
     "output_type": "stream",
     "text": [
      "shape of A: (3, 5)\n",
      "shape of B: (5, 2)\n",
      "shape of AB: (3, 2)\n"
     ]
    }
   ],
   "source": [
    "# размер произведения матриц\n",
    "print('shape of A:', np.shape(A))\n",
    "print('shape of B:', np.shape(B))\n",
    "print('shape of AB:', np.shape(A @ B))"
   ]
  },
  {
   "cell_type": "code",
   "execution_count": 14,
   "metadata": {
    "collapsed": false
   },
   "outputs": [
    {
     "name": "stdout",
     "output_type": "stream",
     "text": [
      "A:\n",
      " [[-2  2 -2  0]\n",
      " [-4 -3  1  1]\n",
      " [ 0 -1 -1  0]\n",
      " [-1 -4  1  2]]\n",
      "D:\n",
      " [[ 1  0  0  0]\n",
      " [ 0  2  0  0]\n",
      " [ 0  0  0  0]\n",
      " [ 0  0  0 -1]]\n",
      "AD:\n",
      " [[-2  4  0  0]\n",
      " [-4 -6  0 -1]\n",
      " [ 0 -2  0  0]\n",
      " [-1 -8  0 -2]]\n",
      "DA:\n",
      " [[-2  2 -2  0]\n",
      " [-8 -6  2  2]\n",
      " [ 0  0  0  0]\n",
      " [ 1  4 -1 -2]]\n"
     ]
    }
   ],
   "source": [
    "# умножение на специальные матрицы\n",
    "A = np.random.randint(-4, 4, (4,4))\n",
    "D = np.diag([1,2,0, -1])\n",
    "\n",
    "print('A:\\n',A)\n",
    "print('D:\\n',D)\n",
    "print('AD:\\n',A @ D)\n",
    "print('DA:\\n',D @ A)"
   ]
  },
  {
   "cell_type": "code",
   "execution_count": 17,
   "metadata": {
    "collapsed": false
   },
   "outputs": [
    {
     "name": "stdout",
     "output_type": "stream",
     "text": [
      "A:\n",
      " [[1 0 1]\n",
      " [1 1 1]]\n",
      "b:\n",
      " [-3  4  5]\n"
     ]
    },
    {
     "data": {
      "text/plain": [
       "array([2, 6])"
      ]
     },
     "execution_count": 17,
     "metadata": {},
     "output_type": "execute_result"
    }
   ],
   "source": [
    "# умножение на одномерный массив numpy\n",
    "A = np.array([[1,0,1],[1,1,1]])\n",
    "b = np.array([-3,4,5])\n",
    "\n",
    "print('A:\\n',A)\n",
    "print('b:\\n',b)\n",
    "\n",
    "A @ b"
   ]
  },
  {
   "cell_type": "code",
   "execution_count": 18,
   "metadata": {
    "collapsed": false
   },
   "outputs": [
    {
     "ename": "ValueError",
     "evalue": "matmul: Input operand 1 has a mismatch in its core dimension 0, with gufunc signature (n?,k),(k,m?)->(n?,m?) (size 2 is different from 3)",
     "output_type": "error",
     "traceback": [
      "\u001b[0;31m---------------------------------------------------------------------------\u001b[0m",
      "\u001b[0;31mValueError\u001b[0m                                Traceback (most recent call last)",
      "Cell \u001b[0;32mIn[18], line 1\u001b[0m\n\u001b[0;32m----> 1\u001b[0m \u001b[43mb\u001b[49m\u001b[43m \u001b[49m\u001b[38;5;241;43m@\u001b[39;49m\u001b[43m \u001b[49m\u001b[43mA\u001b[49m\n",
      "\u001b[0;31mValueError\u001b[0m: matmul: Input operand 1 has a mismatch in its core dimension 0, with gufunc signature (n?,k),(k,m?)->(n?,m?) (size 2 is different from 3)"
     ]
    }
   ],
   "source": [
    "b @ A"
   ]
  },
  {
   "cell_type": "code",
   "execution_count": 29,
   "metadata": {
    "collapsed": false
   },
   "outputs": [
    {
     "name": "stdout",
     "output_type": "stream",
     "text": [
      "[[ 1  1 -1]\n",
      " [ 1  0  2]\n",
      " [ 1 -1 -1]] <class 'numpy.ndarray'>\n"
     ]
    }
   ],
   "source": [
    "# матрица Грама ортогональной системы векторов\n",
    "x = np.array([1,1,1])\n",
    "y = np.array([1,0,-1])\n",
    "z = np.array([-1,2,-1])\n",
    "A = np.array([x,y,z]).T\n",
    "\n",
    "print (A, type(A))"
   ]
  },
  {
   "cell_type": "code",
   "execution_count": 30,
   "metadata": {
    "collapsed": false
   },
   "outputs": [
    {
     "name": "stdout",
     "output_type": "stream",
     "text": [
      "Матрица Грама: \n",
      "[[3 0 0]\n",
      " [0 2 0]\n",
      " [0 0 6]]\n"
     ]
    }
   ],
   "source": [
    "# матрица Грама ортогональной системы векторов\n",
    "print(f'Матрица Грама: \\n{A.T @ A}')"
   ]
  },
  {
   "cell_type": "code",
   "execution_count": 32,
   "metadata": {
    "collapsed": false
   },
   "outputs": [
    {
     "name": "stdout",
     "output_type": "stream",
     "text": [
      "[[ 0.57735027  0.57735027  0.57735027]\n",
      " [ 0.70710678  0.         -0.70710678]\n",
      " [-0.40824829  0.81649658 -0.40824829]] <class 'numpy.ndarray'>\n"
     ]
    }
   ],
   "source": [
    "# матрица Грама ортонормированной системы векторов\n",
    "x_norm = x / np.linalg.norm(x)\n",
    "y_norm = y / np.linalg.norm(y)\n",
    "z_norm = z / np.linalg.norm(z)\n",
    "A_norm = np.array([x_norm, y_norm, z_norm])\n",
    "\n",
    "print (A_norm, type(A_norm))"
   ]
  },
  {
   "cell_type": "code",
   "execution_count": 33,
   "metadata": {
    "collapsed": false
   },
   "outputs": [
    {
     "data": {
      "text/plain": [
       "array([[1., 0., 0.],\n",
       "       [0., 1., 0.],\n",
       "       [0., 0., 1.]])"
      ]
     },
     "execution_count": 33,
     "metadata": {},
     "output_type": "execute_result"
    }
   ],
   "source": [
    "# матрица Грама ортонормированной системы векторов\n",
    "A_norm @ A_norm.T"
   ]
  },
  {
   "cell_type": "code",
   "execution_count": 34,
   "metadata": {
    "collapsed": false
   },
   "outputs": [
    {
     "data": {
      "text/plain": [
       "array([[1., 0., 0.],\n",
       "       [0., 1., 0.],\n",
       "       [0., 0., 1.]])"
      ]
     },
     "execution_count": 34,
     "metadata": {},
     "output_type": "execute_result"
    }
   ],
   "source": [
    "# ортонормированные системы рулят! :)\n",
    "np.round(A_norm @ A_norm.T,1)"
   ]
  },
  {
   "cell_type": "markdown",
   "metadata": {},
   "source": [
    "# Практика"
   ]
  },
  {
   "cell_type": "markdown",
   "metadata": {},
   "source": [
    "Даны матрица  и вектор х:\n",
    "\n",
    "A = np.array([[5,-1,3,1,2], [-2,8,5,-1,1]])\n",
    "\n",
    "x = np.array([1,2,3,4,5])\n",
    "\n",
    "Найдите произведение матрицы A и вектора х в том порядке, в котором их можно умножить.\n",
    "\n",
    "В качестве ответа запишите координаты получившегося вектора через запятую, без пробелов. Пример ввода ответа: 1,1."
   ]
  },
  {
   "cell_type": "code",
   "execution_count": 116,
   "metadata": {},
   "outputs": [
    {
     "name": "stdout",
     "output_type": "stream",
     "text": [
      "[26 30]\n"
     ]
    }
   ],
   "source": [
    "A = np.array([[5,-1,3,1,2], [-2,8,5,-1,1]])\n",
    "x = np.array([1,2,3,4,5])\n",
    "\n",
    "c = A @ x.T\n",
    "print(c)"
   ]
  },
  {
   "cell_type": "markdown",
   "metadata": {},
   "source": [
    "Даны две матрицы:\n",
    "\n",
    "A = np.array([[1,9,8,5], [3,6,3,2], [3,3,3,3], [0,2,5,9], [4,4,1,2]])\n",
    "\n",
    "B = np.array([[1,-1,0,1,1], [-2,0,2,-1,1]])\n",
    "\n",
    "Найдите произведение матриц  и  в том порядке, в котором их можно умножить.\n",
    "\n",
    "В качестве ответа через запятую, без пробелов запишите элемент чётвертого столбца первой строки."
   ]
  },
  {
   "cell_type": "code",
   "execution_count": 103,
   "metadata": {},
   "outputs": [
    {
     "name": "stdout",
     "output_type": "stream",
     "text": [
      "(5, 4)\n",
      "(2, 5)\n"
     ]
    }
   ],
   "source": [
    "A = np.array([[1,9,8,5], [3,6,3,2], [3,3,3,3], [0,2,5,9], [4,4,1,2]])\n",
    "B = np.array([[1,-1,0,1,1], [-2,0,2,-1,1]])\n",
    "print(A.shape)\n",
    "print(B.shape)"
   ]
  },
  {
   "cell_type": "code",
   "execution_count": 106,
   "metadata": {},
   "outputs": [
    {
     "name": "stdout",
     "output_type": "stream",
     "text": [
      "Произведение матриц A и B: \n",
      "[[  2   9  11  14]\n",
      " [  8 -10 -14 -11]]\n",
      "14\n"
     ]
    }
   ],
   "source": [
    "C = B @ A\n",
    "print(f'Произведение матриц A и B: \\n{C}')\n",
    "print(C[0,3])"
   ]
  },
  {
   "cell_type": "markdown",
   "metadata": {},
   "source": [
    "Дана система векторов:\n",
    "\n",
    "x = np.array([1,2,1,0,4])\n",
    "\n",
    "y = np.array([2,1,-1,1,0])\n",
    "\n",
    "z = np.array([-1,1,-1,0,0])\n",
    "\n",
    "Составьте матрицу A, расположив векторы x, y, z в строках. Найдите матрицу Грама G (матрицу скалярных произведений столбцов матрицы A) системы векторов x, y, z.\n",
    "\n",
    "Чему равна полученная матрица Грама ?"
   ]
  },
  {
   "cell_type": "code",
   "execution_count": 45,
   "metadata": {},
   "outputs": [],
   "source": [
    "x = np.array([1,2,1,0,4])\n",
    "y = np.array([2,1,-1,1,0])\n",
    "z = np.array([-1,1,-1,0,0])"
   ]
  },
  {
   "cell_type": "code",
   "execution_count": 49,
   "metadata": {},
   "outputs": [
    {
     "name": "stdout",
     "output_type": "stream",
     "text": [
      "[[ 1  2  1  0  4]\n",
      " [ 2  1 -1  1  0]\n",
      " [-1  1 -1  0  0]]\n",
      "Матрица Грама: \n",
      "[[ 6  3  0  2  4]\n",
      " [ 3  6  0  1  8]\n",
      " [ 0  0  3 -1  4]\n",
      " [ 2  1 -1  1  0]\n",
      " [ 4  8  4  0 16]]\n"
     ]
    }
   ],
   "source": [
    "A = np.array([x, y, z])\n",
    "print(A)\n",
    "\n",
    "G = A.T @ A\n",
    "\n",
    "print(f'Матрица Грама: \\n{G}')"
   ]
  },
  {
   "cell_type": "markdown",
   "metadata": {},
   "source": [
    "В салоне красоты «Феи ножниц» работают восемь стилистов: Аня, Борис, Вика, Галя, Дима, Егор, Женя и Юра. \n",
    "\n",
    "Вам предоставлены две таблицы (DataFrame): Count_DF и Price_DF.\n",
    "\n",
    "* В DataFrame Count_DF содержится информация по количеству услуг, оказанных каждым стилистом за апрель.\n",
    "* В DataFrame Price_DF содержится информация по стоимости услуг у каждого стилиста в тысячах рублей."
   ]
  },
  {
   "cell_type": "code",
   "execution_count": 61,
   "metadata": {},
   "outputs": [
    {
     "name": "stdout",
     "output_type": "stream",
     "text": [
      "       Женские стрижки  Мужские стрижки  Окрашивания  Укладка  Уход\n",
      "Аня                 10                5           12       15    10\n",
      "Борис                2               21            3       25     6\n",
      "Вика                12               12            0       30     4\n",
      "Галя                 4                8           18       14     5\n",
      "Дима                 6               25           27       25    18\n",
      "Егор                10                3            2       17    12\n",
      "Женя                22                1            4       25    20\n",
      "Юра                  7                0           31       31    28\n",
      "\n",
      "       Женские стрижки  Мужские стрижки  Окрашивания  Укладка  Уход\n",
      "Аня                2.0              1.5          1.0      0.8   1.0\n",
      "Борис              1.8              2.5          1.0      1.0   1.0\n",
      "Вика               2.0              2.0          0.0      0.5   2.0\n",
      "Галя               1.8              1.2          2.8      0.8   2.0\n",
      "Дима               2.5              3.5          2.0      1.0   1.5\n",
      "Егор               5.0              5.0          3.0      2.0   2.5\n",
      "Женя               1.1              1.0          1.5      0.5   1.7\n",
      "Юра                4.5              4.0          2.5      1.0   2.0\n"
     ]
    }
   ],
   "source": [
    "Count_DF = pd.DataFrame({\n",
    "    'Женские стрижки': [10, 2, 12, 4, 6, 10, 22, 7], \n",
    "    'Мужские стрижки': [5, 21, 12, 8, 25, 3, 1, 0], \n",
    "    'Окрашивания':[12, 3, 0, 18, 27, 2, 4, 31],\n",
    "    'Укладка':[15, 25, 30, 14, 25, 17, 25, 31],\n",
    "    'Уход':[10, 6, 4, 5, 18, 12, 20, 28]\n",
    "    }, \n",
    "    index=['Аня', 'Борис', 'Вика', 'Галя', 'Дима', 'Егор', 'Женя','Юра']\n",
    ")\n",
    "\n",
    "Price_DF = pd.DataFrame({\n",
    "    'Женские стрижки': [2, 1.8, 2, 1.8, 2.5, 5, 1.1, 4.5], \n",
    "    'Мужские стрижки': [1.5, 2.5, 2, 1.2, 3.5, 5, 1, 4], \n",
    "    'Окрашивания':[1, 1, 0, 2.8, 2, 3, 1.5, 2.5],\n",
    "    'Укладка':[0.8, 1, 0.5, 0.8, 1, 2, 0.5, 1],\n",
    "    'Уход':[1, 1, 2, 2, 1.5, 2.5, 1.7, 2] \n",
    "    }, \n",
    "    index=['Аня', 'Борис', 'Вика', 'Галя', 'Дима', 'Егор', 'Женя','Юра']\n",
    ")\n",
    "\n",
    "print(Count_DF)\n",
    "print()\n",
    "print(Price_DF)"
   ]
  },
  {
   "cell_type": "markdown",
   "metadata": {},
   "source": [
    "Найдите вектор дохода салона по стилистам, если за каждую услугу стилисты платят салону определённую «комиссию».\n",
    "\n",
    "Вектор комиссий: com = np.array([0.2, 0.2, 0.3, 0.1, 0.1]).\n",
    "\n",
    "Выберите координаты вектора прибыли салона:"
   ]
  },
  {
   "cell_type": "code",
   "execution_count": 57,
   "metadata": {},
   "outputs": [],
   "source": [
    "# Вектор комиссии\n",
    "com = np.array([0.2, 0.2, 0.3, 0.1, 0.1])"
   ]
  },
  {
   "cell_type": "code",
   "execution_count": 59,
   "metadata": {},
   "outputs": [
    {
     "name": "stdout",
     "output_type": "stream",
     "text": [
      "[[10  5 12 15 10]\n",
      " [ 2 21  3 25  6]\n",
      " [12 12  0 30  4]\n",
      " [ 4  8 18 14  5]\n",
      " [ 6 25 27 25 18]\n",
      " [10  3  2 17 12]\n",
      " [22  1  4 25 20]\n",
      " [ 7  0 31 31 28]]\n",
      "\n",
      "[[2.  1.5 1.  0.8 1. ]\n",
      " [1.8 2.5 1.  1.  1. ]\n",
      " [2.  2.  0.  0.5 2. ]\n",
      " [1.8 1.2 2.8 0.8 2. ]\n",
      " [2.5 3.5 2.  1.  1.5]\n",
      " [5.  5.  3.  2.  2.5]\n",
      " [1.1 1.  1.5 0.5 1.7]\n",
      " [4.5 4.  2.5 1.  2. ]]\n"
     ]
    }
   ],
   "source": [
    "# Переводим df в виде матриц\n",
    "Count_A = Count_DF.values\n",
    "Price_B = Price_DF.values\n",
    "\n",
    "print(Count_A)\n",
    "print()\n",
    "print(Price_B)"
   ]
  },
  {
   "cell_type": "code",
   "execution_count": 86,
   "metadata": {},
   "outputs": [
    {
     "name": "stdout",
     "output_type": "stream",
     "text": [
      "[[20.   7.5 12.  12.  10. ]\n",
      " [ 3.6 52.5  3.  25.   6. ]\n",
      " [24.  24.   0.  15.   8. ]\n",
      " [ 7.2  9.6 50.4 11.2 10. ]\n",
      " [15.  87.5 54.  25.  27. ]\n",
      " [50.  15.   6.  34.  30. ]\n",
      " [24.2  1.   6.  12.5 34. ]\n",
      " [31.5  0.  77.5 31.  56. ]]\n",
      "\n",
      "Доход салона: [11.3  15.22 11.9  20.6  41.9  21.2  11.49 38.25]\n"
     ]
    }
   ],
   "source": [
    "# Поэлементное умножение количества услуг на стоимость\n",
    "total_revenue = Count_A * Price_B\n",
    "print(total_revenue)\n",
    "\n",
    "print()\n",
    "\n",
    "income = np.dot(total_revenue, com)\n",
    "print(f'Доход салона: {income}')"
   ]
  },
  {
   "cell_type": "markdown",
   "metadata": {},
   "source": [
    "Найдите вектор дохода стилистов.\n",
    "\n",
    "Выберите координаты полученного вектора:"
   ]
  },
  {
   "cell_type": "code",
   "execution_count": 101,
   "metadata": {},
   "outputs": [
    {
     "name": "stdout",
     "output_type": "stream",
     "text": [
      "Доход cтилистов: [ 50.2   74.88  59.1   67.8  166.6  113.8   66.21 157.75]\n"
     ]
    }
   ],
   "source": [
    "# Доход стилистов за вычетом коммиссии салона (доля за одну услугу - комиссия (np.ones(5) - com))\n",
    "commissioned_revenue = (Count_A * Price_B) @ (np.ones(5) - com)\n",
    "print(f'Доход cтилистов: {commissioned_revenue}')"
   ]
  }
 ],
 "metadata": {
  "kernelspec": {
   "display_name": "Python 3",
   "language": "python",
   "name": "python3"
  },
  "language_info": {
   "codemirror_mode": {
    "name": "ipython",
    "version": 3
   },
   "file_extension": ".py",
   "mimetype": "text/x-python",
   "name": "python",
   "nbconvert_exporter": "python",
   "pygments_lexer": "ipython3",
   "version": "3.12.1"
  }
 },
 "nbformat": 4,
 "nbformat_minor": 2
}

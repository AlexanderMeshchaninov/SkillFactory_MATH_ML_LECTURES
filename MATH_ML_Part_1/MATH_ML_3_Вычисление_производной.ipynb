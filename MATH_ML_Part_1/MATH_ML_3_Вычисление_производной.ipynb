{
 "cells": [
  {
   "cell_type": "markdown",
   "metadata": {},
   "source": [
    "# Вычисление производной"
   ]
  },
  {
   "cell_type": "markdown",
   "metadata": {},
   "source": [
    "Для того чтобы найти производную с помощью SymPy, необходимо лишь указать, какой буквой обозначается переменная, ввести функцию и применить метод diff()."
   ]
  },
  {
   "cell_type": "markdown",
   "metadata": {},
   "source": [
    "Вычислить производную для функции $f(x) = x^4 + 3x^3 + 4x^2 + 8$"
   ]
  },
  {
   "cell_type": "code",
   "execution_count": 2,
   "metadata": {},
   "outputs": [
    {
     "data": {
      "text/latex": [
       "$\\displaystyle 4 x^{3} + 9 x^{2} + 8 x$"
      ],
      "text/plain": [
       "4*x**3 + 9*x**2 + 8*x"
      ]
     },
     "execution_count": 2,
     "metadata": {},
     "output_type": "execute_result"
    }
   ],
   "source": [
    "from sympy import Symbol\n",
    "\n",
    "x = Symbol('x')\n",
    "# Функция\n",
    "f = x**4 + 3 * x**3 + 4 * x**2 + 8\n",
    "f.diff(x)"
   ]
  },
  {
   "cell_type": "markdown",
   "metadata": {},
   "source": [
    "Примечание: Если необходимо найти производную, в которой фигурирует, например, логарифмическая, экспоненциальная или тригонометрическая функция, их необходимо импортировать из библиотеки."
   ]
  },
  {
   "cell_type": "markdown",
   "metadata": {},
   "source": [
    "Вычислить производную для функции $f(x) = ln(x^2 + 5_x) + e^sin(x)$"
   ]
  },
  {
   "cell_type": "code",
   "execution_count": 3,
   "metadata": {},
   "outputs": [
    {
     "data": {
      "text/latex": [
       "$\\displaystyle \\frac{2 x + 5}{x^{2} + 5 x} + e^{\\sin{\\left(x \\right)}} \\cos{\\left(x \\right)}$"
      ],
      "text/plain": [
       "(2*x + 5)/(x**2 + 5*x) + exp(sin(x))*cos(x)"
      ]
     },
     "execution_count": 3,
     "metadata": {},
     "output_type": "execute_result"
    }
   ],
   "source": [
    "from sympy import diff, sin, cos, log, Symbol, exp\n",
    "\n",
    "x = Symbol('x')\n",
    "\n",
    "f = log(x**2 + 5 * x) + exp(sin(x))\n",
    "f.diff(x)"
   ]
  },
  {
   "cell_type": "markdown",
   "metadata": {},
   "source": [
    "Найти производную для функции: $y = sin(x * 3 + log(x)) * exp(x)$"
   ]
  },
  {
   "cell_type": "code",
   "execution_count": 4,
   "metadata": {},
   "outputs": [
    {
     "data": {
      "text/latex": [
       "$\\displaystyle \\left(3 + \\frac{1}{x}\\right) e^{x} \\cos{\\left(3 x + \\log{\\left(x \\right)} \\right)} + e^{x} \\sin{\\left(3 x + \\log{\\left(x \\right)} \\right)}$"
      ],
      "text/plain": [
       "(3 + 1/x)*exp(x)*cos(3*x + log(x)) + exp(x)*sin(3*x + log(x))"
      ]
     },
     "execution_count": 4,
     "metadata": {},
     "output_type": "execute_result"
    }
   ],
   "source": [
    "x = Symbol('x')\n",
    "\n",
    "y = sin(x * 3 + log(x)) * exp(x)\n",
    "y.diff(x)"
   ]
  },
  {
   "cell_type": "markdown",
   "metadata": {},
   "source": [
    "# Вычисление второй производной (производная от производной)"
   ]
  },
  {
   "cell_type": "markdown",
   "metadata": {},
   "source": [
    "Надо лишь добавить в метод diff() ещё один аргумент — порядок дифференцирования. Так как мы ищем производную второго порядка, то ставим в качестве аргумента 2:"
   ]
  },
  {
   "cell_type": "code",
   "execution_count": 5,
   "metadata": {},
   "outputs": [
    {
     "data": {
      "text/latex": [
       "$\\displaystyle - e^{\\sin{\\left(x \\right)}} \\sin{\\left(x \\right)} + e^{\\sin{\\left(x \\right)}} \\cos^{2}{\\left(x \\right)} + \\frac{2}{x \\left(x + 5\\right)} - \\frac{\\left(2 x + 5\\right)^{2}}{x^{2} \\left(x + 5\\right)^{2}}$"
      ],
      "text/plain": [
       "-exp(sin(x))*sin(x) + exp(sin(x))*cos(x)**2 + 2/(x*(x + 5)) - (2*x + 5)**2/(x**2*(x + 5)**2)"
      ]
     },
     "execution_count": 5,
     "metadata": {},
     "output_type": "execute_result"
    }
   ],
   "source": [
    "from sympy import diff, sin,exp, log, Symbol\n",
    "\n",
    "x = Symbol('x')\n",
    "\n",
    "f = log(x**2 + 5 * x) + exp(sin(x))\n",
    "f.diff(x, 2)"
   ]
  },
  {
   "cell_type": "markdown",
   "metadata": {},
   "source": [
    "Найти вторую производную: $y = 3x^4 - 2x^3 + 4x^2 - 5x +1$"
   ]
  },
  {
   "cell_type": "code",
   "execution_count": 6,
   "metadata": {},
   "outputs": [
    {
     "data": {
      "text/latex": [
       "$\\displaystyle 4 \\left(9 x^{2} - 3 x + 2\\right)$"
      ],
      "text/plain": [
       "4*(9*x**2 - 3*x + 2)"
      ]
     },
     "execution_count": 6,
     "metadata": {},
     "output_type": "execute_result"
    }
   ],
   "source": [
    "x = Symbol('x')\n",
    "\n",
    "y = 3 * x**4 - 2 * x**3 + 4 * x**2 - 5 * x + 1\n",
    "y.diff(x, 2)"
   ]
  },
  {
   "cell_type": "markdown",
   "metadata": {},
   "source": [
    "Найти производную: $f(x) = ln(5x + 3)$"
   ]
  },
  {
   "cell_type": "code",
   "execution_count": 7,
   "metadata": {},
   "outputs": [
    {
     "data": {
      "text/latex": [
       "$\\displaystyle \\frac{5}{5 x + 3}$"
      ],
      "text/plain": [
       "5/(5*x + 3)"
      ]
     },
     "execution_count": 7,
     "metadata": {},
     "output_type": "execute_result"
    }
   ],
   "source": [
    "x = Symbol('x')\n",
    "\n",
    "f = log(5 * x + 3)\n",
    "f.diff(x)"
   ]
  },
  {
   "cell_type": "markdown",
   "metadata": {},
   "source": [
    "Найти производную $y = sin^23x$"
   ]
  },
  {
   "cell_type": "code",
   "execution_count": 8,
   "metadata": {},
   "outputs": [
    {
     "data": {
      "text/latex": [
       "$\\displaystyle 6 \\sin{\\left(3 x \\right)} \\cos{\\left(3 x \\right)}$"
      ],
      "text/plain": [
       "6*sin(3*x)*cos(3*x)"
      ]
     },
     "execution_count": 8,
     "metadata": {},
     "output_type": "execute_result"
    }
   ],
   "source": [
    "f = sin(3 * x)**2\n",
    "f.diff(x)"
   ]
  },
  {
   "cell_type": "markdown",
   "metadata": {},
   "source": [
    "Найти производную для $y = 2x^3 * ln(x)$ в точке 1:"
   ]
  },
  {
   "cell_type": "code",
   "execution_count": 9,
   "metadata": {},
   "outputs": [
    {
     "name": "stdout",
     "output_type": "stream",
     "text": [
      "Производная функции: 6*x**2*log(x) + 2*x**2\n",
      "Значение производной в точке x = 1: 2\n"
     ]
    }
   ],
   "source": [
    "x = Symbol('x')\n",
    "y = 2 * x**3 * log(x)\n",
    "\n",
    "y_pr = diff(y, x)\n",
    "\n",
    "point = 1\n",
    "\n",
    "x_1 = y_pr.subs(x, point)\n",
    "\n",
    "print(\"Производная функции:\", y_pr)\n",
    "print(\"Значение производной в точке x = 1:\", x_1)"
   ]
  },
  {
   "cell_type": "markdown",
   "metadata": {},
   "source": [
    "Найти производную для $y = \\frac{x}{x^2 + 1}$ в точке 0:"
   ]
  },
  {
   "cell_type": "code",
   "execution_count": 10,
   "metadata": {},
   "outputs": [
    {
     "name": "stdout",
     "output_type": "stream",
     "text": [
      "Производная функции: -2*x**2/(x**2 + 1)**2 + 1/(x**2 + 1)\n",
      "Значение производной в точке x = 0: 1\n"
     ]
    }
   ],
   "source": [
    "x = Symbol('x')\n",
    "y = x / (x**2 + 1)\n",
    "\n",
    "y_pr = diff(y, x)\n",
    "\n",
    "point = 0\n",
    "\n",
    "x_1 = y_pr.subs(x, point)\n",
    "\n",
    "print(\"Производная функции:\", y_pr)\n",
    "print(\"Значение производной в точке x = 0:\", x_1)"
   ]
  },
  {
   "cell_type": "markdown",
   "metadata": {},
   "source": [
    "Найти производную для $y = \\sqrt{1 + x^2}$"
   ]
  },
  {
   "cell_type": "code",
   "execution_count": 11,
   "metadata": {},
   "outputs": [
    {
     "data": {
      "text/latex": [
       "$\\displaystyle \\frac{x}{\\sqrt{x^{2} + 1}}$"
      ],
      "text/plain": [
       "x/sqrt(x**2 + 1)"
      ]
     },
     "execution_count": 11,
     "metadata": {},
     "output_type": "execute_result"
    }
   ],
   "source": [
    "from sympy import sqrt\n",
    "x = Symbol('x')\n",
    "y = sqrt(1 + x**2)\n",
    "y.diff(x)"
   ]
  },
  {
   "cell_type": "markdown",
   "metadata": {},
   "source": [
    "Найти вторую производную для $f(x) = x^4 + 5x$ в точке 5:"
   ]
  },
  {
   "cell_type": "code",
   "execution_count": 12,
   "metadata": {},
   "outputs": [
    {
     "name": "stdout",
     "output_type": "stream",
     "text": [
      "Производная функции: 4*x**3 + 5\n",
      "Значение производной в точке x = 5: 505\n",
      "Производная функции: 12*x**2\n",
      "Значение производной в точке x = 5: 300\n"
     ]
    }
   ],
   "source": [
    "x = Symbol('x')\n",
    "f = x**4 + 5 * x\n",
    "point = 5\n",
    "\n",
    "f_pr = diff(f, x)\n",
    "x_1 = f_pr.subs(x, point)\n",
    "\n",
    "# Первая производная\n",
    "print(\"Производная функции:\", f_pr)\n",
    "print(\"Значение производной в точке x = 5:\", x_1)\n",
    "\n",
    "# Вторая производная\n",
    "f_pr_2 = diff(f_pr, x)\n",
    "x_1 = f_pr_2.subs(x, point)\n",
    "\n",
    "# Первая производная\n",
    "print(\"Производная функции:\", f_pr_2)\n",
    "print(\"Значение производной в точке x = 5:\", x_1)"
   ]
  },
  {
   "cell_type": "code",
   "execution_count": 16,
   "metadata": {},
   "outputs": [
    {
     "name": "stdout",
     "output_type": "stream",
     "text": [
      "Производная функции: 3*x**2 - 6\n",
      "Производная функции: 6*x\n"
     ]
    }
   ],
   "source": [
    "x = Symbol('x')\n",
    "f = x**3 - 6 * x\n",
    "\n",
    "f_pr = diff(f, x)\n",
    "\n",
    "# Первая производная\n",
    "print(\"Производная функции:\", f_pr)\n",
    "\n",
    "# Вторая производная\n",
    "f_pr_2 = diff(f_pr, x)\n",
    "\n",
    "# Первая производная\n",
    "print(\"Производная функции:\", f_pr_2)"
   ]
  },
  {
   "cell_type": "markdown",
   "metadata": {},
   "source": [
    "# Точки минимума и максимума"
   ]
  },
  {
   "cell_type": "code",
   "execution_count": 18,
   "metadata": {},
   "outputs": [
    {
     "name": "stdout",
     "output_type": "stream",
     "text": [
      "x = -sqrt(2)*I/2 — точка минимума\n",
      "x = sqrt(2)*I/2 — точка минимума\n"
     ]
    }
   ],
   "source": [
    "from sympy import symbols, diff, solve\n",
    "\n",
    "# Определяем переменную\n",
    "x = symbols('x')\n",
    "\n",
    "# Определяем функцию\n",
    "f = x**2 + log(x)\n",
    "# 1. Найти первую производную\n",
    "f_prime = diff(f, x)\n",
    "\n",
    "# 2. Найти критические точки (приравняв первую производную к 0)\n",
    "critical_points = solve(f_prime, x)\n",
    "\n",
    "# 3. Найти вторую производную\n",
    "f_double_prime = diff(f_prime, x)\n",
    "\n",
    "# 4. Определяем, максимум или минимум в критических точках\n",
    "for point in critical_points:\n",
    "    second_derivative_value = f_double_prime.subs(x, point)\n",
    "    if second_derivative_value > 0:\n",
    "        print(f\"x = {point} — точка минимума\")\n",
    "    elif second_derivative_value < 0:\n",
    "        print(f\"x = {point} — точка максимума\")\n",
    "    else:\n",
    "        print(f\"x = {point} — не определено (возможно, точка перегиба)\")"
   ]
  }
 ],
 "metadata": {
  "kernelspec": {
   "display_name": "Python 3",
   "language": "python",
   "name": "python3"
  },
  "language_info": {
   "codemirror_mode": {
    "name": "ipython",
    "version": 3
   },
   "file_extension": ".py",
   "mimetype": "text/x-python",
   "name": "python",
   "nbconvert_exporter": "python",
   "pygments_lexer": "ipython3",
   "version": "3.12.1"
  }
 },
 "nbformat": 4,
 "nbformat_minor": 2
}

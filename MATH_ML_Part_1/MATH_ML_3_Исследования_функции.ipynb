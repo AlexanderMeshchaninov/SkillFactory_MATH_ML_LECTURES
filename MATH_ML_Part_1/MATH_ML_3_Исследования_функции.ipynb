{
 "cells": [
  {
   "cell_type": "markdown",
   "metadata": {},
   "source": [
    "# Исследование функции: \n",
    "\n",
    "1. Нахождение области определения и области значений  функции.\n",
    "\n",
    "2. Нахождение точек пересечения графика функции с осями координат.\n",
    "\n",
    "3. Исследование функции на чётность и нечётность.\n",
    "\n",
    "4. Нахождение точек минимума и максимума функции, а также  промежутков возрастания и убывания.\n",
    "\n",
    "5. Нахождение промежутков выпуклости и вогнутости функции и точек перегиба.\n",
    "\n",
    "6. Нахождение асимптот функции."
   ]
  },
  {
   "cell_type": "markdown",
   "metadata": {},
   "source": [
    "### 1. Область определения функции (часть 1)"
   ]
  },
  {
   "cell_type": "code",
   "execution_count": 1,
   "metadata": {},
   "outputs": [],
   "source": [
    "from sympy import Symbol, S, sqrt, log, sin # импортируем нужные функции для обозначения переменных\n",
    "from sympy.calculus.util import function_range # импортируем функцию для поиска области значения\n",
    "from sympy.calculus.util import continuous_domain # импортируем функцию для поиска области определения"
   ]
  },
  {
   "cell_type": "markdown",
   "metadata": {},
   "source": [
    "Например найдем области определения для функции: $f(x) = \\frac{1}{x}$"
   ]
  },
  {
   "cell_type": "code",
   "execution_count": 2,
   "metadata": {},
   "outputs": [
    {
     "data": {
      "text/latex": [
       "$\\displaystyle \\left(-\\infty, 0\\right) \\cup \\left(0, \\infty\\right)$"
      ],
      "text/plain": [
       "Union(Interval.open(-oo, 0), Interval.open(0, oo))"
      ]
     },
     "execution_count": 2,
     "metadata": {},
     "output_type": "execute_result"
    }
   ],
   "source": [
    "x = Symbol('x') # определяем переменную\n",
    "f = 1/x # определяем нашу функцию\n",
    "\n",
    "# вычисляем область опредления\n",
    "continuous_domain(f, x, S.Reals)"
   ]
  },
  {
   "cell_type": "markdown",
   "metadata": {},
   "source": [
    "Найдем области определения $f(x) = \\frac{\\sqrt{x + 2}}{x^2 - 9}$"
   ]
  },
  {
   "cell_type": "code",
   "execution_count": 7,
   "metadata": {},
   "outputs": [
    {
     "data": {
      "text/latex": [
       "$\\displaystyle \\left[-2, 3\\right) \\cup \\left(3, \\infty\\right)$"
      ],
      "text/plain": [
       "Union(Interval.Ropen(-2, 3), Interval.open(3, oo))"
      ]
     },
     "execution_count": 7,
     "metadata": {},
     "output_type": "execute_result"
    }
   ],
   "source": [
    "x = Symbol('x')\n",
    "f = sqrt(x + 2) / (x**2 - 9)\n",
    "continuous_domain(f, x, S.Reals)"
   ]
  },
  {
   "cell_type": "markdown",
   "metadata": {},
   "source": [
    "Найдем область определения $f(x) = \\frac{log(x)}{x}$"
   ]
  },
  {
   "cell_type": "code",
   "execution_count": 10,
   "metadata": {},
   "outputs": [
    {
     "data": {
      "text/latex": [
       "$\\displaystyle \\left(0, \\infty\\right)$"
      ],
      "text/plain": [
       "Interval.open(0, oo)"
      ]
     },
     "execution_count": 10,
     "metadata": {},
     "output_type": "execute_result"
    }
   ],
   "source": [
    "x = Symbol('x')\n",
    "f = log(x) / x\n",
    "continuous_domain(f, x, S.Reals)"
   ]
  },
  {
   "cell_type": "markdown",
   "metadata": {},
   "source": [
    "### 1. Область значения функции (часть 2)"
   ]
  },
  {
   "cell_type": "code",
   "execution_count": 4,
   "metadata": {},
   "outputs": [],
   "source": [
    "from sympy.calculus.util import function_range #импортируем функцию для поиска области значений"
   ]
  },
  {
   "cell_type": "markdown",
   "metadata": {},
   "source": [
    "Найдем область значений функции для $f(x) = \\frac{15}{x^2 + 1}$"
   ]
  },
  {
   "cell_type": "code",
   "execution_count": 7,
   "metadata": {},
   "outputs": [
    {
     "data": {
      "text/latex": [
       "$\\displaystyle \\left(0, 15\\right]$"
      ],
      "text/plain": [
       "Interval.Lopen(0, 15)"
      ]
     },
     "execution_count": 7,
     "metadata": {},
     "output_type": "execute_result"
    }
   ],
   "source": [
    "x = Symbol('x')\n",
    "f = 15 / (x**2 + 1)\n",
    "function_range(f, x, S.Reals)"
   ]
  },
  {
   "cell_type": "markdown",
   "metadata": {},
   "source": [
    "Найдем область значений для $f(x) = \\frac{2}{\\sqrt{2_x - 1}} + 3$"
   ]
  },
  {
   "cell_type": "code",
   "execution_count": 9,
   "metadata": {},
   "outputs": [
    {
     "data": {
      "text/latex": [
       "$\\displaystyle \\left(3, \\infty\\right)$"
      ],
      "text/plain": [
       "Interval.open(3, oo)"
      ]
     },
     "execution_count": 9,
     "metadata": {},
     "output_type": "execute_result"
    }
   ],
   "source": [
    "x = Symbol('x')\n",
    "f = 2 / sqrt(2 * x - 1) + 3\n",
    "function_range(f, x, S.Reals)"
   ]
  },
  {
   "cell_type": "markdown",
   "metadata": {},
   "source": [
    "Найдем облать значения для $f(x) = sin(x)$"
   ]
  },
  {
   "cell_type": "code",
   "execution_count": 10,
   "metadata": {},
   "outputs": [
    {
     "data": {
      "text/latex": [
       "$\\displaystyle \\left[-1, 1\\right]$"
      ],
      "text/plain": [
       "Interval(-1, 1)"
      ]
     },
     "execution_count": 10,
     "metadata": {},
     "output_type": "execute_result"
    }
   ],
   "source": [
    "x = Symbol('x')\n",
    "f = sin(x)\n",
    "function_range(f, x, S.Reals)"
   ]
  },
  {
   "cell_type": "markdown",
   "metadata": {},
   "source": [
    "Найдем облать значения для $f(x) = \\frac{x^2 - 3}{e^x}$"
   ]
  },
  {
   "cell_type": "code",
   "execution_count": 12,
   "metadata": {},
   "outputs": [
    {
     "data": {
      "text/latex": [
       "$\\displaystyle \\left[- 2 e, \\infty\\right)$"
      ],
      "text/plain": [
       "Interval(-2*E, oo)"
      ]
     },
     "execution_count": 12,
     "metadata": {},
     "output_type": "execute_result"
    }
   ],
   "source": [
    "from sympy import exp #добавляем функцию для вычисления экспоненциальной функции\n",
    "\n",
    "x = Symbol('x')\n",
    "f = (x**2 - 3) / (exp(x))\n",
    "function_range(f, x, S.Reals)"
   ]
  },
  {
   "cell_type": "markdown",
   "metadata": {},
   "source": [
    "### 2. Точки пересечения с осями координат"
   ]
  },
  {
   "cell_type": "markdown",
   "metadata": {},
   "source": [
    "Найдем точки пересечения с осями координат для $f(x) = \\frac{x^2 - 2_x}{x - 1}$"
   ]
  },
  {
   "cell_type": "markdown",
   "metadata": {},
   "source": [
    "Сначала найдём точку пересечения с осью ординат (0 Y). Для этого просто подставим 0 вместо значения x f.(subs(x, 0)):"
   ]
  },
  {
   "cell_type": "code",
   "execution_count": 30,
   "metadata": {},
   "outputs": [
    {
     "data": {
      "text/latex": [
       "$\\displaystyle 0$"
      ],
      "text/plain": [
       "0"
      ]
     },
     "execution_count": 30,
     "metadata": {},
     "output_type": "execute_result"
    }
   ],
   "source": [
    "# Определяем переменную x\n",
    "x = Symbol('x')\n",
    "\n",
    "# Определяем функцию f(x)\n",
    "f = (x**2 - 2 * x) / (x - 1)\n",
    "\n",
    "# Подставляем x = 0 в функцию, чтобы найти значение f(0) (точка пересечения с осью OY)\n",
    "f.subs(x, 0)"
   ]
  },
  {
   "cell_type": "markdown",
   "metadata": {},
   "source": [
    "Теперь найдём точку пересечения с осью абсцисс (0 X). Для этого решим уравнение, в котором приравняем нашу функцию к нулю:"
   ]
  },
  {
   "cell_type": "code",
   "execution_count": 34,
   "metadata": {},
   "outputs": [
    {
     "data": {
      "text/latex": [
       "$\\displaystyle \\left\\{0, 2\\right\\}$"
      ],
      "text/plain": [
       "{0, 2}"
      ]
     },
     "execution_count": 34,
     "metadata": {},
     "output_type": "execute_result"
    }
   ],
   "source": [
    "from sympy import solveset, Eq\n",
    "\n",
    "# Используем solveset для нахождения решений уравнения f(x) = 0 (точки пересечения с осью OX)\n",
    "# Решаем уравнение, приравнивая функцию к нулю\n",
    "solveset(Eq((x**2 - 2 * x) / (x - 1), 0), x)"
   ]
  },
  {
   "cell_type": "markdown",
   "metadata": {},
   "source": [
    "Найдем точки пересечения с осями координат для $f(x) = x^2 + 5_x + 4$"
   ]
  },
  {
   "cell_type": "code",
   "execution_count": 35,
   "metadata": {},
   "outputs": [
    {
     "data": {
      "text/latex": [
       "$\\displaystyle 4$"
      ],
      "text/plain": [
       "4"
      ]
     },
     "execution_count": 35,
     "metadata": {},
     "output_type": "execute_result"
    }
   ],
   "source": [
    "# Определяем переменную x\n",
    "x = Symbol('x')\n",
    "\n",
    "# Определяем функцию f(x)\n",
    "f = (x**2 + 5 * x + 4)\n",
    "# Подставляем x = 0 в функцию, чтобы найти значение f(0) (точка пересечения с осью OY)\n",
    "f.subs(x, 0)"
   ]
  },
  {
   "cell_type": "code",
   "execution_count": 36,
   "metadata": {},
   "outputs": [
    {
     "data": {
      "text/latex": [
       "$\\displaystyle \\left\\{-4, -1\\right\\}$"
      ],
      "text/plain": [
       "{-4, -1}"
      ]
     },
     "execution_count": 36,
     "metadata": {},
     "output_type": "execute_result"
    }
   ],
   "source": [
    "# Используем solveset для нахождения решений уравнения f(x) = 0 (точки пересечения с осью OX)\n",
    "# Решаем уравнение, приравнивая функцию к нулю\n",
    "solveset(Eq((x**2 + 5 * x + 4), 0), x)"
   ]
  },
  {
   "cell_type": "markdown",
   "metadata": {},
   "source": [
    "### 3. Проверка на чётность и нечётность функции"
   ]
  },
  {
   "cell_type": "markdown",
   "metadata": {},
   "source": [
    "Проверим функцию $f(x) = 5 * x^2 - 4 * |x|$"
   ]
  },
  {
   "cell_type": "code",
   "execution_count": 37,
   "metadata": {},
   "outputs": [
    {
     "name": "stdout",
     "output_type": "stream",
     "text": [
      "Чётная функция: True\n",
      "Нечётная функция: False\n"
     ]
    }
   ],
   "source": [
    "from sympy import symbols, Abs\n",
    "\n",
    "# Определяем переменную и функцию\n",
    "# Abs(x) - модуль x\n",
    "x = Symbol('x')\n",
    "f = 5 * x**2 - 4 * Abs(x)\n",
    "\n",
    "# Проверяем чётность: f(-x) == f(x)\n",
    "is_even = f.subs(x, - x) == f\n",
    "\n",
    "# Проверяем нечётность: f(-x) == -f(x)\n",
    "is_odd = f.subs(x, -x) == -f\n",
    "\n",
    "# Выводим результаты\n",
    "print(f\"Чётная функция: {is_even}\")\n",
    "print(f\"Нечётная функция: {is_odd}\")"
   ]
  },
  {
   "cell_type": "markdown",
   "metadata": {},
   "source": [
    "Проверим функцию $f(x) = x^2 - x$"
   ]
  },
  {
   "cell_type": "code",
   "execution_count": 38,
   "metadata": {},
   "outputs": [
    {
     "name": "stdout",
     "output_type": "stream",
     "text": [
      "Чётная функция: False\n",
      "Нечётная функция: False\n"
     ]
    }
   ],
   "source": [
    "# Определяем переменную и функцию\n",
    "# Abs(x) - модуль x\n",
    "x = Symbol('x')\n",
    "f = x**2 - x\n",
    "\n",
    "# Проверяем чётность: f(-x) == f(x)\n",
    "is_even = f.subs(x, - x) == f\n",
    "\n",
    "# Проверяем нечётность: f(-x) == -f(x)\n",
    "is_odd = f.subs(x, -x) == -f\n",
    "\n",
    "# Выводим результаты\n",
    "print(f\"Чётная функция: {is_even}\")\n",
    "print(f\"Нечётная функция: {is_odd}\")"
   ]
  },
  {
   "cell_type": "markdown",
   "metadata": {},
   "source": [
    "Данный результат не удовлетворяет ни условиям чётности, ни условиям нечётности."
   ]
  },
  {
   "cell_type": "markdown",
   "metadata": {},
   "source": [
    "Проверим функцию $f(x) = x - 4 * (x)^3$"
   ]
  },
  {
   "cell_type": "code",
   "execution_count": 42,
   "metadata": {},
   "outputs": [
    {
     "name": "stdout",
     "output_type": "stream",
     "text": [
      "Чётная функция: False\n",
      "Нечётная функция: True\n"
     ]
    }
   ],
   "source": [
    "x = Symbol('x')\n",
    "f = x - 4 * (x)**3\n",
    "\n",
    "# Проверяем чётность: f(-x) == f(x)\n",
    "is_even = f.subs(x, - x) == f\n",
    "\n",
    "# Проверяем нечётность: f(-x) == -f(x)\n",
    "is_odd = f.subs(x, -x) == -f\n",
    "\n",
    "# Выводим результаты\n",
    "print(f\"Чётная функция: {is_even}\")\n",
    "print(f\"Нечётная функция: {is_odd}\")"
   ]
  },
  {
   "cell_type": "markdown",
   "metadata": {},
   "source": [
    "# Практика"
   ]
  },
  {
   "cell_type": "markdown",
   "metadata": {},
   "source": [
    "Найдите область определения и область значений функции $f(x) = x^2 + 1$:"
   ]
  },
  {
   "cell_type": "code",
   "execution_count": 48,
   "metadata": {},
   "outputs": [
    {
     "data": {
      "text/latex": [
       "$\\displaystyle \\mathbb{R}$"
      ],
      "text/plain": [
       "Reals"
      ]
     },
     "execution_count": 48,
     "metadata": {},
     "output_type": "execute_result"
    }
   ],
   "source": [
    "x = Symbol('x')\n",
    "f = x**2 + 1\n",
    "# вычисляем область опредления\n",
    "continuous_domain(f, x, S.Reals)"
   ]
  },
  {
   "cell_type": "code",
   "execution_count": 49,
   "metadata": {},
   "outputs": [
    {
     "data": {
      "text/latex": [
       "$\\displaystyle \\left[1, \\infty\\right)$"
      ],
      "text/plain": [
       "Interval(1, oo)"
      ]
     },
     "execution_count": 49,
     "metadata": {},
     "output_type": "execute_result"
    }
   ],
   "source": [
    "# Область значения\n",
    "function_range(f, x, S.Reals)"
   ]
  },
  {
   "cell_type": "markdown",
   "metadata": {},
   "source": [
    "Какая из представленных ниже функций является чётной?"
   ]
  },
  {
   "cell_type": "code",
   "execution_count": 50,
   "metadata": {},
   "outputs": [
    {
     "name": "stdout",
     "output_type": "stream",
     "text": [
      "Чётная функция 0: True\n",
      "Нечётная функция 0: False\n",
      "Чётная функция 1: False\n",
      "Нечётная функция 1: False\n",
      "Чётная функция 2: False\n",
      "Нечётная функция 2: False\n",
      "Чётная функция 3: False\n",
      "Нечётная функция 3: False\n"
     ]
    }
   ],
   "source": [
    "x = Symbol('x')\n",
    "f = [x**4 + x**2, x**2 + x, (x + 1)**2, x**3 + x**2]\n",
    "\n",
    "for i, func in enumerate(f):\n",
    "    # Проверяем чётность: f(-x) == f(x)\n",
    "    is_even = func.subs(x, - x) == func\n",
    "\n",
    "    # Проверяем нечётность: f(-x) == -f(x)\n",
    "    is_odd = func.subs(x, -x) == -func\n",
    "\n",
    "    # Выводим результаты\n",
    "    print(f\"Чётная функция {i}: {is_even}\")\n",
    "    print(f\"Нечётная функция {i}: {is_odd}\")"
   ]
  },
  {
   "cell_type": "markdown",
   "metadata": {},
   "source": [
    "Дана функция $6_x + 3_y = 18$.\n",
    "\n",
    "1. Найдите координату, в которой данная прямая пересекает ось x:"
   ]
  },
  {
   "cell_type": "code",
   "execution_count": 61,
   "metadata": {},
   "outputs": [
    {
     "name": "stdout",
     "output_type": "stream",
     "text": [
      "Точка пересечения с осью x: x = 3\n"
     ]
    }
   ],
   "source": [
    "from sympy import symbols, Eq, solve\n",
    "\n",
    "# Определяем переменную x\n",
    "x, y = symbols('x y')\n",
    "\n",
    "# Уравнение прямой\n",
    "f = Eq(6 * x + 3 * y, 18)\n",
    "\n",
    "# Для пересечения с осью x, y = 0\n",
    "x_intercept = solve(f.subs(y, 0), x)\n",
    "print(f\"Точка пересечения с осью x: x = {x_intercept[0]}\")"
   ]
  },
  {
   "cell_type": "markdown",
   "metadata": {},
   "source": [
    "2. Найдите координату, в которой данная прямая пересекает ось y:"
   ]
  },
  {
   "cell_type": "code",
   "execution_count": 62,
   "metadata": {},
   "outputs": [
    {
     "name": "stdout",
     "output_type": "stream",
     "text": [
      "Точка пересечения с осью y: y = 6\n"
     ]
    }
   ],
   "source": [
    "# Для пересечения с осью y, x = 0\n",
    "y_intercept = solve(f.subs(x, 0), y)\n",
    "print(f\"Точка пересечения с осью y: y = {y_intercept[0]}\")"
   ]
  },
  {
   "cell_type": "markdown",
   "metadata": {},
   "source": [
    "Найдите координаты пересечения с осью x для функции $y = x^2 + 2_x - 8$:"
   ]
  },
  {
   "cell_type": "code",
   "execution_count": 68,
   "metadata": {},
   "outputs": [
    {
     "data": {
      "text/latex": [
       "$\\displaystyle \\left\\{-4, 2\\right\\}$"
      ],
      "text/plain": [
       "{-4, 2}"
      ]
     },
     "execution_count": 68,
     "metadata": {},
     "output_type": "execute_result"
    }
   ],
   "source": [
    "from sympy import solveset, Eq\n",
    "x = Symbol('x')\n",
    "\n",
    "solveset(Eq(x**2 + 2*x - 8, 0), x)"
   ]
  },
  {
   "cell_type": "markdown",
   "metadata": {},
   "source": [
    "Найдите область значений для функции $f(x) = \\frac{3}{x^2 - 10}$"
   ]
  },
  {
   "cell_type": "code",
   "execution_count": 69,
   "metadata": {},
   "outputs": [
    {
     "data": {
      "text/latex": [
       "$\\displaystyle \\left(-\\infty, - \\frac{3}{10}\\right] \\cup \\left(0, \\infty\\right)$"
      ],
      "text/plain": [
       "Union(Interval(-oo, -3/10), Interval.open(0, oo))"
      ]
     },
     "execution_count": 69,
     "metadata": {},
     "output_type": "execute_result"
    }
   ],
   "source": [
    "x = Symbol('x')\n",
    "f = 3 / (x**2 - 10)\n",
    "function_range(f, x, S.Reals)"
   ]
  }
 ],
 "metadata": {
  "kernelspec": {
   "display_name": "Python 3",
   "language": "python",
   "name": "python3"
  },
  "language_info": {
   "codemirror_mode": {
    "name": "ipython",
    "version": 3
   },
   "file_extension": ".py",
   "mimetype": "text/x-python",
   "name": "python",
   "nbconvert_exporter": "python",
   "pygments_lexer": "ipython3",
   "version": "3.12.1"
  }
 },
 "nbformat": 4,
 "nbformat_minor": 2
}

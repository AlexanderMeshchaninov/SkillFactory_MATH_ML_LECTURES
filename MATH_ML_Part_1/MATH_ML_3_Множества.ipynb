{
 "cells": [
  {
   "cell_type": "markdown",
   "metadata": {},
   "source": [
    "# Множества"
   ]
  },
  {
   "cell_type": "markdown",
   "metadata": {},
   "source": [
    "Для тренировки создадим два множества:\n",
    "\n",
    "- Во множестве A будут храниться уникальные ID клиентов компании, которые пользуются мобильной связью.\n",
    "- Во множестве B — уникальные ID клиентов компании, которые используют домашний интернет."
   ]
  },
  {
   "cell_type": "code",
   "execution_count": 1,
   "metadata": {},
   "outputs": [],
   "source": [
    "A = {'ID453', 'ID312', 'ID41', 'ID3', 'ID500', 'ID920', 'ID36', 'ID27'} # Мобильная связь\n",
    "B = {'ID41', 'ID36', 'ID27', 'ID124', 'ID7', 'ID501', 'ID91' } # Домашний интернет"
   ]
  },
  {
   "cell_type": "markdown",
   "metadata": {},
   "source": [
    "### Объединение множеств"
   ]
  },
  {
   "cell_type": "markdown",
   "metadata": {},
   "source": [
    "В качестве результата мы получим тех клиентов, которые используют хотя бы одну из двух услуг компании:"
   ]
  },
  {
   "cell_type": "code",
   "execution_count": 3,
   "metadata": {},
   "outputs": [
    {
     "name": "stdout",
     "output_type": "stream",
     "text": [
      "{'ID453', 'ID7', 'ID41', 'ID27', 'ID3', 'ID124', 'ID501', 'ID91', 'ID920', 'ID312', 'ID500', 'ID36'}\n",
      "{'ID453', 'ID7', 'ID41', 'ID27', 'ID3', 'ID124', 'ID501', 'ID91', 'ID920', 'ID312', 'ID500', 'ID36'}\n"
     ]
    }
   ],
   "source": [
    "union_AB = A.union(B)\n",
    "print(union_AB)\n",
    "\n",
    "# Или так\n",
    "\n",
    "union_AB = A | B\n",
    "print(union_AB)"
   ]
  },
  {
   "cell_type": "markdown",
   "metadata": {},
   "source": [
    "### Пересечение множеств"
   ]
  },
  {
   "cell_type": "markdown",
   "metadata": {},
   "source": [
    "В контексте нашего примера мы получим клиентов, которые пользуются обеими услугами:"
   ]
  },
  {
   "cell_type": "code",
   "execution_count": 5,
   "metadata": {},
   "outputs": [
    {
     "name": "stdout",
     "output_type": "stream",
     "text": [
      "{'ID36', 'ID41', 'ID27'}\n",
      "{'ID36', 'ID41', 'ID27'}\n"
     ]
    }
   ],
   "source": [
    "inter_AB = A.intersection(B)\n",
    "print(inter_AB)\n",
    "\n",
    "# Или так\n",
    "\n",
    "inter_AB = A & B\n",
    "print(inter_AB)"
   ]
  },
  {
   "cell_type": "markdown",
   "metadata": {},
   "source": [
    "### Разность множеств"
   ]
  },
  {
   "cell_type": "markdown",
   "metadata": {},
   "source": [
    "В данном случае мы получим перечень тех клиентов, которые используют мобильную связь, однако не используют домашний интернет."
   ]
  },
  {
   "cell_type": "code",
   "execution_count": 6,
   "metadata": {},
   "outputs": [
    {
     "name": "stdout",
     "output_type": "stream",
     "text": [
      "{'ID453', 'ID3', 'ID920', 'ID312', 'ID500'}\n",
      "{'ID453', 'ID3', 'ID920', 'ID312', 'ID500'}\n"
     ]
    }
   ],
   "source": [
    "diff_AB = A.difference(B)\n",
    "print(diff_AB)\n",
    "\n",
    "# Или так\n",
    "\n",
    "diff_AB = A - B\n",
    "print(diff_AB)"
   ]
  },
  {
   "cell_type": "markdown",
   "metadata": {},
   "source": [
    "Если поменять два множества местами при выполнении операции разности, результат изменится. В нашем примере результатом будут клиенты, которые пользуются только домашним интернетом:"
   ]
  },
  {
   "cell_type": "code",
   "execution_count": 7,
   "metadata": {},
   "outputs": [
    {
     "name": "stdout",
     "output_type": "stream",
     "text": [
      "{'ID91', 'ID124', 'ID501', 'ID7'}\n"
     ]
    }
   ],
   "source": [
    "diff_BA = B - A\n",
    "print(diff_BA)"
   ]
  },
  {
   "cell_type": "markdown",
   "metadata": {},
   "source": [
    "Примечание: Разность можно также использовать для нахождения дополнения ко множеству, если заранее задать универсальное множество для задачи."
   ]
  },
  {
   "cell_type": "markdown",
   "metadata": {},
   "source": [
    "### Симметрическая разность"
   ]
  },
  {
   "cell_type": "markdown",
   "metadata": {},
   "source": [
    "В качестве результата получим клиентов, которые пользуются только какой-то одной из услуг:"
   ]
  },
  {
   "cell_type": "code",
   "execution_count": 8,
   "metadata": {},
   "outputs": [
    {
     "name": "stdout",
     "output_type": "stream",
     "text": [
      "{'ID7', 'ID453', 'ID124', 'ID91', 'ID500', 'ID3', 'ID501', 'ID920', 'ID312'}\n",
      "{'ID7', 'ID453', 'ID124', 'ID91', 'ID500', 'ID3', 'ID501', 'ID920', 'ID312'}\n"
     ]
    }
   ],
   "source": [
    "symm_AB = A.symmetric_difference(B)\n",
    "print(symm_AB)\n",
    "\n",
    "# Или так\n",
    "\n",
    "symm_AB = A ^ B\n",
    "print(symm_AB)"
   ]
  },
  {
   "cell_type": "markdown",
   "metadata": {},
   "source": [
    "# SymPy\n",
    "\n",
    "Это библиотека Python для выполнения символьных вычислений. Это система компьютерной алгебры, которая может выступать как отдельное приложение, так и в качестве библиотеки для других приложений (как это реализовано, например, в Python).\n",
    "\n",
    "Такие системы, как SymPy, помогают выполнять вычисления разного рода (производные, интегралы, пределы, решение уравнений, работа с матрицами) в символьном виде. Это значит, что получаемые результаты будут понятны и хорошо читаемы, так как будут выводиться в привычном для нас виде."
   ]
  },
  {
   "cell_type": "code",
   "execution_count": 15,
   "metadata": {},
   "outputs": [
    {
     "data": {
      "text/latex": [
       "$\\displaystyle \\left\\{1, 3, 7, 9, 10\\right\\}$"
      ],
      "text/plain": [
       "{1, 3, 7, 9, 10}"
      ]
     },
     "metadata": {},
     "output_type": "display_data"
    }
   ],
   "source": [
    "from sympy import FiniteSet, Union # Для работы со множествами\n",
    "l1 = [1,3,7,10]\n",
    "l2 = [9,7,1]\n",
    "\n",
    "a = FiniteSet(*l1) # То же самое, что FiniteSet(1,3,7,10)\n",
    "b = FiniteSet(*l2) # * используется для распаковки списка\n",
    "\n",
    "display(Union(a, b))"
   ]
  },
  {
   "cell_type": "markdown",
   "metadata": {},
   "source": [
    "Также с помощью этой библиотеки можно задать множество не прямым перечислением элементов, а с помощью условий и математических выражений:"
   ]
  },
  {
   "cell_type": "code",
   "execution_count": 14,
   "metadata": {},
   "outputs": [
    {
     "data": {
      "text/latex": [
       "$\\displaystyle \\left\\{x\\; \\middle|\\; x \\in \\left[2, 9\\right] \\wedge x^{2} - 5 x = 0 \\right\\}$"
      ],
      "text/plain": [
       "ConditionSet(x, Eq(x**2 - 5*x, 0), Interval(2, 9))"
      ]
     },
     "metadata": {},
     "output_type": "display_data"
    }
   ],
   "source": [
    "from sympy import ConditionSet, Eq, Symbol, Interval\n",
    "\n",
    "x = Symbol('x')\n",
    "s = ConditionSet(x, Eq(x**2 - 5*x, 0), Interval(2,9))\n",
    "display(s)"
   ]
  },
  {
   "cell_type": "markdown",
   "metadata": {},
   "source": [
    "В данном примере мы задали множество, в котором находятся все числа из отрезка от 2 до 9, для которых верно, что они являются корнями уравнения $x^2 - 5_x = 0$."
   ]
  },
  {
   "cell_type": "markdown",
   "metadata": {},
   "source": [
    "# Практика"
   ]
  },
  {
   "cell_type": "markdown",
   "metadata": {},
   "source": [
    "Представьте, что вы являетесь куратором образовательной программы, на которой будет два вебинара: по программированию и по машинному обучению.\n",
    "\n",
    "На вебинар по программированию записались потенциальные слушатели со следующими электронными адресами:\n",
    "\n",
    "- bennet@xyz.com\n",
    "- darcy@abc.com\n",
    "- margaret@xyz.com\n",
    "- pa@hhh.com\n",
    "- marimari@xyz.com\n",
    "- mallika@yahoo.com\n",
    "- abc@xyz.com\n",
    "- 0071235@gmail.ru\n",
    "\n",
    "На вебинар по машинному обучению записались потенциальные слушатели со следующими электронными адресами:\n",
    "\n",
    "- marimari@xyz.com\n",
    "- darcy@abc.com\n",
    "- 0071235@gmail.ru\n",
    "- darcy@abc.com\n",
    "- petr44@xyz.com\n",
    "- katrin@ya.com\n",
    "\n",
    "Оформите множества в Python для обоих списков слушателей."
   ]
  },
  {
   "cell_type": "code",
   "execution_count": 19,
   "metadata": {},
   "outputs": [],
   "source": [
    "prog = {'bennet@xyz.com',\n",
    "'darcy@abc.com',\n",
    "'margaret@xyz.com',\n",
    "'pa@hhh.com',\n",
    "'marimari@xyz.com',\n",
    "'mallika@yahoo.com',\n",
    "'abc@xyz.com',\n",
    "'0071235@gmail.ru'}\n",
    "\n",
    "ml = {'marimari@xyz.com',\n",
    "'darcy@abc.com',\n",
    "'0071235@gmail.ru',\n",
    "'darcy@abc.com',\n",
    "'petr44@xyz.com',\n",
    "'katrin@ya.com'}"
   ]
  },
  {
   "cell_type": "markdown",
   "metadata": {},
   "source": [
    "С помощью операций множеств в Python определите, сколько слушателей записалось на оба вебинара."
   ]
  },
  {
   "cell_type": "code",
   "execution_count": 22,
   "metadata": {},
   "outputs": [
    {
     "name": "stdout",
     "output_type": "stream",
     "text": [
      "3\n"
     ]
    }
   ],
   "source": [
    "print(len(prog.intersection(ml)))"
   ]
  },
  {
   "cell_type": "markdown",
   "metadata": {},
   "source": [
    "Сколько человек заинтересованы в посещении хотя бы одного вебинара?"
   ]
  },
  {
   "cell_type": "code",
   "execution_count": 23,
   "metadata": {},
   "outputs": [
    {
     "name": "stdout",
     "output_type": "stream",
     "text": [
      "10\n"
     ]
    }
   ],
   "source": [
    "print(len(prog.union(ml)))"
   ]
  },
  {
   "cell_type": "markdown",
   "metadata": {},
   "source": [
    "Сколько человек заинтересованы в посещении только одного вебинара из двух?"
   ]
  },
  {
   "cell_type": "code",
   "execution_count": 26,
   "metadata": {},
   "outputs": [
    {
     "name": "stdout",
     "output_type": "stream",
     "text": [
      "7\n"
     ]
    }
   ],
   "source": [
    "print(len(prog.symmetric_difference(ml)))"
   ]
  }
 ],
 "metadata": {
  "kernelspec": {
   "display_name": "Python 3",
   "language": "python",
   "name": "python3"
  },
  "language_info": {
   "codemirror_mode": {
    "name": "ipython",
    "version": 3
   },
   "file_extension": ".py",
   "mimetype": "text/x-python",
   "name": "python",
   "nbconvert_exporter": "python",
   "pygments_lexer": "ipython3",
   "version": "3.12.1"
  }
 },
 "nbformat": 4,
 "nbformat_minor": 2
}

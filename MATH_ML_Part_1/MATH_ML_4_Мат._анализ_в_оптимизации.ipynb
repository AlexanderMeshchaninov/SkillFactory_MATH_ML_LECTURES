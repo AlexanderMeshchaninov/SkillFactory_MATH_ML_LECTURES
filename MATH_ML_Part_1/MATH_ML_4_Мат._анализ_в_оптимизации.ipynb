{
 "cells": [
  {
   "cell_type": "markdown",
   "metadata": {},
   "source": [
    "# Исследование функции с несколькими параметрами f(x, y)"
   ]
  },
  {
   "cell_type": "markdown",
   "metadata": {},
   "source": [
    "Если функция зависит от более чем одной переменной, это называется функцией нескольких переменных. Например, $y = f(x_1, x_2, ..., x_n)$, где $x_i$ — это входные данные, а $y$ — выходной результат."
   ]
  },
  {
   "cell_type": "markdown",
   "metadata": {},
   "source": [
    "# Нахождение частных производных"
   ]
  },
  {
   "cell_type": "markdown",
   "metadata": {},
   "source": [
    "Например найдем производную для функции $f(a,b,c) = 5ab - a * cos(c) + a^8 + c^2 * b$ по переменной a:"
   ]
  },
  {
   "cell_type": "code",
   "execution_count": 1,
   "metadata": {},
   "outputs": [
    {
     "data": {
      "text/latex": [
       "$\\displaystyle 8 a^{7} + 5 b - \\cos{\\left(c \\right)}$"
      ],
      "text/plain": [
       "8*a**7 + 5*b - cos(c)"
      ]
     },
     "execution_count": 1,
     "metadata": {},
     "output_type": "execute_result"
    }
   ],
   "source": [
    "from sympy import symbols, cos, diff, sin\n",
    "\n",
    "a, b, c = symbols('a, b, c', real=True)\n",
    "\n",
    "f = 5 * a * b - a * cos(c) + a**8 + c**2 * b\n",
    "\n",
    "diff(f, a) # по переменной а, так же можно найти все b, c подставляя"
   ]
  },
  {
   "cell_type": "markdown",
   "metadata": {},
   "source": [
    "Найти производные для $f(a, b, x) = 2ax + b^2$"
   ]
  },
  {
   "cell_type": "code",
   "execution_count": 2,
   "metadata": {},
   "outputs": [
    {
     "data": {
      "text/latex": [
       "$\\displaystyle 2 x$"
      ],
      "text/plain": [
       "2*x"
      ]
     },
     "execution_count": 2,
     "metadata": {},
     "output_type": "execute_result"
    }
   ],
   "source": [
    "a, b, x = symbols('a, b, x', real=True)\n",
    "f = 2 * a * x + b**2\n",
    "diff(f, a) # Первая частная производная от а"
   ]
  },
  {
   "cell_type": "code",
   "execution_count": 3,
   "metadata": {},
   "outputs": [
    {
     "data": {
      "text/latex": [
       "$\\displaystyle 2$"
      ],
      "text/plain": [
       "2"
      ]
     },
     "execution_count": 3,
     "metadata": {},
     "output_type": "execute_result"
    }
   ],
   "source": [
    "diff(diff(f, a)) # Вторая частная производная от аа"
   ]
  },
  {
   "cell_type": "markdown",
   "metadata": {},
   "source": [
    "Найти частные производные для $f(x, y) = x^2 - y^2$"
   ]
  },
  {
   "cell_type": "code",
   "execution_count": 4,
   "metadata": {},
   "outputs": [
    {
     "data": {
      "text/latex": [
       "$\\displaystyle 2 x$"
      ],
      "text/plain": [
       "2*x"
      ]
     },
     "execution_count": 4,
     "metadata": {},
     "output_type": "execute_result"
    }
   ],
   "source": [
    "x, y = symbols('x, y', real=True)\n",
    "f = x**2 - y**2\n",
    "diff(f, x) # Производная от x"
   ]
  },
  {
   "cell_type": "code",
   "execution_count": 5,
   "metadata": {},
   "outputs": [
    {
     "data": {
      "text/latex": [
       "$\\displaystyle - 2 y$"
      ],
      "text/plain": [
       "-2*y"
      ]
     },
     "execution_count": 5,
     "metadata": {},
     "output_type": "execute_result"
    }
   ],
   "source": [
    "diff(f, y) # # Производная от y"
   ]
  },
  {
   "cell_type": "markdown",
   "metadata": {},
   "source": [
    "Найти частные произодные в точке М (-2, -1):"
   ]
  },
  {
   "cell_type": "code",
   "execution_count": 6,
   "metadata": {},
   "outputs": [
    {
     "name": "stdout",
     "output_type": "stream",
     "text": [
      "Частная производная в точке М (-2, -1) для x: -4\n",
      "Частная производная в точке М (-2, -1) для y: 2\n"
     ]
    }
   ],
   "source": [
    "partial_derivative_x = diff(f, x).subs({x:-2})\n",
    "partial_derivative_y = diff(f, y).subs({y:-1})\n",
    "\n",
    "print(f'Частная производная в точке М (-2, -1) для x: {partial_derivative_x}')\n",
    "print(f'Частная производная в точке М (-2, -1) для y: {partial_derivative_y}')"
   ]
  },
  {
   "cell_type": "markdown",
   "metadata": {},
   "source": [
    "Или так:"
   ]
  },
  {
   "cell_type": "code",
   "execution_count": 7,
   "metadata": {},
   "outputs": [
    {
     "name": "stdout",
     "output_type": "stream",
     "text": [
      "Частная производная в точке М (-2, -1) для x: -4\n",
      "Частная производная в точке М (-2, -1) для y: 2\n"
     ]
    }
   ],
   "source": [
    "# частные производные в точке (-2, -1) для x и для y:\n",
    "partial_derivative_x = diff(f, x, 1, evaluate=True).subs({x:-2, y:-1}) # f'(-2,-1)(x)\n",
    "partial_derivative_y = diff(f, y, 1, evaluate=True).subs({x:-2, y:-1}) # f'(-2,-1)(y)\n",
    "\n",
    "print(f'Частная производная в точке М (-2, -1) для x: {partial_derivative_x}')\n",
    "print(f'Частная производная в точке М (-2, -1) для y: {partial_derivative_y}')"
   ]
  },
  {
   "cell_type": "markdown",
   "metadata": {},
   "source": [
    "Найти частные производные для $f(a, b) = (a + 2b - 5)^2$"
   ]
  },
  {
   "cell_type": "code",
   "execution_count": 8,
   "metadata": {},
   "outputs": [],
   "source": [
    "a, b = symbols('a, b', reals=True)\n",
    "f = (a + 2 * b - 5)**2"
   ]
  },
  {
   "cell_type": "code",
   "execution_count": 9,
   "metadata": {},
   "outputs": [
    {
     "data": {
      "text/latex": [
       "$\\displaystyle 2 a + 4 b - 10$"
      ],
      "text/plain": [
       "2*a + 4*b - 10"
      ]
     },
     "execution_count": 9,
     "metadata": {},
     "output_type": "execute_result"
    }
   ],
   "source": [
    "diff(f, a).simplify() # Частная производная для а c упрощением результата"
   ]
  },
  {
   "cell_type": "code",
   "execution_count": 10,
   "metadata": {},
   "outputs": [
    {
     "data": {
      "text/latex": [
       "$\\displaystyle 4 a + 8 b - 20$"
      ],
      "text/plain": [
       "4*a + 8*b - 20"
      ]
     },
     "execution_count": 10,
     "metadata": {},
     "output_type": "execute_result"
    }
   ],
   "source": [
    "diff(f, b).simplify() # Частная производная для b с упрощением результата"
   ]
  },
  {
   "cell_type": "markdown",
   "metadata": {},
   "source": [
    "Вычислите частные производные для функции $u = x^2 + 3xy + 4y^2$ в точке (1, 1):"
   ]
  },
  {
   "cell_type": "code",
   "execution_count": 11,
   "metadata": {},
   "outputs": [
    {
     "name": "stdout",
     "output_type": "stream",
     "text": [
      "Для производной по x в точке (1, 1): 5\n",
      "Для производной по y в точке (1, 1): 11\n"
     ]
    }
   ],
   "source": [
    "x, y = symbols('x y')\n",
    "f = x**2 + 3 * x * y + 4 * y**2\n",
    "\n",
    "partial_derivative_x = diff(f, x).subs({x: 1, y: 1}).simplify()\n",
    "partial_derivative_y = diff(f, y).subs({x: 1, y: 1}).simplify()\n",
    "print(f'Для производной по x в точке (1, 1): {partial_derivative_x}')\n",
    "print(f'Для производной по y в точке (1, 1): {partial_derivative_y}')"
   ]
  },
  {
   "cell_type": "markdown",
   "metadata": {},
   "source": [
    "Частные производные для функции $u = y * sin * x + sin * y$"
   ]
  },
  {
   "cell_type": "code",
   "execution_count": 12,
   "metadata": {},
   "outputs": [
    {
     "data": {
      "text/latex": [
       "$\\displaystyle \\sin{\\left(x \\right)} + \\cos{\\left(y \\right)}$"
      ],
      "text/plain": [
       "sin(x) + cos(y)"
      ]
     },
     "execution_count": 12,
     "metadata": {},
     "output_type": "execute_result"
    }
   ],
   "source": [
    "x, y = symbols('x y')\n",
    "f = y * sin(x) + sin(y)\n",
    "\n",
    "diff(f, y)"
   ]
  },
  {
   "cell_type": "markdown",
   "metadata": {},
   "source": [
    "# Нахождение точек экстемумов для функции с несколькими аргументами f(x, y)"
   ]
  },
  {
   "cell_type": "markdown",
   "metadata": {},
   "source": [
    "Для примера возьмем: $f = x^2 - 10x + y^2 - 12yy + 71$"
   ]
  },
  {
   "cell_type": "code",
   "execution_count": 13,
   "metadata": {},
   "outputs": [],
   "source": [
    "from sympy import symbols, diff, solve, exp\n",
    "\n",
    "# Определяем переменные\n",
    "x, y = symbols('x y')\n",
    "\n",
    "# Определяем функцию\n",
    "f = x**2 - 10 * x + y**2 - 12 * y + 71"
   ]
  },
  {
   "cell_type": "markdown",
   "metadata": {},
   "source": [
    "## 1. Шаг - Найти частные производные:"
   ]
  },
  {
   "cell_type": "code",
   "execution_count": 14,
   "metadata": {},
   "outputs": [
    {
     "name": "stdout",
     "output_type": "stream",
     "text": [
      "df/dx: 2*x - 10\n",
      "df/dy: 2*y - 12\n"
     ]
    }
   ],
   "source": [
    "fx = diff(f, x) # Производная по x\n",
    "fy = diff(f, y) # Производная по y\n",
    "\n",
    "print(f\"df/dx: {fx}\")\n",
    "print(f\"df/dy: {fy}\")"
   ]
  },
  {
   "cell_type": "markdown",
   "metadata": {},
   "source": [
    "## 2. Шаг - Найти критические точки:"
   ]
  },
  {
   "cell_type": "code",
   "execution_count": 15,
   "metadata": {},
   "outputs": [
    {
     "name": "stdout",
     "output_type": "stream",
     "text": [
      "Критическая точка: {x: 5, y: 6}\n"
     ]
    }
   ],
   "source": [
    "critical_points = solve([fx, fy], (x, y))\n",
    "print(f\"Критическая точка: {critical_points}\")"
   ]
  },
  {
   "cell_type": "markdown",
   "metadata": {},
   "source": [
    "## 3. Шаг - Найти вторые производные:"
   ]
  },
  {
   "cell_type": "code",
   "execution_count": 16,
   "metadata": {},
   "outputs": [
    {
     "name": "stdout",
     "output_type": "stream",
     "text": [
      "fxx: 2, fyy: 2, fxy: 0\n"
     ]
    }
   ],
   "source": [
    "fxx = diff(fx, x)  # Вторая производная по x\n",
    "fyy = diff(fy, y)  # Вторая производная по y\n",
    "fxy = diff(fx, y)  # Смешанная производная\n",
    "\n",
    "print(f\"fxx: {fxx}, fyy: {fyy}, fxy: {fxy}\")"
   ]
  },
  {
   "cell_type": "markdown",
   "metadata": {},
   "source": [
    "## 4. Шаг - Вычисляем оределитель гессиана:\n",
    "\n",
    "6. Определяем характер точки\n",
    "\n",
    "* Если, 𝐷 = 4 > 0, значит экстремум.\n",
    "\n",
    "* Если, fxx = 2 > 0, значит минимум."
   ]
  },
  {
   "cell_type": "code",
   "execution_count": 17,
   "metadata": {},
   "outputs": [
    {
     "name": "stdout",
     "output_type": "stream",
     "text": [
      "Определитель гессиана: 4\n"
     ]
    }
   ],
   "source": [
    "D = fxx * fyy - fxy**2\n",
    "print(f\"Определитель гессиана: {D}\")"
   ]
  },
  {
   "cell_type": "markdown",
   "metadata": {},
   "source": [
    "## Вывод:\n",
    "Функция имеет минимум в точке (5, 6)"
   ]
  },
  {
   "cell_type": "markdown",
   "metadata": {},
   "source": [
    "# Матрица Гессе\n",
    "\n",
    "Это матрица вторых частных производных функции.\n",
    "\n",
    "Например, она используется в финансовых вычислениях (в риск-менеджменте и для управления портфелями): c её помощью оценивают, насколько опцион подвержен риску. В вычислительной химии матрица Гессе используется для расчётов переходных состояний в химических реакциях.\n",
    "\n",
    "Чтобы найти матрицу Гессе нужно сделать похожие шаги, как в примере выше:\n",
    "\n",
    "Матрица Гессе выгляди так: \n",
    "\n",
    "$$\n",
    "H =\n",
    "\\begin{bmatrix}\n",
    "\\frac{\\partial^2 f}{\\partial x^2} & \\frac{\\partial^2 f}{\\partial x \\partial y} \\\\\n",
    "\\frac{\\partial^2 f}{\\partial y \\partial x} & \\frac{\\partial^2 f}{\\partial y^2}\n",
    "\\end{bmatrix}\n",
    "$$\n",
    "\n",
    "или \n",
    "\n",
    "$$\n",
    "H =\n",
    "\\begin{bmatrix}\n",
    "\\frac{f xx}{f xy}\n",
    "\\frac{f xy}{f yy}\n",
    "\\end{bmatrix}\n",
    "$$"
   ]
  },
  {
   "cell_type": "markdown",
   "metadata": {},
   "source": [
    "Найти матрицу Гессе (гессиана) для функции $f(x,y) = e^x + 5y^3x$"
   ]
  },
  {
   "cell_type": "code",
   "execution_count": 18,
   "metadata": {},
   "outputs": [
    {
     "name": "stdout",
     "output_type": "stream",
     "text": [
      "df/dx: 5*y**3 + exp(x)\n",
      "df/dy: 15*x*y**2\n",
      "Критическая точка: [(0, -5**(2/3)/5), (0, 5**(2/3)*(1 - sqrt(3)*I)/10), (0, 5**(2/3)*(1 + sqrt(3)*I)/10)]\n",
      "fxx: exp(x), fyy: 30*x*y, fxy: 15*y**2\n"
     ]
    }
   ],
   "source": [
    "# Определяем переменные\n",
    "x, y = symbols('x y')\n",
    "\n",
    "# Определяем функцию\n",
    "f = exp(x) + 5 * y**3 * x\n",
    "\n",
    "# 1 шаг\n",
    "fx = diff(f, x) # Производная по x\n",
    "fy = diff(f, y) # Производная по y\n",
    "print(f\"df/dx: {fx}\")\n",
    "print(f\"df/dy: {fy}\")\n",
    "\n",
    "# 2 шаг\n",
    "critical_points = solve([fx, fy], (x, y))\n",
    "print(f\"Критическая точка: {critical_points}\")\n",
    "\n",
    "# 3 шаг\n",
    "fxx = diff(fx, x)  # Вторая производная по x\n",
    "fyy = diff(fy, y)  # Вторая производная по y\n",
    "fxy = diff(fx, y)  # Смешанная производная\n",
    "print(f\"fxx: {fxx}, fyy: {fyy}, fxy: {fxy}\")"
   ]
  },
  {
   "cell_type": "markdown",
   "metadata": {},
   "source": [
    "На этом этапе 4. Шаг формируем матрицу Гессе:"
   ]
  },
  {
   "cell_type": "code",
   "execution_count": 19,
   "metadata": {},
   "outputs": [
    {
     "name": "stdout",
     "output_type": "stream",
     "text": [
      "Матрица Гессе:\n"
     ]
    },
    {
     "data": {
      "text/latex": [
       "$\\displaystyle \\left[\\begin{matrix}e^{x} & 15 y^{2}\\\\15 y^{2} & 30 x y\\end{matrix}\\right]$"
      ],
      "text/plain": [
       "Matrix([\n",
       "[ exp(x), 15*y**2],\n",
       "[15*y**2,  30*x*y]])"
      ]
     },
     "execution_count": 19,
     "metadata": {},
     "output_type": "execute_result"
    }
   ],
   "source": [
    "from sympy import Matrix, det\n",
    "\n",
    "H = Matrix([\n",
    "    [fxx, fxy],\n",
    "    [fxy, fyy]\n",
    "])\n",
    "print(\"Матрица Гессе:\")\n",
    "H"
   ]
  },
  {
   "cell_type": "markdown",
   "metadata": {},
   "source": [
    "Еще пример для функции $f = x^3 + 3xy^2 - 15x - 12y + 1$ нужно определить экстремумы для нескольких точек:"
   ]
  },
  {
   "cell_type": "code",
   "execution_count": 44,
   "metadata": {},
   "outputs": [
    {
     "name": "stdout",
     "output_type": "stream",
     "text": [
      "df/dx: 3*x**2 + 3*y**2 - 15\n",
      "df/dy: 6*x*y - 12\n",
      "Критическая точка: [{x: -2, y: -1}, {x: -1, y: -2}, {x: 1, y: 2}, {x: 2, y: 1}]\n",
      "fxx: 6*x, fyy: 6*x, fxy: 6*y\n",
      "Матрица Гессе:\n",
      "Matrix([[6*x, 6*y], [6*y, 6*x]])\n",
      "Определитель Гессиана: 36*x**2 - 36*y**2\n",
      "Критические точки и их классификация:\n",
      "{x: -2, y: -1}: Локальный максимум\n",
      "{x: -1, y: -2}: Седловая точка\n",
      "{x: 1, y: 2}: Седловая точка\n",
      "{x: 2, y: 1}: Локальный минимум\n"
     ]
    }
   ],
   "source": [
    "# Определяем переменные\n",
    "x, y = symbols('x y')\n",
    "\n",
    "# Определяем функцию\n",
    "f = x**3 + 3 * x * y**2 - 15 * x - 12 * y + 1\n",
    "\n",
    "# 1 шаг\n",
    "fx = diff(f, x) # Производная по x\n",
    "fy = diff(f, y) # Производная по y\n",
    "print(f\"df/dx: {fx}\")\n",
    "print(f\"df/dy: {fy}\")\n",
    "\n",
    "# 2 шаг\n",
    "critical_points = solve([fx, fy], [x, y], dict=True)\n",
    "print(f\"Критическая точка: {critical_points}\")\n",
    "\n",
    "# 3 шаг\n",
    "fxx = diff(fx, x)  # Вторая производная по x\n",
    "fyy = diff(fy, y)  # Вторая производная по y\n",
    "fxy = diff(fx, y)  # Смешанная производная\n",
    "print(f\"fxx: {fxx}, fyy: {fyy}, fxy: {fxy}\")\n",
    "\n",
    "# 4 шаг - матрица Гессе\n",
    "H = Matrix([\n",
    "    [fxx, fxy],\n",
    "    [fxy, fyy]\n",
    "])\n",
    "print(\"Матрица Гессе:\")\n",
    "print(H)\n",
    "\n",
    "# 4.1 Определитель гессиана (другой вариант получения определителя гессиана)\n",
    "D = det(H)\n",
    "print(f\"Определитель Гессиана: {D}\")\n",
    "\n",
    "# 5. Классификация критических точек\n",
    "# Проверяем классификацию критических точек с учетом комплексных значений\n",
    "classification_fixed = {}\n",
    "for point in critical_points:\n",
    "    x_val = point[x]\n",
    "    y_val = point[y]\n",
    "    \n",
    "    # Подстановка значений в определитель и f_xx\n",
    "    D_val = D.subs({x: x_val, y: y_val}).simplify()\n",
    "    fxx_val = fxx.subs({x: x_val, y: y_val}).simplify()\n",
    "\n",
    "    # Проверяем, являются ли значения вещественными\n",
    "    if D_val.is_real and fxx_val.is_real:\n",
    "        if D_val > 0:\n",
    "            if fxx_val > 0:\n",
    "                classification_fixed[str(point)] = \"Локальный минимум\"\n",
    "            else:\n",
    "                classification_fixed[str(point)] = \"Локальный максимум\"\n",
    "        elif D_val < 0:\n",
    "            classification_fixed[str(point)] = \"Седловая точка\"\n",
    "        else:\n",
    "            classification_fixed[str(point)] = \"Требуется дополнительный анализ\"\n",
    "    else:\n",
    "        classification_fixed[str(point)] = \"Комплексное значение, анализ невозможен\"\n",
    "\n",
    "# Вывод результатов\n",
    "print(\"Критические точки и их классификация:\")\n",
    "for point, classification in classification_fixed.items():\n",
    "    print(f\"{point}: {classification}\")"
   ]
  },
  {
   "cell_type": "markdown",
   "metadata": {},
   "source": [
    "Найти экстремумы для $z = 4x^2 - 6xy - 34x + 5y^2 + 42y + 7$"
   ]
  },
  {
   "cell_type": "code",
   "execution_count": 45,
   "metadata": {},
   "outputs": [
    {
     "name": "stdout",
     "output_type": "stream",
     "text": [
      "df/dx: 8*x - 6*y - 34\n",
      "df/dy: -6*x + 10*y + 42\n",
      "Критическая точка: [{x: 2, y: -3}]\n",
      "fxx: 8, fyy: 10, fxy: -6\n",
      "Матрица Гессе:\n",
      "Matrix([[8, -6], [-6, 10]])\n",
      "Определитель Гессиана: 44\n",
      "Критические точки и их классификация:\n",
      "{x: 2, y: -3}: Локальный минимум\n"
     ]
    }
   ],
   "source": [
    "# Определяем переменные\n",
    "x, y = symbols('x y')\n",
    "\n",
    "# Определяем функцию\n",
    "f = 4 * x**2 - 6 * x * y - 34 * x + 5 * y**2 + 42 * y + 7\n",
    "\n",
    "# 1 шаг\n",
    "fx = diff(f, x) # Производная по x\n",
    "fy = diff(f, y) # Производная по y\n",
    "print(f\"df/dx: {fx}\")\n",
    "print(f\"df/dy: {fy}\")\n",
    "\n",
    "# 2 шаг\n",
    "critical_points = solve([fx, fy], [x, y], dict=True)\n",
    "print(f\"Критическая точка: {critical_points}\")\n",
    "\n",
    "# 3 шаг\n",
    "fxx = diff(fx, x)  # Вторая производная по x\n",
    "fyy = diff(fy, y)  # Вторая производная по y\n",
    "fxy = diff(fx, y)  # Смешанная производная\n",
    "print(f\"fxx: {fxx}, fyy: {fyy}, fxy: {fxy}\")\n",
    "\n",
    "# 4 шаг - матрица Гессе\n",
    "H = Matrix([\n",
    "    [fxx, fxy],\n",
    "    [fxy, fyy]\n",
    "])\n",
    "print(\"Матрица Гессе:\")\n",
    "print(H)\n",
    "\n",
    "# 4.1 Определитель гессиана (другой вариант получения определителя гессиана)\n",
    "D = det(H)\n",
    "print(f\"Определитель Гессиана: {D}\")\n",
    "\n",
    "# 5. Классификация критических точек\n",
    "# Проверяем классификацию критических точек с учетом комплексных значений\n",
    "classification_fixed = {}\n",
    "for point in critical_points:\n",
    "    x_val = point[x]\n",
    "    y_val = point[y]\n",
    "    \n",
    "    # Подстановка значений в определитель и f_xx\n",
    "    D_val = D.subs({x: x_val, y: y_val}).simplify()\n",
    "    fxx_val = fxx.subs({x: x_val, y: y_val}).simplify()\n",
    "\n",
    "    # Проверяем, являются ли значения вещественными\n",
    "    if D_val.is_real and fxx_val.is_real:\n",
    "        if D_val > 0:\n",
    "            if fxx_val > 0:\n",
    "                classification_fixed[str(point)] = \"Локальный минимум\"\n",
    "            else:\n",
    "                classification_fixed[str(point)] = \"Локальный максимум\"\n",
    "        elif D_val < 0:\n",
    "            classification_fixed[str(point)] = \"Седловая точка\"\n",
    "        else:\n",
    "            classification_fixed[str(point)] = \"Требуется дополнительный анализ\"\n",
    "    else:\n",
    "        classification_fixed[str(point)] = \"Комплексное значение, анализ невозможен\"\n",
    "\n",
    "# Вывод результатов\n",
    "print(\"Критические точки и их классификация:\")\n",
    "for point, classification in classification_fixed.items():\n",
    "    print(f\"{point}: {classification}\")"
   ]
  },
  {
   "cell_type": "code",
   "execution_count": 46,
   "metadata": {},
   "outputs": [
    {
     "name": "stdout",
     "output_type": "stream",
     "text": [
      "df/dx: 3*x**2 - 3*y\n",
      "df/dy: -3*x + 3*y**2\n",
      "Критическая точка: [{x: 0, y: 0}, {x: 1, y: 1}, {x: (-1/2 - sqrt(3)*I/2)**2, y: -1/2 - sqrt(3)*I/2}, {x: (-1/2 + sqrt(3)*I/2)**2, y: -1/2 + sqrt(3)*I/2}]\n",
      "fxx: 6*x, fyy: 6*y, fxy: -3\n",
      "Матрица Гессе:\n",
      "Matrix([[6*x, -3], [-3, 6*y]])\n",
      "Определитель Гессиана: 36*x*y - 9\n",
      "Критические точки и их классификация:\n",
      "{x: 0, y: 0}: Седловая точка\n",
      "{x: 1, y: 1}: Локальный минимум\n",
      "{x: (-1/2 - sqrt(3)*I/2)**2, y: -1/2 - sqrt(3)*I/2}: Комплексное значение, анализ невозможен\n",
      "{x: (-1/2 + sqrt(3)*I/2)**2, y: -1/2 + sqrt(3)*I/2}: Комплексное значение, анализ невозможен\n"
     ]
    }
   ],
   "source": [
    "# Определяем функцию\n",
    "f = x**3 + y**3 - 3 * x * y\n",
    "\n",
    "# 1 шаг\n",
    "fx = diff(f, x) # Производная по x\n",
    "fy = diff(f, y) # Производная по y\n",
    "print(f\"df/dx: {fx}\")\n",
    "print(f\"df/dy: {fy}\")\n",
    "\n",
    "# 2 шаг\n",
    "critical_points = solve([fx, fy], [x, y], dict=True)\n",
    "print(f\"Критическая точка: {critical_points}\")\n",
    "\n",
    "# 3 шаг\n",
    "fxx = diff(fx, x)  # Вторая производная по x\n",
    "fyy = diff(fy, y)  # Вторая производная по y\n",
    "fxy = diff(fx, y)  # Смешанная производная\n",
    "print(f\"fxx: {fxx}, fyy: {fyy}, fxy: {fxy}\")\n",
    "\n",
    "# 4 шаг - матрица Гессе\n",
    "H = Matrix([\n",
    "    [fxx, fxy],\n",
    "    [fxy, fyy]\n",
    "])\n",
    "print(\"Матрица Гессе:\")\n",
    "print(H)\n",
    "\n",
    "# 4.1 Определитель гессиана (другой вариант получения определителя гессиана)\n",
    "D = det(H)\n",
    "print(f\"Определитель Гессиана: {D}\")\n",
    "\n",
    "# 5. Классификация критических точек\n",
    "# Проверяем классификацию критических точек с учетом комплексных значений\n",
    "classification_fixed = {}\n",
    "for point in critical_points:\n",
    "    x_val = point[x]\n",
    "    y_val = point[y]\n",
    "    \n",
    "    # Подстановка значений в определитель и f_xx\n",
    "    D_val = D.subs({x: x_val, y: y_val}).simplify()\n",
    "    fxx_val = fxx.subs({x: x_val, y: y_val}).simplify()\n",
    "\n",
    "    # Проверяем, являются ли значения вещественными\n",
    "    if D_val.is_real and fxx_val.is_real:\n",
    "        if D_val > 0:\n",
    "            if fxx_val > 0:\n",
    "                classification_fixed[str(point)] = \"Локальный минимум\"\n",
    "            else:\n",
    "                classification_fixed[str(point)] = \"Локальный максимум\"\n",
    "        elif D_val < 0:\n",
    "            classification_fixed[str(point)] = \"Седловая точка\"\n",
    "        else:\n",
    "            classification_fixed[str(point)] = \"Требуется дополнительный анализ\"\n",
    "    else:\n",
    "        classification_fixed[str(point)] = \"Комплексное значение, анализ невозможен\"\n",
    "\n",
    "# Вывод результатов\n",
    "print(\"Критические точки и их классификация:\")\n",
    "for point, classification in classification_fixed.items():\n",
    "    print(f\"{point}: {classification}\")"
   ]
  }
 ],
 "metadata": {
  "kernelspec": {
   "display_name": "Python 3",
   "language": "python",
   "name": "python3"
  },
  "language_info": {
   "codemirror_mode": {
    "name": "ipython",
    "version": 3
   },
   "file_extension": ".py",
   "mimetype": "text/x-python",
   "name": "python",
   "nbconvert_exporter": "python",
   "pygments_lexer": "ipython3",
   "version": "3.12.1"
  }
 },
 "nbformat": 4,
 "nbformat_minor": 2
}

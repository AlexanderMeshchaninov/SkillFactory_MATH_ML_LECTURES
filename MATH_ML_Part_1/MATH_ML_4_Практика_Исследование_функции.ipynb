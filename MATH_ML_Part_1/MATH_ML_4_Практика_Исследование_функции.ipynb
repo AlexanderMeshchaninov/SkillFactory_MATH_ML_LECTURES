{
 "cells": [
  {
   "cell_type": "markdown",
   "id": "299600de",
   "metadata": {},
   "source": [
    "# Исследуем функцию: \n",
    "\n",
    "$y = \\frac{x^3}{x^2 - 1}$"
   ]
  },
  {
   "cell_type": "markdown",
   "id": "f468bf1e",
   "metadata": {},
   "source": [
    "## Область определения"
   ]
  },
  {
   "cell_type": "markdown",
   "id": "a477e6bc",
   "metadata": {},
   "source": [
    "Начнем с поиски возможных значений аргументов, для которых существует данная функция.\n",
    "\n",
    "Примечание: Мы помним, что в знаменателе может быть любое значение, кроме нуля. Таким образом, это выражение никогда не может быть равно нулю! Других ограничений у нас нет. Получаем, что $x$ может быть любым, кроме - 1 и 1:"
   ]
  },
  {
   "cell_type": "code",
   "execution_count": 1,
   "id": "c95eac41",
   "metadata": {},
   "outputs": [
    {
     "data": {
      "text/latex": [
       "$\\displaystyle \\left(-\\infty, -1\\right) \\cup \\left(-1, 1\\right) \\cup \\left(1, \\infty\\right)$"
      ],
      "text/plain": [
       "Union(Interval.open(-oo, -1), Interval.open(-1, 1), Interval.open(1, oo))"
      ]
     },
     "execution_count": 1,
     "metadata": {},
     "output_type": "execute_result"
    }
   ],
   "source": [
    "# Импорт необходимых библиотек для работы с символьными выражениями и дифференцированием функции\n",
    "# Функция continuous_domain из модуля util позволяет определить область непрерывности функции f \n",
    "from sympy import Symbol, S\n",
    "from sympy.calculus.util import continuous_domain\n",
    "\n",
    "# относительно переменной x в наборе значений (S.Reals - множество всех действительных чисел)\n",
    "x = Symbol(\"x\")\n",
    "f = (x**3)/(x**2-1) # Функция, которую необходимо проверить на непрерывность\n",
    "continuous_domain(f, x, S.Reals)"
   ]
  },
  {
   "cell_type": "markdown",
   "id": "3def5ae7",
   "metadata": {},
   "source": [
    "## Область значений функции"
   ]
  },
  {
   "cell_type": "markdown",
   "id": "ec47600a",
   "metadata": {},
   "source": [
    "Теперь изучим, какие значения функция может принимать."
   ]
  },
  {
   "cell_type": "code",
   "execution_count": 2,
   "id": "84f388ff",
   "metadata": {},
   "outputs": [
    {
     "data": {
      "text/latex": [
       "$\\displaystyle \\left(-\\infty, \\infty\\right)$"
      ],
      "text/plain": [
       "Interval(-oo, oo)"
      ]
     },
     "execution_count": 2,
     "metadata": {},
     "output_type": "execute_result"
    }
   ],
   "source": [
    "from sympy import Symbol, S\n",
    "from sympy.calculus.util import function_range\n",
    "\n",
    "x = Symbol(\"x\")\n",
    "f = (x**3)/(x**2-1)\n",
    "function_range(f, x, S.Reals)"
   ]
  },
  {
   "cell_type": "markdown",
   "id": "39726364",
   "metadata": {},
   "source": [
    "## Нахождение точек пересечения с осями координат"
   ]
  },
  {
   "cell_type": "markdown",
   "id": "dd406049",
   "metadata": {},
   "source": [
    "Приравниваем функцию к 0, для того, чтобы найти в каких точках наша функция пересекает координатные оси.\n",
    "\n",
    "Начнем с точек пересечения с осью X."
   ]
  },
  {
   "cell_type": "code",
   "execution_count": 3,
   "id": "c484f33f",
   "metadata": {},
   "outputs": [
    {
     "data": {
      "text/latex": [
       "$\\displaystyle \\left\\{0\\right\\}$"
      ],
      "text/plain": [
       "{0}"
      ]
     },
     "execution_count": 3,
     "metadata": {},
     "output_type": "execute_result"
    }
   ],
   "source": [
    "from sympy import solveset, Eq\n",
    "\n",
    "f = (x**3)/(x**2-1)\n",
    "solveset(Eq(f, 0), x)"
   ]
  },
  {
   "cell_type": "markdown",
   "id": "2cc28e81",
   "metadata": {},
   "source": [
    "Для того чтобы дробь была равна 0, необходимо, чтобы числитель был равен 0. Значит, $x = 0$. То есть с осью абсцисс (X) функция пересекается в точке (0, 0)."
   ]
  },
  {
   "cell_type": "markdown",
   "id": "3e618176",
   "metadata": {},
   "source": [
    "Если нам нужна точка пересечения с осью у, то мы просто можем поставить 0 вместо $x$. Тогда вся функция обнулится и мы получим, что точка пересечения с осью ординат (Y) — также (0, 0)."
   ]
  },
  {
   "cell_type": "code",
   "execution_count": 4,
   "id": "a11f173f",
   "metadata": {},
   "outputs": [
    {
     "data": {
      "text/latex": [
       "$\\displaystyle 0$"
      ],
      "text/plain": [
       "0"
      ]
     },
     "execution_count": 4,
     "metadata": {},
     "output_type": "execute_result"
    }
   ],
   "source": [
    "x = Symbol(\"x\")\n",
    "f = (x**3)/(x**2-1)\n",
    "f.subs(x, 0)"
   ]
  },
  {
   "cell_type": "markdown",
   "id": "1bce8529",
   "metadata": {},
   "source": [
    "## Исследование функции на четность и нечетность\n",
    "\n",
    "Переходим к следующему пункту исследования: узнаем, чётная перед нами функция или нечётная.\n",
    "\n",
    "Подставим в функцию вместо аргумента  аргумент  и посмотрим, как она изменится:\n",
    "\n",
    "$y(-x) = \\frac{(-x)^3}{(-x)^2 - 1} = - \\frac{x^3}{x^2 - 1} = -y(x)$"
   ]
  },
  {
   "cell_type": "code",
   "execution_count": 5,
   "id": "59d08d3c",
   "metadata": {},
   "outputs": [
    {
     "name": "stdout",
     "output_type": "stream",
     "text": [
      "Чётная функция: False\n",
      "Нечётная функция: True\n"
     ]
    }
   ],
   "source": [
    "x = Symbol('x')\n",
    "f = (x**3)/(x**2-1)\n",
    "\n",
    "# Проверяем чётность: f(-x) == f(x)\n",
    "is_even = f.subs(x, - x) == f\n",
    "\n",
    "# Проверяем нечётность: f(-x) == -f(x)\n",
    "is_odd = f.subs(x, -x) == -f\n",
    "\n",
    "# Выводим результаты\n",
    "print(f\"Чётная функция: {is_even}\")\n",
    "print(f\"Нечётная функция: {is_odd}\")"
   ]
  },
  {
   "cell_type": "markdown",
   "id": "14d60350",
   "metadata": {},
   "source": [
    "## Нахождение точек экстремума, областей возрастания и убывания\n",
    "\n",
    "Перейдём к исследованию функции на предмет наличия точек максимума и минимума, а также найдём, где она возрастает, а где — убывает. Алгоритм решения такой задачи нам уже знаком, так что просто реализуем его."
   ]
  },
  {
   "cell_type": "code",
   "execution_count": 6,
   "id": "749f70c3",
   "metadata": {},
   "outputs": [
    {
     "data": {
      "text/latex": [
       "$\\displaystyle - \\frac{2 x^{4}}{\\left(x^{2} - 1\\right)^{2}} + \\frac{3 x^{2}}{x^{2} - 1}$"
      ],
      "text/plain": [
       "-2*x**4/(x**2 - 1)**2 + 3*x**2/(x**2 - 1)"
      ]
     },
     "execution_count": 6,
     "metadata": {},
     "output_type": "execute_result"
    }
   ],
   "source": [
    "import sympy\n",
    "from sympy import diff\n",
    "\n",
    "x = Symbol(\"x\")\n",
    "expr = (x**3)/(x**2-1)\n",
    "expr.diff(x)"
   ]
  },
  {
   "cell_type": "markdown",
   "id": "5a61664b",
   "metadata": {},
   "source": [
    "Итак, мы нашли первую производную. Теперь найдём точки, в которых она может менять знак:"
   ]
  },
  {
   "cell_type": "code",
   "execution_count": 7,
   "id": "7d1093f9",
   "metadata": {},
   "outputs": [
    {
     "data": {
      "text/latex": [
       "$\\displaystyle \\left\\{0, - \\sqrt{3}, \\sqrt{3}\\right\\}$"
      ],
      "text/plain": [
       "{0, -sqrt(3), sqrt(3)}"
      ]
     },
     "execution_count": 7,
     "metadata": {},
     "output_type": "execute_result"
    }
   ],
   "source": [
    "# y`(x)\n",
    "y = expr.diff(x)\n",
    "solveset(Eq(y, 0), x)"
   ]
  },
  {
   "cell_type": "markdown",
   "id": "c42c4ff9",
   "metadata": {},
   "source": [
    "<img src='Images/ml_3.png'>"
   ]
  },
  {
   "cell_type": "markdown",
   "id": "10d568f8",
   "metadata": {},
   "source": [
    "## Исследование функции на выпуклости\n",
    "\n",
    "Время перейти к поиску выпуклостей функции. Для того чтобы это сделать, найдём вторую производную функции и приравняем её к нулю:"
   ]
  },
  {
   "cell_type": "code",
   "execution_count": 8,
   "id": "cfebc61b",
   "metadata": {},
   "outputs": [
    {
     "data": {
      "text/latex": [
       "$\\displaystyle \\frac{2 x \\left(\\frac{x^{2} \\left(\\frac{4 x^{2}}{x^{2} - 1} - 1\\right)}{x^{2} - 1} - \\frac{6 x^{2}}{x^{2} - 1} + 3\\right)}{x^{2} - 1}$"
      ],
      "text/plain": [
       "2*x*(x**2*(4*x**2/(x**2 - 1) - 1)/(x**2 - 1) - 6*x**2/(x**2 - 1) + 3)/(x**2 - 1)"
      ]
     },
     "execution_count": 8,
     "metadata": {},
     "output_type": "execute_result"
    }
   ],
   "source": [
    "import sympy\n",
    "from sympy import diff\n",
    "\n",
    "# y``(x)\n",
    "x = sympy.Symbol(\"x\")\n",
    "expr = (x**3)/(x**2-1)\n",
    "expr.diff(x, 2)"
   ]
  },
  {
   "cell_type": "markdown",
   "id": "79670836",
   "metadata": {},
   "source": [
    "<img src='Images/ml_4.png'>"
   ]
  },
  {
   "cell_type": "code",
   "execution_count": 9,
   "id": "31d8a7c8",
   "metadata": {},
   "outputs": [
    {
     "data": {
      "text/latex": [
       "$\\displaystyle \\left\\{0, - \\sqrt{3} i, \\sqrt{3} i\\right\\}$"
      ],
      "text/plain": [
       "{0, -sqrt(3)*I, sqrt(3)*I}"
      ]
     },
     "execution_count": 9,
     "metadata": {},
     "output_type": "execute_result"
    }
   ],
   "source": [
    "y = expr.diff(x, 2)\n",
    "solveset(Eq(y, 0), x)"
   ]
  },
  {
   "cell_type": "markdown",
   "id": "fc9a293e",
   "metadata": {},
   "source": [
    "## Нахождение асимптот"
   ]
  },
  {
   "cell_type": "markdown",
   "id": "94f87deb",
   "metadata": {},
   "source": [
    "Асимптота — это линия, к которой бесконечно приближается график, но так её никогда и не пересекает."
   ]
  },
  {
   "cell_type": "markdown",
   "id": "4f8b6c43",
   "metadata": {},
   "source": [
    "<img src='Images/ml_5.png'>"
   ]
  },
  {
   "cell_type": "markdown",
   "id": "bd378f39",
   "metadata": {},
   "source": [
    "## ГОРИЗОНТАЛЬНАЯ АСИМПТОТА"
   ]
  },
  {
   "cell_type": "code",
   "execution_count": 10,
   "id": "9015fba6",
   "metadata": {},
   "outputs": [
    {
     "data": {
      "text/latex": [
       "$\\displaystyle \\infty$"
      ],
      "text/plain": [
       "oo"
      ]
     },
     "execution_count": 10,
     "metadata": {},
     "output_type": "execute_result"
    }
   ],
   "source": [
    "from sympy import Symbol, limit, oo\n",
    "\n",
    "x = Symbol(\"x\")\n",
    "f = (x**3)/(x**2-1)\n",
    "limit(f, x, oo)"
   ]
  },
  {
   "cell_type": "markdown",
   "id": "0ae2de9d",
   "metadata": {},
   "source": [
    "Получаем $\\infty$ — значит, горизонтальной асимптоты нет (по сути, здесь мы всегда получаем значение $k$ для функции $y = k$)."
   ]
  },
  {
   "cell_type": "markdown",
   "id": "79d2d758",
   "metadata": {},
   "source": [
    "## ВЕРТИКАЛЬНАЯ АСИМПТОТА\n",
    "\n",
    "В качестве вертикальных асимптот могут выступать точки, не вошедшие в область определения. Если предел функции в них равен бесконечности, то они являются асимптотами. Проверим:"
   ]
  },
  {
   "cell_type": "code",
   "execution_count": 11,
   "id": "ad626e7c",
   "metadata": {},
   "outputs": [
    {
     "data": {
      "text/latex": [
       "$\\displaystyle \\infty$"
      ],
      "text/plain": [
       "oo"
      ]
     },
     "execution_count": 11,
     "metadata": {},
     "output_type": "execute_result"
    }
   ],
   "source": [
    "from sympy import Symbol, limit, oo\n",
    "\n",
    "# Справа\n",
    "x = Symbol(\"x\")\n",
    "f = (x**3)/(x**2-1)\n",
    "limit(f, x, 1)"
   ]
  },
  {
   "cell_type": "code",
   "execution_count": 12,
   "id": "13913fbf",
   "metadata": {},
   "outputs": [
    {
     "data": {
      "text/latex": [
       "$\\displaystyle \\infty$"
      ],
      "text/plain": [
       "oo"
      ]
     },
     "execution_count": 12,
     "metadata": {},
     "output_type": "execute_result"
    }
   ],
   "source": [
    "from sympy import Symbol, limit, oo\n",
    "\n",
    "# Слева\n",
    "x = Symbol(\"x\")\n",
    "f = (x**3)/(x**2-1)\n",
    "limit(f, x, -1)"
   ]
  },
  {
   "cell_type": "markdown",
   "id": "c2b97935",
   "metadata": {},
   "source": [
    "Можно сделать вывод, что $x = 1$ и $x = -1$ — вертикальные асимптоты."
   ]
  },
  {
   "cell_type": "markdown",
   "id": "c8424c2e",
   "metadata": {},
   "source": [
    "## НАКЛОННАЯ АСИМПТОТА\n",
    "\n",
    "Для поиска наклонной асимптоты нам необходимо найти коэффициенты $k$ и $b$ для функции $y = kx + b$.\n",
    "\n",
    "Для поиска коэффициента $k$ ищем предел функции, делённой на $x$:"
   ]
  },
  {
   "cell_type": "code",
   "execution_count": 13,
   "id": "dfb2adc9",
   "metadata": {},
   "outputs": [
    {
     "data": {
      "text/latex": [
       "$\\displaystyle 1$"
      ],
      "text/plain": [
       "1"
      ]
     },
     "execution_count": 13,
     "metadata": {},
     "output_type": "execute_result"
    }
   ],
   "source": [
    "from sympy import Symbol, limit, oo\n",
    "\n",
    "x = Symbol(\"x\")\n",
    "f = (x**3)/((x**2-1)*x)\n",
    "limit(f, x, oo)"
   ]
  },
  {
   "cell_type": "markdown",
   "id": "bb52b66c",
   "metadata": {},
   "source": [
    "Получаем 1 — это значит, что $k = 1$.\n",
    "\n",
    "Теперь ищем $b$. Для этого нужно найти предел для разности функции и произведения $kx$:"
   ]
  },
  {
   "cell_type": "code",
   "execution_count": 14,
   "id": "1ed7d557",
   "metadata": {},
   "outputs": [
    {
     "data": {
      "text/latex": [
       "$\\displaystyle 0$"
      ],
      "text/plain": [
       "0"
      ]
     },
     "execution_count": 14,
     "metadata": {},
     "output_type": "execute_result"
    }
   ],
   "source": [
    "from sympy import Symbol, limit, oo\n",
    "\n",
    "x = Symbol(\"x\")\n",
    "f = (x**3)/((x**2-1)) - 1*x\n",
    "limit(f, x, oo)"
   ]
  },
  {
   "cell_type": "markdown",
   "id": "c31a0a94",
   "metadata": {},
   "source": [
    "Получаем 0 — это значит, что наклонная асимптота задаётся уравнением $y = x$"
   ]
  },
  {
   "cell_type": "markdown",
   "id": "d046c1b6",
   "metadata": {},
   "source": [
    "<img src='Images/ml_6.png'>\n",
    "\n",
    "<img src='Images/ml_7.png'>\n",
    "\n",
    "<img src='Images/ml_8.png'>"
   ]
  },
  {
   "cell_type": "markdown",
   "id": "23565150",
   "metadata": {},
   "source": [
    "## Практика\n",
    "\n",
    "Исследуем функцию: $y = \\frac{x^3}{2(x + 5)^2}$"
   ]
  },
  {
   "cell_type": "code",
   "execution_count": 15,
   "id": "3d5791df",
   "metadata": {},
   "outputs": [
    {
     "data": {
      "text/latex": [
       "$\\displaystyle \\left(-\\infty, -5\\right) \\cup \\left(-5, \\infty\\right)$"
      ],
      "text/plain": [
       "Union(Interval.open(-oo, -5), Interval.open(-5, oo))"
      ]
     },
     "execution_count": 15,
     "metadata": {},
     "output_type": "execute_result"
    }
   ],
   "source": [
    "# Найдем область определения:\n",
    "x = Symbol('x')\n",
    "f = (x**3) / (2 * (x + 5)**2)\n",
    "continuous_domain(f, x, S.Reals)"
   ]
  },
  {
   "cell_type": "code",
   "execution_count": 16,
   "id": "86ca529f",
   "metadata": {},
   "outputs": [
    {
     "data": {
      "text/latex": [
       "$\\displaystyle \\left(-\\infty, \\infty\\right)$"
      ],
      "text/plain": [
       "Interval(-oo, oo)"
      ]
     },
     "execution_count": 16,
     "metadata": {},
     "output_type": "execute_result"
    }
   ],
   "source": [
    "# Найдем область значений:\n",
    "x = Symbol('x')\n",
    "f = (x**3) / (2 * (x + 5)**2)\n",
    "function_range(f, x, S.Reals)"
   ]
  },
  {
   "cell_type": "code",
   "execution_count": 17,
   "id": "12121b92",
   "metadata": {},
   "outputs": [
    {
     "name": "stdout",
     "output_type": "stream",
     "text": [
      "Чётная функция: False\n",
      "Нечётная функция: False\n"
     ]
    }
   ],
   "source": [
    "# Определим четность\\неченость функции:\n",
    "x = Symbol('x')\n",
    "f = (x**3) / (2 * (x + 5)**2)\n",
    "\n",
    "# Проверяем чётность: f(-x) == f(x)\n",
    "is_even = f.subs(x, - x) == f\n",
    "\n",
    "# Проверяем нечётность: f(-x) == -f(x)\n",
    "is_odd = f.subs(x, -x) == -f\n",
    "\n",
    "# Выводим результаты\n",
    "print(f\"Чётная функция: {is_even}\")\n",
    "print(f\"Нечётная функция: {is_odd}\")"
   ]
  },
  {
   "cell_type": "code",
   "execution_count": 18,
   "id": "34c8c041",
   "metadata": {},
   "outputs": [
    {
     "data": {
      "text/latex": [
       "$\\displaystyle \\left\\{0\\right\\}$"
      ],
      "text/plain": [
       "{0}"
      ]
     },
     "execution_count": 18,
     "metadata": {},
     "output_type": "execute_result"
    }
   ],
   "source": [
    "# В какой точке график пересекает ось абсции (X):\n",
    "from sympy import solveset, Eq\n",
    "\n",
    "f = (x**3) / (2 * (x + 5)**2)\n",
    "solveset(Eq(f, 0), x)"
   ]
  },
  {
   "cell_type": "code",
   "execution_count": 19,
   "id": "db0ca6a6",
   "metadata": {},
   "outputs": [
    {
     "data": {
      "text/latex": [
       "$\\displaystyle 0$"
      ],
      "text/plain": [
       "0"
      ]
     },
     "execution_count": 19,
     "metadata": {},
     "output_type": "execute_result"
    }
   ],
   "source": [
    "# В какой точке график пересекает ось ординат (Y):\n",
    "x = Symbol(\"x\")\n",
    "f = (x**3) / (2 * (x + 5)**2)\n",
    "f.subs(x, 0)"
   ]
  },
  {
   "cell_type": "code",
   "execution_count": 20,
   "id": "9f0a0574",
   "metadata": {},
   "outputs": [
    {
     "data": {
      "text/latex": [
       "$\\displaystyle - \\frac{x^{3}}{\\left(x + 5\\right)^{3}} + \\frac{3 x^{2}}{2 \\left(x + 5\\right)^{2}}$"
      ],
      "text/plain": [
       "-x**3/(x + 5)**3 + 3*x**2/(2*(x + 5)**2)"
      ]
     },
     "execution_count": 20,
     "metadata": {},
     "output_type": "execute_result"
    }
   ],
   "source": [
    "# Найдем производную от нашей функции:\n",
    "x = Symbol(\"x\")\n",
    "expr = (x**3) / (2 * (x + 5)**2)\n",
    "expr.diff(x)"
   ]
  },
  {
   "cell_type": "code",
   "execution_count": 21,
   "id": "4467f847",
   "metadata": {},
   "outputs": [
    {
     "name": "stdout",
     "output_type": "stream",
     "text": [
      "x = -15 — точка максимума\n",
      "x = 0 — не определено (возможно, точка перегиба)\n"
     ]
    }
   ],
   "source": [
    "# Нахождение точек минимума и максимума функции:\n",
    "from sympy import solve\n",
    "\n",
    "# Определяем переменную\n",
    "x = Symbol('x')\n",
    "\n",
    "# Определяем функцию\n",
    "f = (x**3) / (2 * (x + 5)**2)\n",
    "# 1. Найти первую производную\n",
    "f_prime = diff(f, x)\n",
    "\n",
    "# 2. Найти критические точки (приравняв первую производную к 0)\n",
    "critical_points = solve(f_prime, x)\n",
    "\n",
    "# 3. Найти вторую производную\n",
    "f_double_prime = diff(f_prime, x)\n",
    "\n",
    "# 4. Определяем, максимум или минимум в критических точках\n",
    "for point in critical_points:\n",
    "    second_derivative_value = f_double_prime.subs(x, point)\n",
    "    if second_derivative_value > 0:\n",
    "        print(f\"x = {point} — точка минимума\")\n",
    "    elif second_derivative_value < 0:\n",
    "        print(f\"x = {point} — точка максимума\")\n",
    "    else:\n",
    "        print(f\"x = {point} — не определено (возможно, точка перегиба)\")"
   ]
  },
  {
   "cell_type": "code",
   "execution_count": 22,
   "id": "eae1ef8b",
   "metadata": {},
   "outputs": [
    {
     "data": {
      "text/latex": [
       "$\\displaystyle - \\frac{x^{3}}{\\left(x + 5\\right)^{3}} + \\frac{3 x^{2}}{2 \\left(x + 5\\right)^{2}}$"
      ],
      "text/plain": [
       "-x**3/(x + 5)**3 + 3*x**2/(2*(x + 5)**2)"
      ]
     },
     "execution_count": 22,
     "metadata": {},
     "output_type": "execute_result"
    }
   ],
   "source": [
    "# Области возрастания функции\n",
    "\n",
    "x = Symbol(\"x\")\n",
    "expr = (x**3) / (2 * (x + 5)**2)\n",
    "expr.diff(x)"
   ]
  },
  {
   "cell_type": "code",
   "execution_count": 23,
   "id": "5abbbe02",
   "metadata": {},
   "outputs": [
    {
     "data": {
      "text/latex": [
       "$\\displaystyle \\left\\{-15, 0\\right\\}$"
      ],
      "text/plain": [
       "{-15, 0}"
      ]
     },
     "execution_count": 23,
     "metadata": {},
     "output_type": "execute_result"
    }
   ],
   "source": [
    "y = expr.diff(x)\n",
    "solveset(Eq(y, 0), x)"
   ]
  },
  {
   "cell_type": "code",
   "execution_count": 24,
   "id": "8ab7bd81",
   "metadata": {},
   "outputs": [
    {
     "data": {
      "text/latex": [
       "$\\displaystyle \\frac{3 x \\left(\\frac{x^{2}}{\\left(x + 5\\right)^{2}} - \\frac{2 x}{x + 5} + 1\\right)}{\\left(x + 5\\right)^{2}}$"
      ],
      "text/plain": [
       "3*x*(x**2/(x + 5)**2 - 2*x/(x + 5) + 1)/(x + 5)**2"
      ]
     },
     "execution_count": 24,
     "metadata": {},
     "output_type": "execute_result"
    }
   ],
   "source": [
    "# Вторая производная от функции\n",
    "x = Symbol('x')\n",
    "f = (x**3) / (2 * (x + 5)**2)\n",
    "f.diff(x, 2)"
   ]
  },
  {
   "cell_type": "code",
   "execution_count": 25,
   "id": "4027bde6",
   "metadata": {},
   "outputs": [
    {
     "data": {
      "text/latex": [
       "$\\displaystyle \\frac{3 x \\left(\\frac{x^{2}}{\\left(x + 5\\right)^{2}} - \\frac{2 x}{x + 5} + 1\\right)}{\\left(x + 5\\right)^{2}}$"
      ],
      "text/plain": [
       "3*x*(x**2/(x + 5)**2 - 2*x/(x + 5) + 1)/(x + 5)**2"
      ]
     },
     "execution_count": 25,
     "metadata": {},
     "output_type": "execute_result"
    }
   ],
   "source": [
    "# Исследование функции на выпуклость\n",
    "x = sympy.Symbol(\"x\")\n",
    "expr = (x**3) / (2 * (x + 5)**2)\n",
    "expr.diff(x, 2)"
   ]
  },
  {
   "cell_type": "code",
   "execution_count": 26,
   "id": "82e870e6",
   "metadata": {},
   "outputs": [
    {
     "data": {
      "text/latex": [
       "$\\displaystyle \\left\\{0\\right\\}$"
      ],
      "text/plain": [
       "{0}"
      ]
     },
     "execution_count": 26,
     "metadata": {},
     "output_type": "execute_result"
    }
   ],
   "source": [
    "y = expr.diff(x, 2)\n",
    "solveset(Eq(y, 0), x)"
   ]
  }
 ],
 "metadata": {
  "kernelspec": {
   "display_name": "Python 3",
   "language": "python",
   "name": "python3"
  },
  "language_info": {
   "codemirror_mode": {
    "name": "ipython",
    "version": 3
   },
   "file_extension": ".py",
   "mimetype": "text/x-python",
   "name": "python",
   "nbconvert_exporter": "python",
   "pygments_lexer": "ipython3",
   "version": "3.12.1"
  }
 },
 "nbformat": 4,
 "nbformat_minor": 5
}

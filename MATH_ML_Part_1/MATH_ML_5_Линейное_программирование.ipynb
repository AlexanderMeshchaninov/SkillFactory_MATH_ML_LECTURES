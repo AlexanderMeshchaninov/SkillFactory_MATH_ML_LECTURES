{
 "cells": [
  {
   "cell_type": "markdown",
   "metadata": {},
   "source": [
    "# Линейное программирование\n",
    "\n",
    "Линейное программирование — это метод оптимизации для системы линейных ограничений и линейной целевой функции. Целевая функция определяет оптимизируемую величину, и цель линейного программирования состоит в том, чтобы найти значения переменных, которые максимизируют или минимизируют целевую функцию.\n",
    "\n",
    "Линейное программирование полезно применять для многих задач, требующих оптимизации ресурсов:\n",
    "\n",
    "- В производстве — чтобы рассчитать человеческие и технические ресурсы и минимизировать стоимость итоговой продукции.\n",
    "\n",
    "- При составлении бизнес-планов — чтобы решить, какие продукты продавать и в каком количестве, чтобы максимизировать прибыль.\n",
    "\n",
    "- В логистике — чтобы определить, как использовать транспортные ресурсы для выполнения заказов за минимальное время.\n",
    "\n",
    "- В сфере общепита — чтобы составить расписание для официантов.\n",
    "\n",
    "Задача линейного программирования — это задача оптимизации, в которой целевая функция и функции-ограничения линейны, а все переменные неотрицательны."
   ]
  },
  {
   "cell_type": "markdown",
   "metadata": {},
   "source": [
    "В языке Python есть множество библиотек, с помощью которых можно решить задачу линейного программирования. Вот основные, которые мы рассмотрим в данном юните:\n",
    "\n",
    "- SciPy (scipy.optimize.linprog);\n",
    "- CVXPY; \n",
    "- PuLP.\n",
    "\n",
    "### Обычно в коде существуют такие обозначения:\n",
    "\n",
    "--- \n",
    "1. c - коэффициенты целевой функции.\n",
    "\n",
    "Пример: $P(x, y) = c_1x + c_2y$\n",
    "\n",
    "Если мы **максимизируем** прибыль, нам нужно записать коэффициенты с отрицательным знаком, так как linprog решает только задачи минимизации.\n",
    "\n",
    "Например, если мы хотим максимизировать $4x + 3y$, то мы передаем:\n",
    "\n",
    "``` python\n",
    "c = [-4, -3]\n",
    "```\n",
    "---\n",
    "\n",
    "2. A - коэффициенты ограничений.\n",
    "\n",
    "где:\n",
    "\n",
    "- A — матрица коэффициентов перед переменными x, y\n",
    "\n",
    "- b — правая часть ограничений.\n",
    "\n",
    "Пример: есть два ограничения:\n",
    "\n",
    "- $2x + 4y <= 220$\n",
    "- $3x + 2y <= 150$\n",
    "\n",
    "```python\n",
    "A = [\n",
    "    [2, 4],  # 2x + 4y <= 220\n",
    "    [3, 2]   # 3x + 2y <= 150\n",
    "]\n",
    "\n",
    "b = [220, 150]\n",
    "```\n",
    "---\n",
    "3. x_bounds и y_bounds — границы переменных.\n",
    "\n",
    "Они задают диапазон значений для x и y\n",
    "\n",
    "Пример: x >= 0 и y >= 0\n",
    "\n",
    "```python\n",
    "x_bounds = (0, None)  # x не может быть отрицательным, но верхней границы нет\n",
    "y_bounds = (0, None)  # y не может быть отрицательным\n",
    "```\n",
    "\n",
    "Если у x есть верхнее ограничение (например, 0 <= x <= 50), то:\n",
    "\n",
    "```python\n",
    "x_bounds = (0, 50)\n",
    "```"
   ]
  },
  {
   "cell_type": "markdown",
   "metadata": {},
   "source": [
    "---"
   ]
  },
  {
   "cell_type": "markdown",
   "metadata": {},
   "source": [
    "### Пример c помощью: (SciPy (scipy.optimize.linprog))\n",
    "\n",
    "У нас есть 6 товаров с заданными ценами на них и заданной массой.\n",
    "\n",
    "Вместимость сумки, в которую мы можем положить товары, заранее известна и равна 15 кг.\n",
    "\n",
    "Какой товар и в каком объёме необходимо взять, чтобы сумма всех цен товаров была максимальной?"
   ]
  },
  {
   "cell_type": "code",
   "execution_count": 1,
   "metadata": {},
   "outputs": [
    {
     "name": "stdout",
     "output_type": "stream",
     "text": [
      "        message: Optimization terminated successfully. (HiGHS Status 7: Optimal)\n",
      "        success: True\n",
      "         status: 0\n",
      "            fun: -52.5\n",
      "              x: [ 0.000e+00  0.000e+00  0.000e+00  7.500e+00  0.000e+00\n",
      "                   0.000e+00]\n",
      "            nit: 0\n",
      "          lower:  residual: [ 0.000e+00  0.000e+00  0.000e+00  7.500e+00\n",
      "                              0.000e+00  0.000e+00]\n",
      "                 marginals: [ 1.350e+01  2.950e+01  2.700e+01  0.000e+00\n",
      "                              1.800e+01  1.150e+01]\n",
      "          upper:  residual: [       inf        inf        inf        inf\n",
      "                                    inf        inf]\n",
      "                 marginals: [ 0.000e+00  0.000e+00  0.000e+00  0.000e+00\n",
      "                              0.000e+00  0.000e+00]\n",
      "          eqlin:  residual: []\n",
      "                 marginals: []\n",
      "        ineqlin:  residual: [ 0.000e+00]\n",
      "                 marginals: [-3.500e+00]\n",
      " mip_node_count: 0\n",
      " mip_dual_bound: 0.0\n",
      "        mip_gap: 0.0\n",
      "\n",
      "Максимальная сумма всех цен товаров: 52.5\n"
     ]
    }
   ],
   "source": [
    "from scipy.optimize import linprog\n",
    "import numpy as np\n",
    "\n",
    "values = [4, 2, 1, 7, 3, 6] #стоимости товаров\n",
    "weights = [5, 9, 8, 2, 6, 5] #вес товаров\n",
    "C = 15 # вместимость сумки\n",
    "n = 6 # кол-во товаров\n",
    "\n",
    "c = - np.array(values) # изменяем знак, чтобы перейти от задачи максимизации к задаче минимизации\n",
    "A = np.array(weights) # конвертируем список с весами в массив\n",
    "\n",
    "# Здесь нам необходимо вспомнить линейную алгебру, \n",
    "# так как очень важно, чтобы векторы были в нужных нам размерностях, \n",
    "# иначе мы не сможем использовать матричное умножение. \n",
    "# Вектор A размера 6 мы превращаем в матрицу размера (1, 6) с помощью функции expand_dims(). \n",
    "# Создаём все необходимые переменные:\n",
    "\n",
    "A = np.expand_dims(A, 0) # преобразуем размерность массива\n",
    "b = np.array([C]) # конвертируем вместимость в массив\n",
    "\n",
    "result = linprog(c=c, A_ub=A, b_ub=b)\n",
    "\n",
    "# Выводим результат\n",
    "print(f'{result}\\n')\n",
    "print(\"Максимальная сумма всех цен товаров:\", -result.fun)"
   ]
  },
  {
   "cell_type": "markdown",
   "metadata": {},
   "source": [
    "Получаем искомое значение функции — 52.5 (в выводе значение с минусом, но мы меняем знак, возвращаясь к задаче максимизации). $x = (0, 0 ,0, 7.5, 0, 0)$. Таким образом, мы взяли только самую дорогую, четвёртую вещь. Она одна весит 2 кг, а если взять её 7.5 раз, то получится как раз 15 кг. Отлично, задача решена."
   ]
  },
  {
   "cell_type": "markdown",
   "metadata": {},
   "source": [
    "### Пример: \n",
    "\n",
    "Магазин спортивных товаров получает прибыль в размере 6 долларов с каждого проданного футбольного мяча и 5.5 долларов — с бейсбольного.\n",
    "\n",
    "Каждый месяц магазин продаёт от 35 до 45 футбольных мячей и от 40 до 55 бейсбольных.\n",
    "\n",
    "Известно, что в этом месяце у магазина есть в общей сложности 80 мячей.\n",
    "\n",
    "Какую максимальную прибыль в этом месяце может получить магазин от продажи мячей?"
   ]
  },
  {
   "cell_type": "code",
   "execution_count": 2,
   "metadata": {},
   "outputs": [
    {
     "name": "stdout",
     "output_type": "stream",
     "text": [
      "Оптимальное количество футбольных мячей: 40.0\n",
      "Оптимальное количество бейсбольных мячей: 40.0\n",
      "Максимальная прибыль: 460.0\n"
     ]
    }
   ],
   "source": [
    "# Коэффициенты целевой функции (мы максимизируем, поэтому берем отрицательные значения)\n",
    "c = [-6, -5.5]  # (футбольные мячи, бейсбольные мячи)\n",
    "\n",
    "# Ограничения\n",
    "A = [[1, 1],    # x + y = 80 (в этом месяце)\n",
    "     [1, 0],    # x <= 45\n",
    "     [-1, 0],   # x >= 35\n",
    "     [0, 1],    # y <= 55\n",
    "     [0, -1]]   # y >= 40\n",
    "\n",
    "b = [80, 45, -35, 55, -40] # Правая часть неравенств\n",
    "\n",
    "# Границы переменных\n",
    "x_bounds = (35, 45)\n",
    "y_bounds = (40, 55)\n",
    "\n",
    "# Решаем задачу\n",
    "result = linprog(c, A_ub=A, b_ub=b, bounds=[x_bounds, y_bounds], method=\"highs\")\n",
    "\n",
    "# Выводим результат\n",
    "print(\"Оптимальное количество футбольных мячей:\", result.x[0])\n",
    "print(\"Оптимальное количество бейсбольных мячей:\", result.x[1])\n",
    "print(\"Максимальная прибыль:\", -result.fun)"
   ]
  },
  {
   "cell_type": "markdown",
   "metadata": {},
   "source": [
    "---"
   ]
  },
  {
   "cell_type": "markdown",
   "metadata": {},
   "source": [
    "### Пример c помощью: (CVXPY)\n",
    "\n",
    "Снова решим задачу из примера № 1, но уже предположим, что товары нельзя дробить, и будем решать задачу целочисленного линейного программирования.\n",
    "\n",
    "SciPy не умеет решать такие задачи, поэтому будем использовать новую библиотеку CVXPY."
   ]
  },
  {
   "cell_type": "code",
   "execution_count": 3,
   "metadata": {},
   "outputs": [],
   "source": [
    "import cvxpy\n",
    "\n",
    "values = [4, 2, 1, 7, 3, 6] #стоимости товаров\n",
    "weights = [5, 9, 8, 2, 6, 5] #вес товаров\n",
    "C = 15 # вместимость сумки\n",
    "n = 6 # кол-во товаров\n",
    "\n",
    "c = - np.array(values) # изменяем знак, чтобы перейти от задачи максимизации к задаче минимизации\n",
    "A = np.array(weights) # конвертируем список с весами в массив\n",
    "A = np.expand_dims(A, 0) # преобразуем размерность массива\n",
    "b = np.array([C]) # конвертируем вместимость в массив"
   ]
  },
  {
   "cell_type": "markdown",
   "metadata": {},
   "source": [
    "Поскольку мы решаем теперь задачу целочисленными значениями, нам необходимо это явно указать - x целочисленные значения."
   ]
  },
  {
   "cell_type": "code",
   "execution_count": 4,
   "metadata": {},
   "outputs": [],
   "source": [
    "x = cvxpy.Variable(shape=n, integer=True) # размерность n = 6, целочисленные значения = True"
   ]
  },
  {
   "cell_type": "code",
   "execution_count": 5,
   "metadata": {},
   "outputs": [
    {
     "name": "stdout",
     "output_type": "stream",
     "text": [
      "Максимальная сумма товаров составляет: 49.0\n"
     ]
    }
   ],
   "source": [
    "constrains = (A @ x <= b) # Устанавливаем ограничение на вес товаров, вес не должен превышать 15\n",
    "x_positive = (x >= 0) # Также указываем, что x может быть только положительным или равен 0\n",
    "total_value = c @ x # переменная для вычисления веса где вес * на количество товаров\n",
    "\n",
    "# Оптимизационная задача (минимизируем значения и указываем содержание ограничения)\n",
    "problem = cvxpy.Problem(cvxpy.Minimize(total_value), constraints=[constrains, x_positive])\n",
    "\n",
    "# Решаем задачу\n",
    "result = problem.solve()\n",
    "print(f'Максимальная сумма товаров составляет: {- result}')"
   ]
  },
  {
   "cell_type": "code",
   "execution_count": 6,
   "metadata": {},
   "outputs": [
    {
     "name": "stdout",
     "output_type": "stream",
     "text": [
      "Количество товаров добавленных в сумку: [-0. -0. -0.  7. -0.  0.]\n"
     ]
    }
   ],
   "source": [
    "# при каких количествах товаров эта задача решена (берем 4-й товар 7 раз)\n",
    "print(f'Количество товаров добавленных в сумку: {x.value}')"
   ]
  },
  {
   "cell_type": "markdown",
   "metadata": {},
   "source": [
    "Здесь мы уже получаем 49, и берём только четвёртый товар в количестве семи штук. Можно увидеть, что результат, в целом, очень близок к первому, когда мы использовали библиотеку SciPy — различие лишь в добавлении целочисленности. Значит, у нас получилось решить задачу, когда мы добавили недостающее условие."
   ]
  },
  {
   "cell_type": "markdown",
   "metadata": {},
   "source": [
    "А что если мы можем брать не любое количество товаров, а только один или не брать их вовсе? Задаём x типа boolean.\n",
    "\n",
    "$x = 1$ или $x = 0$ "
   ]
  },
  {
   "cell_type": "code",
   "execution_count": 7,
   "metadata": {},
   "outputs": [
    {
     "name": "stdout",
     "output_type": "stream",
     "text": [
      "Максимальная сумма товаров составляет: 17.0\n",
      "Количество товаров добавленных в сумку: [1. 0. 0. 1. 0. 1.]\n"
     ]
    }
   ],
   "source": [
    "x = cvxpy.Variable(shape=n, boolean=True) # Здесь указываем True\n",
    "\n",
    "constrains = (A @ x <= b) # Устанавливаем ограничение на вес товаров, вес не должен превышать 15\n",
    "x_positive = (x >= 0) # Также указываем, что x может быть только положительным или равен 0\n",
    "total_value = c @ x # переменная для вычисления веса где вес * на количество товаров\n",
    "\n",
    "# Оптимизационная задача (минимизируем значения и указываем содержание ограничения)\n",
    "problem = cvxpy.Problem(cvxpy.Minimize(total_value), constraints=[constrains, x_positive])\n",
    "\n",
    "# Решаем задачу\n",
    "result = problem.solve()\n",
    "print(f'Максимальная сумма товаров составляет: {- result}')\n",
    "# при каких количествах товаров эта задача решена (берем 4-й товар 7 раз)\n",
    "print(f'Количество товаров добавленных в сумку: {x.value}') # Взяли 1-й, 4-й и 6-й товары по одному разу"
   ]
  },
  {
   "cell_type": "markdown",
   "metadata": {},
   "source": [
    "---"
   ]
  },
  {
   "cell_type": "markdown",
   "metadata": {},
   "source": [
    "### Пример c помощью: (PuLP)\n",
    "\n",
    "В нашей каршеринговой компании две модели автомобилей: модель A и модель B. Автомобиль A даёт прибыль в размере 20 тысяч в месяц, а автомобиль B — 45 тысяч в месяц. Мы хотим заказать на заводе новые автомобили и максимизировать прибыль. Однако на производство и ввод в эксплуатацию автомобилей понадобится время:\n",
    "\n",
    "- Проектировщику требуется 4 дня, чтобы подготовить документы для производства каждого автомобиля типа A, и 5 дней — для каждого автомобиля типа B.\n",
    "\n",
    "- Заводу требуется 3 дня, чтобы изготовить модель A, и 6 дней, чтобы изготовить модель B.\n",
    "\n",
    "Менеджеру требуется 2 дня, чтобы ввести в эксплуатацию в компании автомобиль A, и 7 дней — B автомобиль B.\n",
    "\n",
    "- Каждый специалист может работать суммарно 30 дней."
   ]
  },
  {
   "cell_type": "markdown",
   "metadata": {},
   "source": [
    "Заметьте, что здесь мы снова пишем обычные неравенства, а не условия в матричном виде. Дело в том, что для данной библиотеки так «удобнее», так как она принимает все условия в «первичном» виде."
   ]
  },
  {
   "cell_type": "code",
   "execution_count": null,
   "metadata": {},
   "outputs": [
    {
     "name": "stdout",
     "output_type": "stream",
     "text": [
      "Welcome to the CBC MILP Solver \n",
      "Version: 2.10.3 \n",
      "Build Date: Dec 15 2019 \n",
      "\n",
      "command line - /Users/alexander/.pyenv/versions/3.12.1/lib/python3.12/site-packages/pulp/solverdir/cbc/osx/64/cbc /var/folders/0g/dcvscgwn2bx5ldpwsnftw38c0000gn/T/af5b217179f349ccb38e65ffe2b2c4ee-pulp.mps -max -timeMode elapsed -branch -printingOptions all -solution /var/folders/0g/dcvscgwn2bx5ldpwsnftw38c0000gn/T/af5b217179f349ccb38e65ffe2b2c4ee-pulp.sol (default strategy 1)\n",
      "At line 2 NAME          MODEL\n",
      "At line 3 ROWS\n",
      "At line 8 COLUMNS\n",
      "At line 21 RHS\n",
      "At line 25 BOUNDS\n",
      "At line 28 ENDATA\n",
      "Problem MODEL has 3 rows, 2 columns and 6 elements\n",
      "Coin0008I MODEL read with 0 errors\n",
      "Option for timeMode changed from cpu to elapsed\n",
      "Continuous objective value is 216667 - 0.00 seconds\n",
      "Cgl0004I processed model has 3 rows, 2 columns (2 integer (0 of which binary)) and 6 elements\n",
      "Cutoff increment increased from 1e-05 to 5000\n",
      "Cbc0012I Integer solution of -195000 found by DiveCoefficient after 0 iterations and 0 nodes (0.00 seconds)\n",
      "Cbc0012I Integer solution of -200000 found by DiveCoefficient after 1 iterations and 0 nodes (0.00 seconds)\n",
      "Cbc0013I At root node, 0 cuts changed objective from -216666.67 to -200000 in 2 passes\n",
      "Cbc0014I Cut generator 0 (Probing) - 0 row cuts average 0.0 elements, 2 column cuts (2 active)  in 0.000 seconds - new frequency is 1\n",
      "Cbc0014I Cut generator 1 (Gomory) - 0 row cuts average 0.0 elements, 0 column cuts (0 active)  in 0.000 seconds - new frequency is -100\n",
      "Cbc0014I Cut generator 2 (Knapsack) - 0 row cuts average 0.0 elements, 0 column cuts (0 active)  in 0.000 seconds - new frequency is -100\n",
      "Cbc0014I Cut generator 3 (Clique) - 0 row cuts average 0.0 elements, 0 column cuts (0 active)  in 0.000 seconds - new frequency is -100\n",
      "Cbc0014I Cut generator 4 (MixedIntegerRounding2) - 0 row cuts average 0.0 elements, 0 column cuts (0 active)  in 0.000 seconds - new frequency is -100\n",
      "Cbc0014I Cut generator 5 (FlowCover) - 0 row cuts average 0.0 elements, 0 column cuts (0 active)  in 0.000 seconds - new frequency is -100\n",
      "Cbc0001I Search completed - best objective -200000, took 1 iterations and 0 nodes (0.00 seconds)\n",
      "Cbc0035I Maximum depth 0, 0 variables fixed on reduced cost\n",
      "Cuts at root node changed objective from -216667 to -200000\n",
      "Probing was tried 2 times and created 2 cuts of which 0 were active after adding rounds of cuts (0.000 seconds)\n",
      "Gomory was tried 2 times and created 0 cuts of which 0 were active after adding rounds of cuts (0.000 seconds)\n",
      "Knapsack was tried 2 times and created 0 cuts of which 0 were active after adding rounds of cuts (0.000 seconds)\n",
      "Clique was tried 2 times and created 0 cuts of which 0 were active after adding rounds of cuts (0.000 seconds)\n",
      "MixedIntegerRounding2 was tried 2 times and created 0 cuts of which 0 were active after adding rounds of cuts (0.000 seconds)\n",
      "FlowCover was tried 2 times and created 0 cuts of which 0 were active after adding rounds of cuts (0.000 seconds)\n",
      "TwoMirCuts was tried 1 times and created 0 cuts of which 0 were active after adding rounds of cuts (0.000 seconds)\n",
      "ZeroHalf was tried 1 times and created 0 cuts of which 0 were active after adding rounds of cuts (0.000 seconds)\n",
      "\n",
      "Result - Optimal solution found\n",
      "\n",
      "Objective value:                200000.00000000\n",
      "Enumerated nodes:               0\n",
      "Total iterations:               1\n",
      "Time (CPU seconds):             0.00\n",
      "Time (Wallclock seconds):       0.00\n",
      "\n",
      "Option for printingOptions changed from normal to all\n",
      "Total time (CPU seconds):       0.00   (Wallclock seconds):       0.00\n",
      "\n",
      "Количество автомобилей модели А:  1.0\n",
      "Количество автомобилей модели В:  4.0\n",
      "Суммарный доход:  200000.0\n"
     ]
    },
    {
     "name": "stderr",
     "output_type": "stream",
     "text": [
      "/Users/alexander/.pyenv/versions/3.12.1/lib/python3.12/site-packages/pulp/pulp.py:1298: UserWarning: Spaces are not permitted in the name. Converted to '_'\n",
      "  warnings.warn(\"Spaces are not permitted in the name. Converted to '_'\")\n"
     ]
    }
   ],
   "source": [
    "from pulp import *\n",
    "\n",
    "# Создаем переменную нашей задачи, указывая, что мы хотим максимизировать функцию\n",
    "problem = LpProblem('Производство автомобилей', LpMaximize)\n",
    "\n",
    "# Записываем в более привычном виде две переменные (авто), где мы уже указваем то, \n",
    "# что они не могут быть отрицательными и значения целочисленные\n",
    "A = LpVariable('Автомобиль А', lowBound=0, cat=LpBinary)\n",
    "B = LpVariable('Автомобиль B', lowBound=0, cat=LpBinary)\n",
    "\n",
    "# += просто добавляем новые условия к нашей переменной-задаче\n",
    "# Целевая функция (максимизировать дохот от производства автомобилей)\n",
    "problem += 20000*A + 45000*B\n",
    "\n",
    "# Ограничения\n",
    "problem += 4*A + 5*B <= 30\n",
    "problem += 3*A + 6*B <= 30\n",
    "problem += 2*A + 7*B <= 30\n",
    "\n",
    "# Решение задачи\n",
    "problem.solve()\n",
    "\n",
    "# Вывод результата\n",
    "print(\"Количество автомобилей модели А: \", A.varValue)\n",
    "print(\"Количество автомобилей модели В: \", B.varValue)\n",
    "print(\"Суммарный доход: \", value(problem.objective))"
   ]
  },
  {
   "cell_type": "markdown",
   "metadata": {},
   "source": [
    "Выходит, что необходимо произвести 1 автомобиль типа A и 4 автомобиля типа B. Тогда суммарный чистый доход будет равен 200 тысячам."
   ]
  },
  {
   "cell_type": "markdown",
   "metadata": {},
   "source": [
    "---\n",
    "\n",
    "# Практика"
   ]
  },
  {
   "cell_type": "markdown",
   "metadata": {},
   "source": [
    "<img src='Images/ml_13.png'>"
   ]
  },
  {
   "cell_type": "code",
   "execution_count": 17,
   "metadata": {},
   "outputs": [
    {
     "name": "stdout",
     "output_type": "stream",
     "text": [
      "Welcome to the CBC MILP Solver \n",
      "Version: 2.10.3 \n",
      "Build Date: Dec 15 2019 \n",
      "\n",
      "command line - /Users/alexander/.pyenv/versions/3.12.1/lib/python3.12/site-packages/pulp/solverdir/cbc/osx/64/cbc /var/folders/0g/dcvscgwn2bx5ldpwsnftw38c0000gn/T/75ed9947f8414cb499c87a2dc5de24ec-pulp.mps -timeMode elapsed -branch -printingOptions all -solution /var/folders/0g/dcvscgwn2bx5ldpwsnftw38c0000gn/T/75ed9947f8414cb499c87a2dc5de24ec-pulp.sol (default strategy 1)\n",
      "At line 2 NAME          MODEL\n",
      "At line 3 ROWS\n",
      "At line 10 COLUMNS\n",
      "At line 41 RHS\n",
      "At line 47 BOUNDS\n",
      "At line 54 ENDATA\n",
      "Problem MODEL has 5 rows, 6 columns and 12 elements\n",
      "Coin0008I MODEL read with 0 errors\n",
      "Option for timeMode changed from cpu to elapsed\n",
      "Continuous objective value is 1900 - 0.00 seconds\n",
      "Cgl0004I processed model has 3 rows, 4 columns (4 integer (0 of which binary)) and 8 elements\n",
      "Cutoff increment increased from 1e-05 to 0.9999\n",
      "Cbc0012I Integer solution of 1900 found by DiveCoefficient after 0 iterations and 0 nodes (0.01 seconds)\n",
      "Cbc0001I Search completed - best objective 1900, took 0 iterations and 0 nodes (0.01 seconds)\n",
      "Cbc0035I Maximum depth 0, 0 variables fixed on reduced cost\n",
      "Cuts at root node changed objective from 1900 to 1900\n",
      "Probing was tried 0 times and created 0 cuts of which 0 were active after adding rounds of cuts (0.000 seconds)\n",
      "Gomory was tried 0 times and created 0 cuts of which 0 were active after adding rounds of cuts (0.000 seconds)\n",
      "Knapsack was tried 0 times and created 0 cuts of which 0 were active after adding rounds of cuts (0.000 seconds)\n",
      "Clique was tried 0 times and created 0 cuts of which 0 were active after adding rounds of cuts (0.000 seconds)\n",
      "MixedIntegerRounding2 was tried 0 times and created 0 cuts of which 0 were active after adding rounds of cuts (0.000 seconds)\n",
      "FlowCover was tried 0 times and created 0 cuts of which 0 were active after adding rounds of cuts (0.000 seconds)\n",
      "TwoMirCuts was tried 0 times and created 0 cuts of which 0 were active after adding rounds of cuts (0.000 seconds)\n",
      "ZeroHalf was tried 0 times and created 0 cuts of which 0 were active after adding rounds of cuts (0.000 seconds)\n",
      "\n",
      "Result - Optimal solution found\n",
      "\n",
      "Objective value:                1900.00000000\n",
      "Enumerated nodes:               0\n",
      "Total iterations:               0\n",
      "Time (CPU seconds):             0.00\n",
      "Time (Wallclock seconds):       0.01\n",
      "\n",
      "Option for printingOptions changed from normal to all\n",
      "Total time (CPU seconds):       0.00   (Wallclock seconds):       0.01\n",
      "\n",
      "Количество товаров со Склада 1 для ТЦ 1:  110.0\n",
      "Количество товаров со Склада 1 для ТЦ 2:  0.0\n",
      "Количество товаров со Склада 1 для ТЦ 3:  70.0\n",
      "Количество товаров со Склада 2 для ТЦ 1:  0.0\n",
      "Количество товаров со Склада 2 для ТЦ 2:  150.0\n",
      "Количество товаров со Склада 2 для ТЦ 3:  70.0\n",
      "Минимальная стоимость перевозки:  1900\n"
     ]
    },
    {
     "name": "stderr",
     "output_type": "stream",
     "text": [
      "/Users/alexander/.pyenv/versions/3.12.1/lib/python3.12/site-packages/pulp/pulp.py:1298: UserWarning: Spaces are not permitted in the name. Converted to '_'\n",
      "  warnings.warn(\"Spaces are not permitted in the name. Converted to '_'\")\n"
     ]
    }
   ],
   "source": [
    "# Создаем задачу линейного программирования\n",
    "problem = LpProblem('Оптимальный план перевозок', LpMinimize)\n",
    "\n",
    "# Постановка задачи Первый склад\n",
    "x11 = LpVariable('Склад 1 - 1 ТЦ', lowBound=0, cat=LpInteger)\n",
    "x12 = LpVariable('Склад 1 - 2 ТЦ', lowBound=0, cat=LpInteger)\n",
    "x13 = LpVariable('Склад 1 - 3 ТЦ', lowBound=0, cat=LpInteger)\n",
    "\n",
    "# Постановка задачи Второй склад\n",
    "x21 = LpVariable('Склад 2 - 1 ТЦ', lowBound=0, cat=LpInteger)\n",
    "x22 = LpVariable('Склад 2 - 2 ТЦ', lowBound=0, cat=LpInteger)\n",
    "x23 =LpVariable('Склад 2 - 3 ТЦ', lowBound=0, cat=LpInteger)\n",
    "\n",
    "# Целевая функция стоимость перевозки, которую нужно минимизировать\n",
    "problem += 2*x11 + 5*x12 + 3*x13 + 7*x21 + 7*x22 + 6*x23, \"Total cost\"\n",
    "\n",
    "# Ограничения запасам на складах\n",
    "problem += x11 + x12 + x13 <= 180 # Склад 1\n",
    "problem += x21 + x22 + x23 <= 220 # Склад 2\n",
    "\n",
    "# Ограничения по потребностям торговых центров\n",
    "problem += x11 + x21 == 110 # ТЦ 1\n",
    "problem += x12 + x22 == 150 # ТЦ 2\n",
    "problem += x13 + x23 == 140 # ТЦ 3\n",
    "\n",
    "problem.solve()\n",
    "\n",
    "# Вывод результата\n",
    "print(\"Количество товаров со Склада 1 для ТЦ 1: \", x11.varValue)\n",
    "print(\"Количество товаров со Склада 1 для ТЦ 2: \", x12.varValue)\n",
    "print(\"Количество товаров со Склада 1 для ТЦ 3: \", x13.varValue)\n",
    "\n",
    "print(\"Количество товаров со Склада 2 для ТЦ 1: \", x21.varValue)\n",
    "print(\"Количество товаров со Склада 2 для ТЦ 2: \", x22.varValue)\n",
    "print(\"Количество товаров со Склада 2 для ТЦ 3: \", x23.varValue)\n",
    "print(\"Минимальная стоимость перевозки: \", round(value(problem.objective)))"
   ]
  },
  {
   "cell_type": "markdown",
   "metadata": {},
   "source": [
    "<img src='Images/ml_14.png'>"
   ]
  },
  {
   "cell_type": "code",
   "execution_count": 22,
   "metadata": {},
   "outputs": [
    {
     "name": "stdout",
     "output_type": "stream",
     "text": [
      "Welcome to the CBC MILP Solver \n",
      "Version: 2.10.3 \n",
      "Build Date: Dec 15 2019 \n",
      "\n",
      "command line - /Users/alexander/.pyenv/versions/3.12.1/lib/python3.12/site-packages/pulp/solverdir/cbc/osx/64/cbc /var/folders/0g/dcvscgwn2bx5ldpwsnftw38c0000gn/T/d918b0f6b6bb41d68977ed79178fd461-pulp.mps -timeMode elapsed -branch -printingOptions all -solution /var/folders/0g/dcvscgwn2bx5ldpwsnftw38c0000gn/T/d918b0f6b6bb41d68977ed79178fd461-pulp.sol (default strategy 1)\n",
      "At line 2 NAME          MODEL\n",
      "At line 3 ROWS\n",
      "At line 15 COLUMNS\n",
      "At line 141 RHS\n",
      "At line 152 BOUNDS\n",
      "At line 178 ENDATA\n",
      "Problem MODEL has 10 rows, 25 columns and 50 elements\n",
      "Coin0008I MODEL read with 0 errors\n",
      "Option for timeMode changed from cpu to elapsed\n",
      "Continuous objective value is 32 - 0.00 seconds\n",
      "Cgl0004I processed model has 10 rows, 25 columns (25 integer (25 of which binary)) and 50 elements\n",
      "Cutoff increment increased from 1e-05 to 0.9999\n",
      "Cbc0038I Initial state - 0 integers unsatisfied sum - 0\n",
      "Cbc0038I Solution found of 32\n",
      "Cbc0038I Before mini branch and bound, 25 integers at bound fixed and 0 continuous\n",
      "Cbc0038I Mini branch and bound did not improve solution (0.00 seconds)\n",
      "Cbc0038I After 0.00 seconds - Feasibility pump exiting with objective of 32 - took 0.00 seconds\n",
      "Cbc0012I Integer solution of 32 found by feasibility pump after 0 iterations and 0 nodes (0.00 seconds)\n",
      "Cbc0001I Search completed - best objective 32, took 0 iterations and 0 nodes (0.00 seconds)\n",
      "Cbc0035I Maximum depth 0, 0 variables fixed on reduced cost\n",
      "Cuts at root node changed objective from 32 to 32\n",
      "Probing was tried 0 times and created 0 cuts of which 0 were active after adding rounds of cuts (0.000 seconds)\n",
      "Gomory was tried 0 times and created 0 cuts of which 0 were active after adding rounds of cuts (0.000 seconds)\n",
      "Knapsack was tried 0 times and created 0 cuts of which 0 were active after adding rounds of cuts (0.000 seconds)\n",
      "Clique was tried 0 times and created 0 cuts of which 0 were active after adding rounds of cuts (0.000 seconds)\n",
      "MixedIntegerRounding2 was tried 0 times and created 0 cuts of which 0 were active after adding rounds of cuts (0.000 seconds)\n",
      "FlowCover was tried 0 times and created 0 cuts of which 0 were active after adding rounds of cuts (0.000 seconds)\n",
      "TwoMirCuts was tried 0 times and created 0 cuts of which 0 were active after adding rounds of cuts (0.000 seconds)\n",
      "ZeroHalf was tried 0 times and created 0 cuts of which 0 were active after adding rounds of cuts (0.000 seconds)\n",
      "\n",
      "Result - Optimal solution found\n",
      "\n",
      "Objective value:                32.00000000\n",
      "Enumerated nodes:               0\n",
      "Total iterations:               0\n",
      "Time (CPU seconds):             0.00\n",
      "Time (Wallclock seconds):       0.00\n",
      "\n",
      "Option for printingOptions changed from normal to all\n",
      "Total time (CPU seconds):       0.00   (Wallclock seconds):       0.01\n",
      "\n",
      "Исполнитель 2 выполняет задачу 3\n",
      "Исполнитель 2 выполняет задачу 5\n",
      "Исполнитель 5 выполняет задачу 1\n",
      "Исполнитель 5 выполняет задачу 2\n",
      "Исполнитель 5 выполняет задачу 4\n",
      "Минимальная стоимость работ: 32\n"
     ]
    }
   ],
   "source": [
    "# Создаем задачу линейного программирования\n",
    "problem = LpProblem('О назначении исполнителей', LpMinimize)\n",
    "\n",
    "# Определяем переменные (каждое значение - 1 или 0, назначена ли задача исполнителю)\n",
    "x = [[LpVariable(f\"x_{i}_{j}\", cat=LpBinary) for j in range(5)] for i in range(5)]\n",
    "\n",
    "# Стоимости выполнения задач исполнителями (из таблицы)\n",
    "costs = [\n",
    "    [1000, 12, 10, 19, 8],\n",
    "    [12, 1000, 3, 7, 2],\n",
    "    [10, 3, 1000, 6, 20],\n",
    "    [19, 7, 6, 1000, 4],\n",
    "    [8, 2, 20, 4, 1000]\n",
    "]\n",
    "\n",
    "# Целевая функция - минимизация суммарных затрат\n",
    "problem += lpSum(costs[i][j] * x[i][j] for i in range(5) for j in range(5)), 'Total cost'\n",
    "\n",
    "# Ограничение: Каждая задача должна быть назначена ровно одному исполнителю\n",
    "for j in range(5):\n",
    "    problem += lpSum(x[i][j] for i in range(5)) == 1\n",
    "\n",
    "# Ограничение: Каждый исполнитель выполняет ровно одну задачу\n",
    "for i in range(5):\n",
    "    problem += lpSum(x[i][j] for j in range(5)) == 1\n",
    " \n",
    "problem.solve()\n",
    "\n",
    "# Вывод результата\n",
    "for i in range(1, 6):\n",
    "    for j in range(1, 6):\n",
    "        if eval(f\"x{i}{j}.varValue\") == 1:\n",
    "            print(f\"Исполнитель {i} выполняет задачу {j}\")\n",
    "\n",
    "# Выводим минимальную стоимость работ\n",
    "print(\"Минимальная стоимость работ:\", round(value(problem.objective)))"
   ]
  },
  {
   "cell_type": "markdown",
   "metadata": {},
   "source": [
    "<img src='Images/ml_15.png'>"
   ]
  },
  {
   "cell_type": "code",
   "execution_count": 24,
   "metadata": {},
   "outputs": [
    {
     "name": "stdout",
     "output_type": "stream",
     "text": [
      "Welcome to the CBC MILP Solver \n",
      "Version: 2.10.3 \n",
      "Build Date: Dec 15 2019 \n",
      "\n",
      "command line - /Users/alexander/.pyenv/versions/3.12.1/lib/python3.12/site-packages/pulp/solverdir/cbc/osx/64/cbc /var/folders/0g/dcvscgwn2bx5ldpwsnftw38c0000gn/T/07860ea293304da59a9a3b7330d231ba-pulp.mps -timeMode elapsed -branch -printingOptions all -solution /var/folders/0g/dcvscgwn2bx5ldpwsnftw38c0000gn/T/07860ea293304da59a9a3b7330d231ba-pulp.sol (default strategy 1)\n",
      "At line 2 NAME          MODEL\n",
      "At line 3 ROWS\n",
      "At line 27 COLUMNS\n",
      "At line 172 RHS\n",
      "At line 195 BOUNDS\n",
      "At line 224 ENDATA\n",
      "Problem MODEL has 22 rows, 24 columns and 76 elements\n",
      "Coin0008I MODEL read with 0 errors\n",
      "Option for timeMode changed from cpu to elapsed\n",
      "Continuous objective value is 32 - 0.00 seconds\n",
      "Cgl0003I 0 fixed, 0 tightened bounds, 12 strengthened rows, 0 substitutions\n",
      "Cgl0003I 0 fixed, 0 tightened bounds, 12 strengthened rows, 0 substitutions\n",
      "Cgl0004I processed model has 22 rows, 24 columns (24 integer (20 of which binary)) and 100 elements\n",
      "Cutoff increment increased from 1e-05 to 0.9999\n",
      "Cbc0038I Initial state - 8 integers unsatisfied sum - 2\n",
      "Cbc0038I Pass   1: suminf.    1.50000 (6) obj. 32 iterations 4\n",
      "Cbc0038I Pass   2: suminf.    1.50000 (6) obj. 32 iterations 8\n",
      "Cbc0038I Pass   3: suminf.    3.00000 (9) obj. 40.6667 iterations 5\n",
      "Cbc0038I Pass   4: suminf.    1.50000 (6) obj. 32 iterations 6\n",
      "Cbc0038I Pass   5: suminf.    2.00000 (5) obj. 47 iterations 10\n",
      "Cbc0038I Pass   6: suminf.    0.00000 (0) obj. 57 iterations 7\n",
      "Cbc0038I Solution found of 57\n",
      "Cbc0038I Cleaned solution of 57\n",
      "Cbc0038I Before mini branch and bound, 6 integers at bound fixed and 0 continuous\n",
      "Cbc0038I Full problem 22 rows 24 columns, reduced to 17 rows 13 columns\n",
      "Cbc0038I Mini branch and bound improved solution from 57 to 32 (0.02 seconds)\n",
      "Cbc0038I After 0.02 seconds - Feasibility pump exiting with objective of 32 - took 0.00 seconds\n",
      "Cbc0012I Integer solution of 32 found by feasibility pump after 0 iterations and 0 nodes (0.02 seconds)\n",
      "Cbc0001I Search completed - best objective 32, took 0 iterations and 0 nodes (0.02 seconds)\n",
      "Cbc0035I Maximum depth 0, 0 variables fixed on reduced cost\n",
      "Cuts at root node changed objective from 32 to 32\n",
      "Probing was tried 0 times and created 0 cuts of which 0 were active after adding rounds of cuts (0.000 seconds)\n",
      "Gomory was tried 0 times and created 0 cuts of which 0 were active after adding rounds of cuts (0.000 seconds)\n",
      "Knapsack was tried 0 times and created 0 cuts of which 0 were active after adding rounds of cuts (0.000 seconds)\n",
      "Clique was tried 0 times and created 0 cuts of which 0 were active after adding rounds of cuts (0.000 seconds)\n",
      "MixedIntegerRounding2 was tried 0 times and created 0 cuts of which 0 were active after adding rounds of cuts (0.000 seconds)\n",
      "FlowCover was tried 0 times and created 0 cuts of which 0 were active after adding rounds of cuts (0.000 seconds)\n",
      "TwoMirCuts was tried 0 times and created 0 cuts of which 0 were active after adding rounds of cuts (0.000 seconds)\n",
      "ZeroHalf was tried 0 times and created 0 cuts of which 0 were active after adding rounds of cuts (0.000 seconds)\n",
      "\n",
      "Result - Optimal solution found\n",
      "\n",
      "Objective value:                32.00000000\n",
      "Enumerated nodes:               0\n",
      "Total iterations:               0\n",
      "Time (CPU seconds):             0.01\n",
      "Time (Wallclock seconds):       0.02\n",
      "\n",
      "Option for printingOptions changed from normal to all\n",
      "Total time (CPU seconds):       0.01   (Wallclock seconds):       0.07\n",
      "\n",
      "Оптимальный маршрут:\n",
      "A -> E\n",
      "B -> C\n",
      "C -> A\n",
      "D -> B\n",
      "E -> D\n",
      "Минимальная длина маршрута: 32.0\n"
     ]
    }
   ],
   "source": [
    "# Создаем задачу линейного программирования (ЦЛП - целочисленного линейного программирования)\n",
    "problem = LpProblem('Коммивояжер', LpMinimize)\n",
    "\n",
    "# Определим точки\n",
    "points = ['A', 'B', 'C', 'D', 'E']\n",
    "\n",
    "# Определим количество точке\n",
    "n = len(points)\n",
    "\n",
    "# Расстояния между точками\n",
    "distances = {\n",
    "    ('A', 'B') : 12,\n",
    "    ('A', 'C') : 10,\n",
    "    ('A', 'D') : 19,\n",
    "    ('A', 'E') : 8,\n",
    "    ('B', 'C') : 3,\n",
    "    ('B', 'D') : 7,\n",
    "    ('B', 'E') : 2,\n",
    "    ('C', 'D') : 6,\n",
    "    ('C', 'E') : 20,\n",
    "    ('D', 'E') : 4\n",
    "}\n",
    "\n",
    "# Создание переменных x_ij (0 или 1 - используем ли маршрут)\n",
    "x = LpVariable.dicts('x', [(i, j) for i in points for j in points if i != j], cat=LpBinary)\n",
    "\n",
    "# Вспомогательные переменные для исключения подциклов\n",
    "u = LpVariable.dicts('u', points, lowBound=1, upBound=n, cat=LpInteger)\n",
    "\n",
    "# Целевая функция - минимизируем длину маршрута\n",
    "problem += lpSum(distances.get((i, j), distances.get((j, i))) * x[i, j] for i in points for j in points if i != j)\n",
    "\n",
    "# Ограничение 1: Из каждой точки выходит ровно один маршрут\n",
    "for i in points:\n",
    "    problem += lpSum(x[i, j] for j in points if i != j) == 1\n",
    "    \n",
    "# Ограничение 2: В каждую точку входит ровно один маршрут\n",
    "\n",
    "for j in points:\n",
    "    problem += lpSum(x[i, j] for i in points if i != j) == 1\n",
    "    \n",
    "    # Ограничение 3: Исключение подциклов\n",
    "for i in points:\n",
    "    for j in points:\n",
    "        if i != j and i != \"A\" and j != \"A\":  # A - стартовая точка\n",
    "            problem += u[i] - u[j] + n * x[i, j] <= n - 1\n",
    "            \n",
    "# Решаем задачу\n",
    "problem.solve()\n",
    "\n",
    "# Вывод решения\n",
    "print(\"Оптимальный маршрут:\")\n",
    "for i in points:\n",
    "    for j in points:\n",
    "        if i != j and x[i, j].varValue == 1:\n",
    "            print(f\"{i} -> {j}\")\n",
    "\n",
    "print(\"Минимальная длина маршрута:\", value(problem.objective))"
   ]
  }
 ],
 "metadata": {
  "kernelspec": {
   "display_name": "Python 3",
   "language": "python",
   "name": "python3"
  },
  "language_info": {
   "codemirror_mode": {
    "name": "ipython",
    "version": 3
   },
   "file_extension": ".py",
   "mimetype": "text/x-python",
   "name": "python",
   "nbconvert_exporter": "python",
   "pygments_lexer": "ipython3",
   "version": "3.12.1"
  }
 },
 "nbformat": 4,
 "nbformat_minor": 2
}

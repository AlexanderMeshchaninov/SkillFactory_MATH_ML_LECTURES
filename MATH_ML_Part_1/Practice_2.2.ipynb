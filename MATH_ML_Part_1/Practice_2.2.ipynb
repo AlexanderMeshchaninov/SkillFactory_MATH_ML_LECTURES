{
 "cells": [
  {
   "cell_type": "code",
   "execution_count": 20,
   "id": "d395f489",
   "metadata": {},
   "outputs": [],
   "source": [
    "import numpy as np\n",
    "import pandas as pd"
   ]
  },
  {
   "cell_type": "code",
   "execution_count": 21,
   "id": "def89b0c",
   "metadata": {},
   "outputs": [],
   "source": [
    "df = pd.read_csv('Data/advertising.csv',index_col=0)"
   ]
  },
  {
   "cell_type": "code",
   "execution_count": 22,
   "id": "3fbdff65",
   "metadata": {},
   "outputs": [
    {
     "data": {
      "text/html": [
       "<div>\n",
       "<style scoped>\n",
       "    .dataframe tbody tr th:only-of-type {\n",
       "        vertical-align: middle;\n",
       "    }\n",
       "\n",
       "    .dataframe tbody tr th {\n",
       "        vertical-align: top;\n",
       "    }\n",
       "\n",
       "    .dataframe thead th {\n",
       "        text-align: right;\n",
       "    }\n",
       "</style>\n",
       "<table border=\"1\" class=\"dataframe\">\n",
       "  <thead>\n",
       "    <tr style=\"text-align: right;\">\n",
       "      <th></th>\n",
       "      <th>TV</th>\n",
       "      <th>radio</th>\n",
       "      <th>newspaper</th>\n",
       "      <th>sales</th>\n",
       "    </tr>\n",
       "  </thead>\n",
       "  <tbody>\n",
       "    <tr>\n",
       "      <th>1</th>\n",
       "      <td>230.1</td>\n",
       "      <td>37.8</td>\n",
       "      <td>69.2</td>\n",
       "      <td>22.1</td>\n",
       "    </tr>\n",
       "    <tr>\n",
       "      <th>2</th>\n",
       "      <td>44.5</td>\n",
       "      <td>39.3</td>\n",
       "      <td>45.1</td>\n",
       "      <td>10.4</td>\n",
       "    </tr>\n",
       "    <tr>\n",
       "      <th>3</th>\n",
       "      <td>17.2</td>\n",
       "      <td>45.9</td>\n",
       "      <td>69.3</td>\n",
       "      <td>9.3</td>\n",
       "    </tr>\n",
       "    <tr>\n",
       "      <th>4</th>\n",
       "      <td>151.5</td>\n",
       "      <td>41.3</td>\n",
       "      <td>58.5</td>\n",
       "      <td>18.5</td>\n",
       "    </tr>\n",
       "    <tr>\n",
       "      <th>5</th>\n",
       "      <td>180.8</td>\n",
       "      <td>10.8</td>\n",
       "      <td>58.4</td>\n",
       "      <td>12.9</td>\n",
       "    </tr>\n",
       "  </tbody>\n",
       "</table>\n",
       "</div>"
      ],
      "text/plain": [
       "      TV  radio  newspaper  sales\n",
       "1  230.1   37.8       69.2   22.1\n",
       "2   44.5   39.3       45.1   10.4\n",
       "3   17.2   45.9       69.3    9.3\n",
       "4  151.5   41.3       58.5   18.5\n",
       "5  180.8   10.8       58.4   12.9"
      ]
     },
     "execution_count": 22,
     "metadata": {},
     "output_type": "execute_result"
    }
   ],
   "source": [
    "df.head()"
   ]
  },
  {
   "cell_type": "markdown",
   "id": "77d4156f",
   "metadata": {},
   "source": [
    "# Градиентный спуск реализованный самостоятельно"
   ]
  },
  {
   "cell_type": "code",
   "execution_count": 23,
   "id": "4921f4cd",
   "metadata": {},
   "outputs": [],
   "source": [
    "# Загружаем данные из DataFrame\n",
    "X = df['TV']  # Фактор (признак), объясняющая переменная\n",
    "y = df['sales']  # Целевая переменная (зависимая)\n",
    "\n",
    "# Количество наблюдений (строк в данных)\n",
    "n = len(y)\n",
    "\n",
    "# Добавляем столбец единиц в X для учета свободного члена (Intercept в регрессии)\n",
    "# X становится матрицей размерности (n, 2), где первый столбец - 1, второй - TV\n",
    "X = np.append(np.ones((n, 1)), X.values.reshape(n, 1), axis=1)\n",
    "\n",
    "# Преобразуем y в вектор-столбец (n, 1) для удобства матричных операций\n",
    "y = df['sales'].values.reshape(n, 1)\n",
    "\n",
    "# Инициализируем параметры модели (вектор коэффициентов) нулями\n",
    "# par - это вектор (2,1), включающий b0 (свободный член) и b1 (коэффициент при TV)\n",
    "par = np.zeros((2, 1))"
   ]
  },
  {
   "cell_type": "code",
   "execution_count": 24,
   "id": "6c57c280",
   "metadata": {},
   "outputs": [],
   "source": [
    "# Определяем функцию стоимости (функцию ошибки)\n",
    "def cost_function(X, y, par):\n",
    "    \"\"\"\n",
    "    Вычисляет функцию стоимости (ошибки) для линейной регрессии.\n",
    "    \n",
    "    Аргументы:\n",
    "    X - матрица признаков (n, 2)\n",
    "    y - вектор значений (n, 1)\n",
    "    par - вектор параметров (2, 1)\n",
    "    \n",
    "    Возвращает:\n",
    "    cost - среднеквадратичная ошибка (MSE)\n",
    "    \"\"\"\n",
    "    y_pred = np.dot(X, par)  # Предсказанные значения модели\n",
    "    error = (y_pred - y) ** 2  # Квадрат ошибки для каждого наблюдения\n",
    "    cost = 1 / n * np.sum(error)  # Средняя ошибка (MSE)\n",
    "    return cost"
   ]
  },
  {
   "cell_type": "code",
   "execution_count": 25,
   "id": "40b464b2",
   "metadata": {},
   "outputs": [],
   "source": [
    "# Определяем функцию градиентного спуска\n",
    "def grad_d(X, y, par, alpha, iterations, eps=0.001):\n",
    "    \"\"\"\n",
    "    Выполняет градиентный спуск для минимизации функции стоимости.\n",
    "    \n",
    "    Аргументы:\n",
    "    X - матрица признаков (n, 2)\n",
    "    y - вектор значений (n, 1)\n",
    "    par - начальные параметры (2, 1)\n",
    "    alpha - скорость обучения (learning rate)\n",
    "    iterations - максимальное количество итераций\n",
    "    eps - критерий остановки (если градиент становится очень мал)\n",
    "    \n",
    "    Возвращает:\n",
    "    par - оптимизированные параметры (2, 1)\n",
    "    costs - список значений функции стоимости на каждой итерации\n",
    "    \"\"\"\n",
    "    costs = []  # Список для хранения значений функции стоимости\n",
    "\n",
    "    for i in range(iterations):\n",
    "        y_pred = np.dot(X, par)  # Предсказания модели\n",
    "        der = np.dot(X.transpose(), (y_pred - y))  # Градиент ошибки\n",
    "        par -= alpha * 1 / n * der  # Обновление параметров по методу градиентного спуска\n",
    "        costs.append(cost_function(X, y, par))  # Сохранение значения ошибки\n",
    "\n",
    "        # Критерий остановки: если градиент (длина вектора градиента) стал меньше eps\n",
    "        if np.linalg.norm(der) <= eps:\n",
    "            # Завершаем итерации, если улучшение незначительно\n",
    "            break\n",
    "\n",
    "    return par, costs\n"
   ]
  },
  {
   "cell_type": "code",
   "execution_count": 26,
   "id": "1ee5e93b",
   "metadata": {},
   "outputs": [],
   "source": [
    "# Запуск градиентного спуска\n",
    "par_opt, costs_opt = grad_d(X, y, par, 0.00005, 500_000)"
   ]
  },
  {
   "cell_type": "code",
   "execution_count": 27,
   "id": "452bddc7",
   "metadata": {},
   "outputs": [
    {
     "data": {
      "text/plain": [
       "array([[7.02008789],\n",
       "       [0.04760015]])"
      ]
     },
     "execution_count": 27,
     "metadata": {},
     "output_type": "execute_result"
    }
   ],
   "source": [
    "par_opt"
   ]
  },
  {
   "cell_type": "markdown",
   "id": "590ff16a",
   "metadata": {},
   "source": [
    "# Градиентный спуск с помощью библиотеки (для сравнения)"
   ]
  },
  {
   "cell_type": "code",
   "execution_count": 28,
   "id": "b99f48ef",
   "metadata": {},
   "outputs": [
    {
     "name": "stdout",
     "output_type": "stream",
     "text": [
      "                            OLS Regression Results                            \n",
      "==============================================================================\n",
      "Dep. Variable:                      y   R-squared:                       0.612\n",
      "Model:                            OLS   Adj. R-squared:                  0.610\n",
      "Method:                 Least Squares   F-statistic:                     312.1\n",
      "Date:                Wed, 12 Feb 2025   Prob (F-statistic):           1.47e-42\n",
      "Time:                        11:17:35   Log-Likelihood:                -519.05\n",
      "No. Observations:                 200   AIC:                             1042.\n",
      "Df Residuals:                     198   BIC:                             1049.\n",
      "Df Model:                           1                                         \n",
      "Covariance Type:            nonrobust                                         \n",
      "==============================================================================\n",
      "                 coef    std err          t      P>|t|      [0.025      0.975]\n",
      "------------------------------------------------------------------------------\n",
      "const          7.0326      0.458     15.360      0.000       6.130       7.935\n",
      "x1             0.0475      0.003     17.668      0.000       0.042       0.053\n",
      "==============================================================================\n",
      "Omnibus:                        0.531   Durbin-Watson:                   1.935\n",
      "Prob(Omnibus):                  0.767   Jarque-Bera (JB):                0.669\n",
      "Skew:                          -0.089   Prob(JB):                        0.716\n",
      "Kurtosis:                       2.779   Cond. No.                         338.\n",
      "==============================================================================\n",
      "\n",
      "Notes:\n",
      "[1] Standard Errors assume that the covariance matrix of the errors is correctly specified.\n"
     ]
    }
   ],
   "source": [
    "# Импортируем необходимые библиотеки\n",
    "import numpy as np\n",
    "import statsmodels.api as sm  # Библиотека для статистического анализа\n",
    "\n",
    "# Создаём модель линейной регрессии (OLS - Ordinary Least Squares, метод наименьших квадратов)\n",
    "mod = sm.OLS(y, X)  # Передаём целевую переменную y и матрицу признаков X\n",
    "\n",
    "# Выполняем подгонку модели к данным (находим оптимальные параметры)\n",
    "res = mod.fit()\n",
    "\n",
    "# Выводим результаты регрессии (таблицу со статистическими характеристиками модели)\n",
    "print(res.summary())"
   ]
  },
  {
   "cell_type": "code",
   "execution_count": 30,
   "id": "3a46c500",
   "metadata": {},
   "outputs": [
    {
     "name": "stdout",
     "output_type": "stream",
     "text": [
      "<bound method NDFrame.head of         TV  radio  newspaper  sales\n",
      "1    230.1   37.8       69.2   22.1\n",
      "2     44.5   39.3       45.1   10.4\n",
      "3     17.2   45.9       69.3    9.3\n",
      "4    151.5   41.3       58.5   18.5\n",
      "5    180.8   10.8       58.4   12.9\n",
      "..     ...    ...        ...    ...\n",
      "196   38.2    3.7       13.8    7.6\n",
      "197   94.2    4.9        8.1    9.7\n",
      "198  177.0    9.3        6.4   12.8\n",
      "199  283.6   42.0       66.2   25.5\n",
      "200  232.1    8.6        8.7   13.4\n",
      "\n",
      "[200 rows x 4 columns]>\n",
      "[2.863]\n",
      "[0.046]\n",
      "[0.189]\n",
      "[-0.001]\n"
     ]
    }
   ],
   "source": [
    "import pandas as pd\n",
    "import numpy as np\n",
    "\n",
    "df = pd.read_csv('Data/advertising.csv',index_col=0)\n",
    "print(df.head)\n",
    "\n",
    "X = df[['TV','radio','newspaper']]\n",
    "y = df['sales']\n",
    "n = len(y)\n",
    "X = np.append(np.ones((n, 1)), X.values.reshape(n, 3), axis = 1)\n",
    "y = df['sales'].values.reshape(n, 1)\n",
    "par = np.zeros((4,1))\n",
    "\n",
    "def cost_function(X, y , par):\n",
    "    y_pred = np.dot(X, par)\n",
    "    error = (y_pred - y)**2\n",
    "    cost = 1/(n)*np.sum(error)\n",
    "    return cost\n",
    "\n",
    "def grad_d(X, y, par, alpha, iterations, eps=0.001):\n",
    "    costs = []\n",
    "    for i in range(iterations):\n",
    "        y_pred = np.dot(X, par)\n",
    "        der = np.dot (X.transpose(), (y_pred - y))/ n\n",
    "        par -= alpha * der\n",
    "        costs.append(cost_function(X,y, par))\n",
    "        if np.linalg.norm(der) < eps:\n",
    "            break\n",
    "    return par, costs\n",
    "\n",
    "par, costs = grad_d(X, y, par, 0.00005, 500_000)\n",
    "print(par[0].round(3)) # Константа\n",
    "print(par[1].round(3)) # TV\n",
    "print(par[2].round(3)) # Radio\n",
    "print(par[3].round(3)) # Newspaper"
   ]
  },
  {
   "cell_type": "code",
   "execution_count": 31,
   "id": "7628aa8a",
   "metadata": {},
   "outputs": [
    {
     "name": "stdout",
     "output_type": "stream",
     "text": [
      "                            OLS Regression Results                            \n",
      "==============================================================================\n",
      "Dep. Variable:                      y   R-squared:                       0.897\n",
      "Model:                            OLS   Adj. R-squared:                  0.896\n",
      "Method:                 Least Squares   F-statistic:                     570.3\n",
      "Date:                Wed, 12 Feb 2025   Prob (F-statistic):           1.58e-96\n",
      "Time:                        11:18:06   Log-Likelihood:                -386.18\n",
      "No. Observations:                 200   AIC:                             780.4\n",
      "Df Residuals:                     196   BIC:                             793.6\n",
      "Df Model:                           3                                         \n",
      "Covariance Type:            nonrobust                                         \n",
      "==============================================================================\n",
      "                 coef    std err          t      P>|t|      [0.025      0.975]\n",
      "------------------------------------------------------------------------------\n",
      "const          2.9389      0.312      9.422      0.000       2.324       3.554\n",
      "x1             0.0458      0.001     32.809      0.000       0.043       0.049\n",
      "x2             0.1885      0.009     21.893      0.000       0.172       0.206\n",
      "x3            -0.0010      0.006     -0.177      0.860      -0.013       0.011\n",
      "==============================================================================\n",
      "Omnibus:                       60.414   Durbin-Watson:                   2.084\n",
      "Prob(Omnibus):                  0.000   Jarque-Bera (JB):              151.241\n",
      "Skew:                          -1.327   Prob(JB):                     1.44e-33\n",
      "Kurtosis:                       6.332   Cond. No.                         454.\n",
      "==============================================================================\n",
      "\n",
      "Notes:\n",
      "[1] Standard Errors assume that the covariance matrix of the errors is correctly specified.\n"
     ]
    }
   ],
   "source": [
    "import numpy as np\n",
    "import statsmodels.api as sm\n",
    "mod = sm.OLS(y, X)\n",
    "res = mod.fit()\n",
    "print(res.summary())"
   ]
  },
  {
   "cell_type": "code",
   "execution_count": 32,
   "id": "db3259c6",
   "metadata": {},
   "outputs": [
    {
     "name": "stdout",
     "output_type": "stream",
     "text": [
      "[[ 0.          0.04576465  0.18853002 -0.00103749]]\n",
      "[2.93888937]\n"
     ]
    }
   ],
   "source": [
    "from sklearn.linear_model import LinearRegression\n",
    "model = LinearRegression()\n",
    "model.fit(X, y)\n",
    "print(model.coef_)\n",
    "print(model.intercept_)"
   ]
  },
  {
   "cell_type": "markdown",
   "id": "570c7144",
   "metadata": {},
   "source": [
    "# Стохастический градиентный спуск\n",
    "\n",
    "Давайте потренируемся применять стохастический градиентный спуск для решения задачи линейной регрессии. Для решения практических задач можно использовать готовые библиотеки.\n",
    "\n",
    "Загружаем стандартный датасет об алмазах из библиотеки Seaborn:"
   ]
  },
  {
   "cell_type": "code",
   "execution_count": 33,
   "id": "51a0d16b",
   "metadata": {},
   "outputs": [
    {
     "name": "stdout",
     "output_type": "stream",
     "text": [
      "   carat      cut color clarity  depth  table  price     x     y     z\n",
      "0   0.23    Ideal     E     SI2   61.5   55.0    326  3.95  3.98  2.43\n",
      "1   0.21  Premium     E     SI1   59.8   61.0    326  3.89  3.84  2.31\n",
      "2   0.23     Good     E     VS1   56.9   65.0    327  4.05  4.07  2.31\n",
      "3   0.29  Premium     I     VS2   62.4   58.0    334  4.20  4.23  2.63\n",
      "4   0.31     Good     J     SI2   63.3   58.0    335  4.34  4.35  2.75\n"
     ]
    }
   ],
   "source": [
    "import seaborn as sns\n",
    "import pandas as pd\n",
    "import numpy as np\n",
    "\n",
    "df = sns.load_dataset('diamonds')\n",
    "print(df.head())"
   ]
  },
  {
   "cell_type": "markdown",
   "id": "19f820d5",
   "metadata": {},
   "source": [
    "Удаляем часть признаков:"
   ]
  },
  {
   "cell_type": "code",
   "execution_count": 34,
   "id": "e3f2a046",
   "metadata": {},
   "outputs": [],
   "source": [
    "df.drop(['depth', 'table', 'x', 'y', 'z'], axis=1, inplace=True)"
   ]
  },
  {
   "cell_type": "markdown",
   "id": "61122941",
   "metadata": {},
   "source": [
    "Закодируем категориальные признаки:"
   ]
  },
  {
   "cell_type": "code",
   "execution_count": 35,
   "id": "e620ce7c",
   "metadata": {},
   "outputs": [],
   "source": [
    "df = pd.get_dummies(df, drop_first=True)"
   ]
  },
  {
   "cell_type": "markdown",
   "id": "001bb74c",
   "metadata": {},
   "source": [
    "Логарифмируем признаки:"
   ]
  },
  {
   "cell_type": "code",
   "execution_count": 36,
   "id": "627827aa",
   "metadata": {},
   "outputs": [],
   "source": [
    "df['carat'] = np.log(1+df['carat'])\n",
    "df['price'] = np.log(1+df['price'])"
   ]
  },
  {
   "cell_type": "markdown",
   "id": "3c23b6d3",
   "metadata": {},
   "source": [
    "Определяем целевую переменную и предикторы:"
   ]
  },
  {
   "cell_type": "code",
   "execution_count": 37,
   "id": "66da5b96",
   "metadata": {},
   "outputs": [],
   "source": [
    "X = df.drop(columns='price')\n",
    "y = df['price']"
   ]
  },
  {
   "cell_type": "markdown",
   "id": "1bd0e8ef",
   "metadata": {},
   "source": [
    "Разделяем выборку на обучающую и тестовую (объём тестовой возьмите равным 0.33), значение random_state должно быть равно 42."
   ]
  },
  {
   "cell_type": "code",
   "execution_count": 38,
   "id": "27d34763",
   "metadata": {},
   "outputs": [],
   "source": [
    "from sklearn.model_selection import train_test_split, GridSearchCV \n",
    "\n",
    "X_train, X_test, y_train, y_test = train_test_split(X, y, test_size=0.33, random_state=42)"
   ]
  },
  {
   "cell_type": "markdown",
   "id": "5074953b",
   "metadata": {},
   "source": [
    "Теперь реализуйте алгоритм линейной регрессии со стохастическим градиентным спуском (класс SGDRegressor). Отберите с помощью GridSearchCV оптимальные параметры по следующей сетке:"
   ]
  },
  {
   "cell_type": "code",
   "execution_count": 46,
   "id": "ab8fe053",
   "metadata": {},
   "outputs": [
    {
     "name": "stdout",
     "output_type": "stream",
     "text": [
      "Лучшие параметры: {'alpha': np.float64(0.001), 'eta0': np.float64(0.01), 'l1_ratio': np.float64(0.2222222222222222), 'learning_rate': 'constant', 'loss': 'squared_error', 'penalty': 'elasticnet'}\n",
      "MSE: 0.044\n"
     ]
    }
   ],
   "source": [
    "from sklearn.linear_model import SGDRegressor\n",
    "from sklearn.metrics import mean_squared_error\n",
    "\n",
    "# Создаем модель линейной регрессии из библиотеки cо стохастическим градиентным спуском\n",
    "model = SGDRegressor(fit_intercept=True)\n",
    "\n",
    "# Cетка гиперпараметров\n",
    "param_grid = {\n",
    "    \"loss\": [\"squared_error\", \"epsilon_insensitive\"],\n",
    "    \"penalty\": [\"elasticnet\"],\n",
    "    \"alpha\": np.logspace(-3, 3, 10),\n",
    "    \"l1_ratio\": np.linspace(0, 1, 10),\n",
    "    \"learning_rate\": [\"constant\"],\n",
    "    \"eta0\": np.logspace(-4, -1, 4)\n",
    "}\n",
    "\n",
    "# GridSearchCV для отбора оптимальных параметров\n",
    "grid_search = GridSearchCV(\n",
    "    model, \n",
    "    param_grid,\n",
    "    scoring='neg_mean_squared_error',\n",
    "    cv=5,\n",
    "    n_jobs=-1,  # Используем все ядра процессора\n",
    "    )\n",
    "\n",
    "# Обучаем GridSearch\n",
    "grid_search.fit(X_train, y_train)\n",
    "\n",
    "# Получаем лучшую модель\n",
    "best_model = grid_search.best_estimator_\n",
    "\n",
    "# Предсказываем на тестовой выборке\n",
    "y_pred = best_model.predict(X_test)\n",
    "\n",
    "# Вычисляем MSE и округляем до 3 знаков\n",
    "mse = round(mean_squared_error(y_test, y_pred), 3)\n",
    "\n",
    "# Выводим лучшие параметры и точность\n",
    "print(\"Лучшие параметры:\", grid_search.best_params_)\n",
    "print(\"MSE:\", mse)"
   ]
  }
 ],
 "metadata": {
  "kernelspec": {
   "display_name": "Python 3",
   "language": "python",
   "name": "python3"
  },
  "language_info": {
   "codemirror_mode": {
    "name": "ipython",
    "version": 3
   },
   "file_extension": ".py",
   "mimetype": "text/x-python",
   "name": "python",
   "nbconvert_exporter": "python",
   "pygments_lexer": "ipython3",
   "version": "3.12.1"
  }
 },
 "nbformat": 4,
 "nbformat_minor": 5
}

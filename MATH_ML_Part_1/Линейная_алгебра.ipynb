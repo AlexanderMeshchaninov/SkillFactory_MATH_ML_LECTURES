{
 "cells": [
  {
   "cell_type": "code",
   "execution_count": 2,
   "metadata": {},
   "outputs": [
    {
     "name": "stdout",
     "output_type": "stream",
     "text": [
      "[33 65 50 45]\n",
      "4\n",
      "50\n"
     ]
    }
   ],
   "source": [
    "import numpy as np\n",
    "\n",
    "s = np.array([33,65,50,45])\n",
    "\n",
    "print(s)\n",
    "print(len(s))\n",
    "print(s[2])"
   ]
  },
  {
   "cell_type": "code",
   "execution_count": 3,
   "metadata": {},
   "outputs": [
    {
     "name": "stdout",
     "output_type": "stream",
     "text": [
      "28\n",
      "12\n",
      "17\n",
      "31\n"
     ]
    }
   ],
   "source": [
    "t = np.array([12, 14, 17, 19, 24, 28, 31, 31, 27, 22, 17, 13])\n",
    "\n",
    "print(t[5])\n",
    "print(t[0])\n",
    "print(t[2])\n",
    "print(t[6])"
   ]
  },
  {
   "cell_type": "code",
   "execution_count": 4,
   "metadata": {},
   "outputs": [
    {
     "name": "stdout",
     "output_type": "stream",
     "text": [
      "Сложение векторов:[15 23 14  8]\n",
      "Разность векторов:[ 5 -7 -4 -6]\n"
     ]
    }
   ],
   "source": [
    "a = np.array([10,8,5,1])\n",
    "b = np.array([5,15,9,7])\n",
    "\n",
    "print(f'Сложение векторов:{a + b}')\n",
    "print(f'Разность векторов:{a - b}')"
   ]
  },
  {
   "cell_type": "code",
   "execution_count": 5,
   "metadata": {},
   "outputs": [
    {
     "name": "stdout",
     "output_type": "stream",
     "text": [
      "Умножение вектора на число:[24.   9.  13.6]\n"
     ]
    }
   ],
   "source": [
    "a = np.array([120,45,68])\n",
    "omega = 0.2\n",
    "c = a * omega\n",
    "print(f'Умножение вектора на число:{c}')"
   ]
  },
  {
   "cell_type": "code",
   "execution_count": 6,
   "metadata": {},
   "outputs": [
    {
     "name": "stdout",
     "output_type": "stream",
     "text": [
      "Линейная комбинация с тремя коэффициентами:[1800 3000 2700]\n"
     ]
    }
   ],
   "source": [
    "p = np.array([2,4,5]) # premium\n",
    "v = np.array([8,10,2]) # vip\n",
    "s = np.array([0,12,7]) # simple\n",
    "\n",
    "coef_p = 500\n",
    "coef_v = 100\n",
    "coef_s = 0\n",
    "\n",
    "m = coef_p * p + coef_v * v + coef_s * s\n",
    "print(f'Линейная комбинация с тремя коэффициентами:{m}')"
   ]
  },
  {
   "cell_type": "code",
   "execution_count": 7,
   "metadata": {},
   "outputs": [
    {
     "name": "stdout",
     "output_type": "stream",
     "text": [
      "[-10   3]\n"
     ]
    }
   ],
   "source": [
    "x = np.array([-3, 1])\n",
    "y = np.array([-2, 1])\n",
    "\n",
    "c1 =4\n",
    "c2 =-1\n",
    "\n",
    "z = c1 * x + c2 * y\n",
    "print(z)"
   ]
  },
  {
   "cell_type": "code",
   "execution_count": 8,
   "metadata": {},
   "outputs": [
    {
     "name": "stdout",
     "output_type": "stream",
     "text": [
      "Скалярное произведение (умножение):102.0\n"
     ]
    }
   ],
   "source": [
    "a = np.array([65,70,120,30])\n",
    "w = np.array([0.4,0.4,0.2,0.8])\n",
    "\n",
    "print(f'Скалярное произведение (умножение):{np.dot(a,w)}')"
   ]
  },
  {
   "cell_type": "markdown",
   "metadata": {},
   "source": [
    "# Матрицы"
   ]
  },
  {
   "cell_type": "code",
   "execution_count": 9,
   "metadata": {},
   "outputs": [
    {
     "name": "stdout",
     "output_type": "stream",
     "text": [
      "[[ 1 -5  3]\n",
      " [ 2  2  1]\n",
      " [ 0  3  1]\n",
      " [ 4  4 12]]\n",
      "Размер:(4, 3)\n",
      "a_23=1\n",
      "a_32=3\n",
      "a_33=1\n"
     ]
    }
   ],
   "source": [
    "A = np.array([[1,-5,3],\n",
    "              [2,2,1],\n",
    "              [0,3,1],\n",
    "              [4,4,12]\n",
    "              ])\n",
    "\n",
    "print(A)\n",
    "print(f'Размер:{A.shape}')\n",
    "print(f'a_23={A[1,2]}')\n",
    "print(f'a_32={A[2,1]}')\n",
    "print(f'a_33={A[2,2]}')"
   ]
  },
  {
   "cell_type": "code",
   "execution_count": 10,
   "metadata": {},
   "outputs": [
    {
     "name": "stdout",
     "output_type": "stream",
     "text": [
      "Матрица: \n",
      "[[ 5  6 -1]\n",
      " [ 8  2  3]\n",
      " [12  7 14]]\n",
      "Транспонированная матрица (перевернутая): \n",
      "[[ 5  8 12]\n",
      " [ 6  2  7]\n",
      " [-1  3 14]]\n"
     ]
    }
   ],
   "source": [
    "A = np.matrix('5,6,-1;8,2,3;12,7,14')\n",
    "\n",
    "print(f'Матрица: \\n{A}')\n",
    "print(f'Транспонированная матрица (перевернутая): \\n{A.T}')"
   ]
  },
  {
   "cell_type": "markdown",
   "metadata": {},
   "source": [
    "# Умножение матриц"
   ]
  },
  {
   "cell_type": "code",
   "execution_count": 11,
   "metadata": {},
   "outputs": [],
   "source": [
    "A = np.matrix(\"1, -5; 2, 2; 0, 3\")\n",
    "B = np.matrix(\"3, 1, 0; -1, 0, 2\")"
   ]
  },
  {
   "cell_type": "code",
   "execution_count": 12,
   "metadata": {},
   "outputs": [
    {
     "data": {
      "text/plain": [
       "matrix([[ 1, -5],\n",
       "        [ 2,  2],\n",
       "        [ 0,  3]])"
      ]
     },
     "execution_count": 12,
     "metadata": {},
     "output_type": "execute_result"
    }
   ],
   "source": [
    "A"
   ]
  },
  {
   "cell_type": "code",
   "execution_count": 13,
   "metadata": {},
   "outputs": [
    {
     "data": {
      "text/plain": [
       "matrix([[ 3,  1,  0],\n",
       "        [-1,  0,  2]])"
      ]
     },
     "execution_count": 13,
     "metadata": {},
     "output_type": "execute_result"
    }
   ],
   "source": [
    "B"
   ]
  },
  {
   "cell_type": "code",
   "execution_count": 14,
   "metadata": {},
   "outputs": [
    {
     "data": {
      "text/plain": [
       "matrix([[  8,   1, -10],\n",
       "        [  4,   2,   4],\n",
       "        [ -3,   0,   6]])"
      ]
     },
     "execution_count": 14,
     "metadata": {},
     "output_type": "execute_result"
    }
   ],
   "source": [
    "# Умножение матрицы A на B\n",
    "np.dot(A, B)"
   ]
  },
  {
   "cell_type": "code",
   "execution_count": 15,
   "metadata": {},
   "outputs": [
    {
     "data": {
      "text/plain": [
       "matrix([[  5, -13],\n",
       "        [ -1,  11]])"
      ]
     },
     "execution_count": 15,
     "metadata": {},
     "output_type": "execute_result"
    }
   ],
   "source": [
    "# Умножение матрицы B на A\n",
    "np.dot(B, A)"
   ]
  },
  {
   "cell_type": "code",
   "execution_count": 16,
   "metadata": {},
   "outputs": [
    {
     "name": "stdout",
     "output_type": "stream",
     "text": [
      "[[11  2]\n",
      " [ 7  1]]\n",
      "\n",
      "[[ 9 15]\n",
      " [ 2  3]]\n"
     ]
    }
   ],
   "source": [
    "# Умножние квадратных матриц (2, 2)\n",
    "A = np.matrix('2,3; 1,3')\n",
    "B = np.matrix('4,1; 1,0')\n",
    "\n",
    "print(np.dot(A, B))\n",
    "print()\n",
    "print(np.dot(B, A))"
   ]
  },
  {
   "cell_type": "code",
   "execution_count": 17,
   "metadata": {},
   "outputs": [
    {
     "name": "stdout",
     "output_type": "stream",
     "text": [
      "[[ 1 -1  2  4  0]\n",
      " [ 8  2  0  5  3]\n",
      " [ 0  1  2  1  2]]\n",
      "\n",
      "[[ 1  0  1  0]\n",
      " [ 0  0  2 -1]\n",
      " [ 1  0  1  1]\n",
      " [ 0  1  1  1]\n",
      " [ 1  1  0 -1]]\n"
     ]
    }
   ],
   "source": [
    "A = np.matrix('1,-1,2,4,0;8,2,0,5,3;0,1,2,1,2')\n",
    "B = np.matrix('1,0,1,0;0,0,2,-1;1,0,1,1;0,1,1,1;1,1,0,-1')\n",
    "print(A)\n",
    "print()\n",
    "print(B)"
   ]
  },
  {
   "cell_type": "code",
   "execution_count": 18,
   "metadata": {},
   "outputs": [
    {
     "name": "stdout",
     "output_type": "stream",
     "text": [
      "[[ 3  4  5  7]\n",
      " [11  8 17  0]\n",
      " [ 4  3  5  0]]\n",
      "\n",
      "4\n",
      "0\n"
     ]
    }
   ],
   "source": [
    "C = np.dot(A, B)\n",
    "print(C)\n",
    "print()\n",
    "print(C[0,1])\n",
    "print(C[2,3])"
   ]
  },
  {
   "cell_type": "markdown",
   "metadata": {},
   "source": [
    "# Вычисление обратной матрицы"
   ]
  },
  {
   "cell_type": "code",
   "execution_count": 19,
   "metadata": {},
   "outputs": [
    {
     "data": {
      "text/plain": [
       "matrix([[ 1,  2,  3],\n",
       "        [ 4,  5,  6],\n",
       "        [ 7,  8, 10]])"
      ]
     },
     "execution_count": 19,
     "metadata": {},
     "output_type": "execute_result"
    }
   ],
   "source": [
    "A = np.matrix('1,2,3;4,5,6;7,8,10')\n",
    "A"
   ]
  },
  {
   "cell_type": "code",
   "execution_count": 20,
   "metadata": {},
   "outputs": [
    {
     "data": {
      "text/plain": [
       "matrix([[-0.66666667, -1.33333333,  1.        ],\n",
       "        [-0.66666667,  3.66666667, -2.        ],\n",
       "        [ 1.        , -2.        ,  1.        ]])"
      ]
     },
     "execution_count": 20,
     "metadata": {},
     "output_type": "execute_result"
    }
   ],
   "source": [
    "np.linalg.inv(A) # Существует"
   ]
  },
  {
   "cell_type": "code",
   "execution_count": 21,
   "metadata": {},
   "outputs": [
    {
     "data": {
      "text/plain": [
       "matrix([[ 7., -2.],\n",
       "        [-3.,  1.]])"
      ]
     },
     "execution_count": 21,
     "metadata": {},
     "output_type": "execute_result"
    }
   ],
   "source": [
    "A = np.matrix('1,2;3,7')\n",
    "np.linalg.inv(A) # Существует"
   ]
  },
  {
   "cell_type": "code",
   "execution_count": 22,
   "metadata": {},
   "outputs": [
    {
     "ename": "LinAlgError",
     "evalue": "Singular matrix",
     "output_type": "error",
     "traceback": [
      "\u001b[0;31m---------------------------------------------------------------------------\u001b[0m",
      "\u001b[0;31mLinAlgError\u001b[0m                               Traceback (most recent call last)",
      "Cell \u001b[0;32mIn[22], line 2\u001b[0m\n\u001b[1;32m      1\u001b[0m A \u001b[38;5;241m=\u001b[39m np\u001b[38;5;241m.\u001b[39mmatrix(\u001b[38;5;124m'\u001b[39m\u001b[38;5;124m1,1; 0,0\u001b[39m\u001b[38;5;124m'\u001b[39m)\n\u001b[0;32m----> 2\u001b[0m \u001b[43mnp\u001b[49m\u001b[38;5;241;43m.\u001b[39;49m\u001b[43mlinalg\u001b[49m\u001b[38;5;241;43m.\u001b[39;49m\u001b[43minv\u001b[49m\u001b[43m(\u001b[49m\u001b[43mA\u001b[49m\u001b[43m)\u001b[49m \u001b[38;5;66;03m# НЕ Существует\u001b[39;00m\n",
      "File \u001b[0;32m~/.pyenv/versions/3.12.1/lib/python3.12/site-packages/numpy/linalg/_linalg.py:609\u001b[0m, in \u001b[0;36minv\u001b[0;34m(a)\u001b[0m\n\u001b[1;32m    606\u001b[0m signature \u001b[38;5;241m=\u001b[39m \u001b[38;5;124m'\u001b[39m\u001b[38;5;124mD->D\u001b[39m\u001b[38;5;124m'\u001b[39m \u001b[38;5;28;01mif\u001b[39;00m isComplexType(t) \u001b[38;5;28;01melse\u001b[39;00m \u001b[38;5;124m'\u001b[39m\u001b[38;5;124md->d\u001b[39m\u001b[38;5;124m'\u001b[39m\n\u001b[1;32m    607\u001b[0m \u001b[38;5;28;01mwith\u001b[39;00m errstate(call\u001b[38;5;241m=\u001b[39m_raise_linalgerror_singular, invalid\u001b[38;5;241m=\u001b[39m\u001b[38;5;124m'\u001b[39m\u001b[38;5;124mcall\u001b[39m\u001b[38;5;124m'\u001b[39m,\n\u001b[1;32m    608\u001b[0m               over\u001b[38;5;241m=\u001b[39m\u001b[38;5;124m'\u001b[39m\u001b[38;5;124mignore\u001b[39m\u001b[38;5;124m'\u001b[39m, divide\u001b[38;5;241m=\u001b[39m\u001b[38;5;124m'\u001b[39m\u001b[38;5;124mignore\u001b[39m\u001b[38;5;124m'\u001b[39m, under\u001b[38;5;241m=\u001b[39m\u001b[38;5;124m'\u001b[39m\u001b[38;5;124mignore\u001b[39m\u001b[38;5;124m'\u001b[39m):\n\u001b[0;32m--> 609\u001b[0m     ainv \u001b[38;5;241m=\u001b[39m \u001b[43m_umath_linalg\u001b[49m\u001b[38;5;241;43m.\u001b[39;49m\u001b[43minv\u001b[49m\u001b[43m(\u001b[49m\u001b[43ma\u001b[49m\u001b[43m,\u001b[49m\u001b[43m \u001b[49m\u001b[43msignature\u001b[49m\u001b[38;5;241;43m=\u001b[39;49m\u001b[43msignature\u001b[49m\u001b[43m)\u001b[49m\n\u001b[1;32m    610\u001b[0m \u001b[38;5;28;01mreturn\u001b[39;00m wrap(ainv\u001b[38;5;241m.\u001b[39mastype(result_t, copy\u001b[38;5;241m=\u001b[39m\u001b[38;5;28;01mFalse\u001b[39;00m))\n",
      "File \u001b[0;32m~/.pyenv/versions/3.12.1/lib/python3.12/site-packages/numpy/linalg/_linalg.py:104\u001b[0m, in \u001b[0;36m_raise_linalgerror_singular\u001b[0;34m(err, flag)\u001b[0m\n\u001b[1;32m    103\u001b[0m \u001b[38;5;28;01mdef\u001b[39;00m \u001b[38;5;21m_raise_linalgerror_singular\u001b[39m(err, flag):\n\u001b[0;32m--> 104\u001b[0m     \u001b[38;5;28;01mraise\u001b[39;00m LinAlgError(\u001b[38;5;124m\"\u001b[39m\u001b[38;5;124mSingular matrix\u001b[39m\u001b[38;5;124m\"\u001b[39m)\n",
      "\u001b[0;31mLinAlgError\u001b[0m: Singular matrix"
     ]
    }
   ],
   "source": [
    "A = np.matrix('1,1; 0,0')\n",
    "np.linalg.inv(A) # НЕ Существует"
   ]
  },
  {
   "cell_type": "code",
   "execution_count": null,
   "metadata": {},
   "outputs": [],
   "source": [
    "A = np.matrix('5,7; 3,-2')\n",
    "np.linalg.inv(A) # Существует"
   ]
  },
  {
   "cell_type": "markdown",
   "metadata": {},
   "source": [
    "# Определитель матриц"
   ]
  },
  {
   "cell_type": "code",
   "execution_count": null,
   "metadata": {},
   "outputs": [],
   "source": [
    "A = np.matrix('6,-3;9,11')\n",
    "np.linalg.det(A)"
   ]
  },
  {
   "cell_type": "code",
   "execution_count": null,
   "metadata": {},
   "outputs": [],
   "source": [
    "# Вырожденная матрица\n",
    "A_bad = np.matrix('1,1;0,0')\n",
    "np.linalg.det(A_bad) # = 0"
   ]
  },
  {
   "cell_type": "code",
   "execution_count": null,
   "metadata": {},
   "outputs": [],
   "source": [
    "A = np.matrix (\"1, 2, 3; 4, 5, 6 ; 7, 8, 10\")\n",
    "np.linalg.det(A)"
   ]
  },
  {
   "cell_type": "code",
   "execution_count": null,
   "metadata": {},
   "outputs": [],
   "source": [
    "A = np.matrix('2,0,0;0,1,0;0,0,4')\n",
    "A_1 = np.linalg.inv(A)\n",
    "\n",
    "print(f'det(A)={round(np.linalg.det(A))}')\n",
    "print(f'det(A)={np.linalg.det(A_1):3f}')"
   ]
  },
  {
   "cell_type": "code",
   "execution_count": null,
   "metadata": {},
   "outputs": [],
   "source": [
    "# Определяем ранг матрицы\n",
    "A = np.matrix('1,2,3;1,-1,0;2,3,5')\n",
    "rank_A = np.linalg.matrix_rank(A)\n",
    "print(f\"Ранг матрицы: {rank_A}\")\n",
    "\n",
    "# Определяем ранг матрицы\n",
    "B = np.matrix('1,2;2,4')\n",
    "rank_B = np.linalg.matrix_rank(B)\n",
    "print(f\"Ранг матрицы: {rank_B}\")"
   ]
  },
  {
   "cell_type": "code",
   "execution_count": null,
   "metadata": {},
   "outputs": [],
   "source": [
    "# Если ранг меньше числа столбцов, векторы линейно зависимы\n",
    "if rank_B < A.shape[1]:\n",
    "    print(\"Векторы линейно зависимы\")\n",
    "else:\n",
    "    print(\"Векторы линейно независимы\")"
   ]
  },
  {
   "cell_type": "code",
   "execution_count": null,
   "metadata": {},
   "outputs": [],
   "source": [
    "a = np.array([4,1,0])\n",
    "b = np.array([-1,4,0])\n",
    "c = np.array([0,0,1])\n",
    "A = np.array([a,b,c])\n",
    "\n",
    "rank = np.linalg.matrix_rank(A)\n",
    "# Если ранг меньше числа столбцов, векторы линейно зависимы\n",
    "if rank < A.shape[1]:\n",
    "    print(\"Векторы линейно зависимы\")\n",
    "else:\n",
    "    print(\"Векторы линейно независимы\")"
   ]
  },
  {
   "cell_type": "code",
   "execution_count": null,
   "metadata": {},
   "outputs": [],
   "source": [
    "# Ортогональны если 0\n",
    "print(\"(a,b):\", np.dot(a,b))\n",
    "print(\"(a,c):\", np.dot(a,c))\n",
    "print(\"(b,c):\", np.dot(b,c))"
   ]
  },
  {
   "cell_type": "code",
   "execution_count": null,
   "metadata": {},
   "outputs": [],
   "source": [
    "v1 = np.array([-1,2,-7,9]).T\n",
    "v2 = np.array([2,8,2,-1]).T\n",
    "\n",
    "print(v1 @ v2)"
   ]
  },
  {
   "cell_type": "code",
   "execution_count": null,
   "metadata": {},
   "outputs": [],
   "source": [
    "A = np.matrix('1,1;1,2')\n",
    "G = A.T @ A\n",
    "print(G)"
   ]
  },
  {
   "cell_type": "code",
   "execution_count": null,
   "metadata": {},
   "outputs": [],
   "source": [
    "A = np.matrix('1,2;3,7')\n",
    "print(np.linalg.det(A))\n",
    "\n",
    "A_inv = np.linalg.inv(A)\n",
    "print(A_inv)"
   ]
  },
  {
   "cell_type": "code",
   "execution_count": null,
   "metadata": {},
   "outputs": [],
   "source": [
    "v1 = np.array([2,10,-2]).T\n",
    "v2 = np.array([3,2,-2]).T\n",
    "v3 = np.array([8,14,-6]).T\n",
    "A = np.array([v1,v2,v3]).T\n",
    "print(A)\n",
    "\n",
    "print(np.linalg.matrix_rank(A))"
   ]
  },
  {
   "cell_type": "code",
   "execution_count": null,
   "metadata": {},
   "outputs": [],
   "source": [
    "A = np.matrix('5,1;10,2')\n",
    "print(A)\n",
    "\n",
    "rank = np.linalg.matrix_rank(A)\n",
    "\n",
    "n_var = A.shape[1]\n",
    "\n",
    "if rank == n_var:\n",
    "    print('Система имеет только одно тривиальное решение: (w1 = w2 = 0)')\n",
    "elif rank < n_var:\n",
    "    print('Система имеет множество решений, включая нетривиальные')"
   ]
  },
  {
   "cell_type": "code",
   "execution_count": null,
   "metadata": {},
   "outputs": [],
   "source": [
    "A = np.matrix('5,1,3;0,2,8;10,0,2')\n",
    "print(A)\n",
    "print(np.linalg.matrix_rank(A))"
   ]
  },
  {
   "cell_type": "code",
   "execution_count": null,
   "metadata": {},
   "outputs": [],
   "source": [
    "A = np.matrix('1,1;1,2')\n",
    "A_ex = np.matrix('1,1,1;1,2,2')\n",
    "print(A)\n",
    "print(A_ex)\n",
    "print(np.linalg.matrix_rank(A_ex))\n",
    "print(np.linalg.matrix_rank(A))"
   ]
  },
  {
   "cell_type": "code",
   "execution_count": null,
   "metadata": {},
   "outputs": [],
   "source": [
    "A_ext = np.matrix('1,1,2;1,7,3')\n",
    "A = np.matrix('1,1;1,7')\n",
    "B_ext = np.matrix('2,2,4;2,14,6')\n",
    "B = np.matrix('2,2;2,14')\n",
    "\n",
    "print(A_ext)\n",
    "print(B_ext)\n",
    "\n",
    "print(np.linalg.matrix_rank(A_ext))\n",
    "print(np.linalg.matrix_rank(B_ext))\n",
    "print(np.linalg.matrix_rank(A) == np.linalg.matrix_rank(A_ext))\n",
    "print(np.linalg.matrix_rank(B) == np.linalg.matrix_rank(B_ext))"
   ]
  },
  {
   "cell_type": "code",
   "execution_count": 23,
   "metadata": {},
   "outputs": [
    {
     "name": "stdout",
     "output_type": "stream",
     "text": [
      "Решение системы методом Гаусса:\n",
      "x1 = 3.5\n",
      "x2 = -3.0\n",
      "x3 = 1.0\n"
     ]
    }
   ],
   "source": [
    "from Math_algorithms import gauss_algorithm\n",
    "\n",
    "# Матрица коэффициентов\n",
    "A = np.array([\n",
    "    [2,1,1],\n",
    "    [4,3,1],\n",
    "    [6,5,2]\n",
    "    ])\n",
    "\n",
    "# Правая часть\n",
    "b = [5,6,8]\n",
    "\n",
    "# Решение\n",
    "solution = gauss_algorithm(A, b)\n",
    "print(\"Решение системы методом Гаусса:\")\n",
    "for i, x_i in enumerate(solution):\n",
    "    print(f\"x{i+1} = {x_i}\")"
   ]
  },
  {
   "cell_type": "code",
   "execution_count": 24,
   "metadata": {},
   "outputs": [
    {
     "name": "stdout",
     "output_type": "stream",
     "text": [
      "2\n",
      "4\n",
      "2\n",
      "4\n"
     ]
    }
   ],
   "source": [
    "A = np.array([\n",
    "    [4,7,-1],\n",
    "    [-4,2,5],\n",
    "    [0,9,4]\n",
    "])\n",
    "\n",
    "A_ext = A = np.array([\n",
    "    [4,7,-1,7],\n",
    "    [-4,2,5,3],\n",
    "    [0,9,4,10]\n",
    "])\n",
    "\n",
    "print(np.linalg.matrix_rank(A))\n",
    "print(A.shape[1])\n",
    "print(np.linalg.matrix_rank(A_ext))\n",
    "print(A_ext.shape[1])"
   ]
  },
  {
   "cell_type": "code",
   "execution_count": 27,
   "metadata": {},
   "outputs": [
    {
     "name": "stdout",
     "output_type": "stream",
     "text": [
      "rk(A) = 2\n",
      "rk(A_ext) = 3\n"
     ]
    }
   ],
   "source": [
    "# Система не имеет точных решений \n",
    "A = np.array([[1,1], \n",
    "             [1,2], \n",
    "             [1,1]])\n",
    "\n",
    "A_ext = np.array([[1,1,1], \n",
    "             [1,2,2], \n",
    "             [1,1,12]])\n",
    "\n",
    "print(f'rk(A) = {np.linalg.matrix_rank(A)}')\n",
    "print(f'rk(A_ext) = {np.linalg.matrix_rank(A_ext)}')"
   ]
  },
  {
   "cell_type": "code",
   "execution_count": 53,
   "metadata": {},
   "outputs": [
    {
     "name": "stdout",
     "output_type": "stream",
     "text": [
      "2\n",
      "2\n"
     ]
    }
   ],
   "source": [
    "A = np.array([[1,1,1],\n",
    "              [1,1,1],\n",
    "              [0,1,1]])\n",
    "\n",
    "print(np.linalg.matrix_rank(A))\n",
    "\n",
    "A_ext = np.array([[1,1,1,0],\n",
    "              [1,1,1,0],\n",
    "              [0,1,1,0]])\n",
    "\n",
    "print(np.linalg.matrix_rank(A_ext))"
   ]
  },
  {
   "cell_type": "code",
   "execution_count": 55,
   "metadata": {},
   "outputs": [
    {
     "name": "stdout",
     "output_type": "stream",
     "text": [
      "[[ 1 -3  1  1]\n",
      " [ 2  1  2 -1]]\n",
      "[[12  0]\n",
      " [ 0 10]]\n"
     ]
    }
   ],
   "source": [
    "A = np.array([[1,2],[-3,1],[1,2],[1,-1]])\n",
    "b = np.array([1,4,5,0])\n",
    "print(A.T)\n",
    "\n",
    "G = A.T @ A\n",
    "print(G)"
   ]
  },
  {
   "cell_type": "code",
   "execution_count": 56,
   "metadata": {},
   "outputs": [
    {
     "name": "stdout",
     "output_type": "stream",
     "text": [
      "120.00000000000009\n"
     ]
    }
   ],
   "source": [
    "print(np.linalg.det(G.T))"
   ]
  },
  {
   "cell_type": "code",
   "execution_count": 61,
   "metadata": {},
   "outputs": [
    {
     "name": "stdout",
     "output_type": "stream",
     "text": [
      "[[0.08333333 0.        ]\n",
      " [0.         0.1       ]]\n"
     ]
    }
   ],
   "source": [
    "ATA_inv = np.linalg.inv(G)\n",
    "print(ATA_inv)"
   ]
  },
  {
   "cell_type": "code",
   "execution_count": 64,
   "metadata": {},
   "outputs": [
    {
     "name": "stdout",
     "output_type": "stream",
     "text": [
      "[12 10]\n"
     ]
    }
   ],
   "source": [
    "diag = np.diag(G.T)\n",
    "print(diag)"
   ]
  },
  {
   "cell_type": "markdown",
   "metadata": {},
   "source": [
    "# Полиноминальная регрессия"
   ]
  },
  {
   "cell_type": "code",
   "execution_count": 25,
   "metadata": {},
   "outputs": [
    {
     "name": "stdout",
     "output_type": "stream",
     "text": [
      "[2.4        0.46666667 0.13333333]\n"
     ]
    }
   ],
   "source": [
    "A = np.array([\n",
    "    [1, 1, 1, 1],\n",
    "    [1, 3, -2, 1],\n",
    "    [1, 9, 4, 1]\n",
    "]).T\n",
    "\n",
    "y = np.array([4,5,2,2])\n",
    "\n",
    "w_hat = np.linalg.inv(A.T @ A) @ A.T @ y\n",
    "print(w_hat)"
   ]
  },
  {
   "cell_type": "code",
   "execution_count": 26,
   "metadata": {},
   "outputs": [
    {
     "name": "stdout",
     "output_type": "stream",
     "text": [
      "[-2.25799015  2.37672337 -0.1322068  -0.10208147 -0.26501791  0.29722471]\n"
     ]
    }
   ],
   "source": [
    "A = np.array([\n",
    "    [1, 1, 1, 1, 1, 1, 1],\n",
    "    [1, 3, -2, 1, 5, 13, 1],\n",
    "    [3, 4, 5, -2, 4, 11, 3],\n",
    "    [1, 9, 4, 1, 25, 169, 1],\n",
    "    [3, 12, -10, -2, 20, 143, 3],\n",
    "    [9, 16, 25, 4, 16, 121, 9]\n",
    "    \n",
    "]).T\n",
    "\n",
    "y = np.array([4, 5, 2, 2, 6, 8, -1])\n",
    "\n",
    "w_hat = np.linalg.inv(A.T @ A) @ A.T @ y\n",
    "print(w_hat)"
   ]
  }
 ],
 "metadata": {
  "kernelspec": {
   "display_name": "Python 3",
   "language": "python",
   "name": "python3"
  },
  "language_info": {
   "codemirror_mode": {
    "name": "ipython",
    "version": 3
   },
   "file_extension": ".py",
   "mimetype": "text/x-python",
   "name": "python",
   "nbconvert_exporter": "python",
   "pygments_lexer": "ipython3",
   "version": "3.12.1"
  }
 },
 "nbformat": 4,
 "nbformat_minor": 2
}
